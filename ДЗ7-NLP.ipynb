{
 "cells": [
  {
   "cell_type": "code",
   "execution_count": 119,
   "metadata": {},
   "outputs": [],
   "source": [
    "import numpy as np   \n",
    "import pandas as pd \n",
    "import seaborn as sns\n",
    "import matplotlib.pyplot as plt\n",
    "import warnings\n",
    "warnings.filterwarnings('ignore')\n",
    "from sklearn.model_selection import train_test_split\n",
    "\n",
    "%matplotlib inline"
   ]
  },
  {
   "cell_type": "code",
   "execution_count": 120,
   "metadata": {},
   "outputs": [],
   "source": [
    "df = pd.read_csv('A:\\Data/IMDB Dataset.csv')"
   ]
  },
  {
   "cell_type": "code",
   "execution_count": 121,
   "metadata": {},
   "outputs": [
    {
     "data": {
      "text/html": [
       "<div>\n",
       "<style scoped>\n",
       "    .dataframe tbody tr th:only-of-type {\n",
       "        vertical-align: middle;\n",
       "    }\n",
       "\n",
       "    .dataframe tbody tr th {\n",
       "        vertical-align: top;\n",
       "    }\n",
       "\n",
       "    .dataframe thead th {\n",
       "        text-align: right;\n",
       "    }\n",
       "</style>\n",
       "<table border=\"1\" class=\"dataframe\">\n",
       "  <thead>\n",
       "    <tr style=\"text-align: right;\">\n",
       "      <th></th>\n",
       "      <th>review</th>\n",
       "      <th>sentiment</th>\n",
       "    </tr>\n",
       "  </thead>\n",
       "  <tbody>\n",
       "    <tr>\n",
       "      <th>0</th>\n",
       "      <td>One of the other reviewers has mentioned that ...</td>\n",
       "      <td>positive</td>\n",
       "    </tr>\n",
       "    <tr>\n",
       "      <th>1</th>\n",
       "      <td>A wonderful little production. &lt;br /&gt;&lt;br /&gt;The...</td>\n",
       "      <td>positive</td>\n",
       "    </tr>\n",
       "    <tr>\n",
       "      <th>2</th>\n",
       "      <td>I thought this was a wonderful way to spend ti...</td>\n",
       "      <td>positive</td>\n",
       "    </tr>\n",
       "    <tr>\n",
       "      <th>3</th>\n",
       "      <td>Basically there's a family where a little boy ...</td>\n",
       "      <td>negative</td>\n",
       "    </tr>\n",
       "    <tr>\n",
       "      <th>4</th>\n",
       "      <td>Petter Mattei's \"Love in the Time of Money\" is...</td>\n",
       "      <td>positive</td>\n",
       "    </tr>\n",
       "    <tr>\n",
       "      <th>5</th>\n",
       "      <td>Probably my all-time favorite movie, a story o...</td>\n",
       "      <td>positive</td>\n",
       "    </tr>\n",
       "    <tr>\n",
       "      <th>6</th>\n",
       "      <td>I sure would like to see a resurrection of a u...</td>\n",
       "      <td>positive</td>\n",
       "    </tr>\n",
       "    <tr>\n",
       "      <th>7</th>\n",
       "      <td>This show was an amazing, fresh &amp; innovative i...</td>\n",
       "      <td>negative</td>\n",
       "    </tr>\n",
       "    <tr>\n",
       "      <th>8</th>\n",
       "      <td>Encouraged by the positive comments about this...</td>\n",
       "      <td>negative</td>\n",
       "    </tr>\n",
       "    <tr>\n",
       "      <th>9</th>\n",
       "      <td>If you like original gut wrenching laughter yo...</td>\n",
       "      <td>positive</td>\n",
       "    </tr>\n",
       "  </tbody>\n",
       "</table>\n",
       "</div>"
      ],
      "text/plain": [
       "                                              review sentiment\n",
       "0  One of the other reviewers has mentioned that ...  positive\n",
       "1  A wonderful little production. <br /><br />The...  positive\n",
       "2  I thought this was a wonderful way to spend ti...  positive\n",
       "3  Basically there's a family where a little boy ...  negative\n",
       "4  Petter Mattei's \"Love in the Time of Money\" is...  positive\n",
       "5  Probably my all-time favorite movie, a story o...  positive\n",
       "6  I sure would like to see a resurrection of a u...  positive\n",
       "7  This show was an amazing, fresh & innovative i...  negative\n",
       "8  Encouraged by the positive comments about this...  negative\n",
       "9  If you like original gut wrenching laughter yo...  positive"
      ]
     },
     "execution_count": 121,
     "metadata": {},
     "output_type": "execute_result"
    }
   ],
   "source": [
    "df.head(10)"
   ]
  },
  {
   "cell_type": "code",
   "execution_count": 122,
   "metadata": {},
   "outputs": [
    {
     "data": {
      "text/plain": [
       "(50000, 2)"
      ]
     },
     "execution_count": 122,
     "metadata": {},
     "output_type": "execute_result"
    }
   ],
   "source": [
    "df.shape"
   ]
  },
  {
   "cell_type": "code",
   "execution_count": 123,
   "metadata": {},
   "outputs": [
    {
     "data": {
      "text/plain": [
       "<bound method DataFrame.info of                                                   review sentiment\n",
       "0      One of the other reviewers has mentioned that ...  positive\n",
       "1      A wonderful little production. <br /><br />The...  positive\n",
       "2      I thought this was a wonderful way to spend ti...  positive\n",
       "3      Basically there's a family where a little boy ...  negative\n",
       "4      Petter Mattei's \"Love in the Time of Money\" is...  positive\n",
       "...                                                  ...       ...\n",
       "49995  I thought this movie did a down right good job...  positive\n",
       "49996  Bad plot, bad dialogue, bad acting, idiotic di...  negative\n",
       "49997  I am a Catholic taught in parochial elementary...  negative\n",
       "49998  I'm going to have to disagree with the previou...  negative\n",
       "49999  No one expects the Star Trek movies to be high...  negative\n",
       "\n",
       "[50000 rows x 2 columns]>"
      ]
     },
     "execution_count": 123,
     "metadata": {},
     "output_type": "execute_result"
    }
   ],
   "source": [
    "df.info"
   ]
  },
  {
   "cell_type": "code",
   "execution_count": 124,
   "metadata": {},
   "outputs": [
    {
     "data": {
      "text/plain": [
       "positive    25000\n",
       "negative    25000\n",
       "Name: sentiment, dtype: int64"
      ]
     },
     "execution_count": 124,
     "metadata": {},
     "output_type": "execute_result"
    }
   ],
   "source": [
    "df['sentiment'].value_counts()"
   ]
  },
  {
   "cell_type": "markdown",
   "metadata": {},
   "source": [
    "##### Имеется 2 столбца-описание и отзыв,мнение. Отзыв - это таргет,что надо предсказать.\n",
    "##### Фрейм имеет равное количество положительных и отрицательных отзывов\n",
    "##### Возьму любой отзыв и посмотрю как можно его очистить."
   ]
  },
  {
   "cell_type": "code",
   "execution_count": 125,
   "metadata": {},
   "outputs": [
    {
     "data": {
      "text/plain": [
       "\"This show was an amazing, fresh & innovative idea in the 70's when it first aired. The first 7 or 8 years were brilliant, but things dropped off after that. By 1990, the show was not really funny anymore, and it's continued its decline further to the complete waste of time it is today.<br /><br />It's truly disgraceful how far this show has fallen. The writing is painfully bad, the performances are almost as bad - if not for the mildly entertaining respite of the guest-hosts, this show probably wouldn't still be on the air. I find it so hard to believe that the same creator that hand-selected the original cast also chose the band of hacks that followed. How can one recognize such brilliance and then see fit to replace it with such mediocrity? I felt I must give 2 stars out of respect for the original cast that made this show such a huge success. As it is now, the show is just awful. I can't believe it's still on the air.\""
      ]
     },
     "execution_count": 125,
     "metadata": {},
     "output_type": "execute_result"
    }
   ],
   "source": [
    "review = df['review'].loc[7]\n",
    "review"
   ]
  },
  {
   "cell_type": "code",
   "execution_count": 126,
   "metadata": {},
   "outputs": [
    {
     "data": {
      "text/plain": [
       "934"
      ]
     },
     "execution_count": 126,
     "metadata": {},
     "output_type": "execute_result"
    }
   ],
   "source": [
    "len(review)"
   ]
  },
  {
   "cell_type": "markdown",
   "metadata": {},
   "source": [
    "##### На первый взгляд взятый текст не содержит HTML теги,но на всякий случай почищу"
   ]
  },
  {
   "cell_type": "code",
   "execution_count": 127,
   "metadata": {},
   "outputs": [
    {
     "data": {
      "text/plain": [
       "\"This show was an amazing, fresh & innovative idea in the 70's when it first aired. The first 7 or 8 years were brilliant, but things dropped off after that. By 1990, the show was not really funny anymore, and it's continued its decline further to the complete waste of time it is today.It's truly disgraceful how far this show has fallen. The writing is painfully bad, the performances are almost as bad - if not for the mildly entertaining respite of the guest-hosts, this show probably wouldn't still be on the air. I find it so hard to believe that the same creator that hand-selected the original cast also chose the band of hacks that followed. How can one recognize such brilliance and then see fit to replace it with such mediocrity? I felt I must give 2 stars out of respect for the original cast that made this show such a huge success. As it is now, the show is just awful. I can't believe it's still on the air.\""
      ]
     },
     "execution_count": 127,
     "metadata": {},
     "output_type": "execute_result"
    }
   ],
   "source": [
    "from bs4 import BeautifulSoup\n",
    "\n",
    "soup = BeautifulSoup(review, \"html.parser\")\n",
    "review = soup.get_text()\n",
    "review"
   ]
  },
  {
   "cell_type": "markdown",
   "metadata": {},
   "source": [
    "##### С помощью регулярных выражений удалю все знаки кроме букв и цифр"
   ]
  },
  {
   "cell_type": "code",
   "execution_count": 128,
   "metadata": {},
   "outputs": [
    {
     "data": {
      "text/plain": [
       "'This show was an amazing  fresh   innovative idea in the 70 s when it first aired  The first 7 or 8 years were brilliant  but things dropped off after that  By 1990  the show was not really funny anymore  and it s continued its decline further to the complete waste of time it is today It s truly disgraceful how far this show has fallen  The writing is painfully bad  the performances are almost as bad   if not for the mildly entertaining respite of the guest hosts  this show probably wouldn t still be on the air  I find it so hard to believe that the same creator that hand selected the original cast also chose the band of hacks that followed  How can one recognize such brilliance and then see fit to replace it with such mediocrity  I felt I must give 2 stars out of respect for the original cast that made this show such a huge success  As it is now  the show is just awful  I can t believe it s still on the air '"
      ]
     },
     "execution_count": 128,
     "metadata": {},
     "output_type": "execute_result"
    }
   ],
   "source": [
    "import re\n",
    "review = re.sub('[^a-zA-Z\\d]', ' ', review)\n",
    "review"
   ]
  },
  {
   "cell_type": "markdown",
   "metadata": {},
   "source": [
    "##### Приведу текст к нижнему регистру"
   ]
  },
  {
   "cell_type": "code",
   "execution_count": 129,
   "metadata": {},
   "outputs": [
    {
     "data": {
      "text/plain": [
       "'this show was an amazing  fresh   innovative idea in the 70 s when it first aired  the first 7 or 8 years were brilliant  but things dropped off after that  by 1990  the show was not really funny anymore  and it s continued its decline further to the complete waste of time it is today it s truly disgraceful how far this show has fallen  the writing is painfully bad  the performances are almost as bad   if not for the mildly entertaining respite of the guest hosts  this show probably wouldn t still be on the air  i find it so hard to believe that the same creator that hand selected the original cast also chose the band of hacks that followed  how can one recognize such brilliance and then see fit to replace it with such mediocrity  i felt i must give 2 stars out of respect for the original cast that made this show such a huge success  as it is now  the show is just awful  i can t believe it s still on the air '"
      ]
     },
     "execution_count": 129,
     "metadata": {},
     "output_type": "execute_result"
    }
   ],
   "source": [
    "review = review.lower()\n",
    "review"
   ]
  },
  {
   "cell_type": "markdown",
   "metadata": {},
   "source": [
    "##### Для работы со стоп словами разделю текст"
   ]
  },
  {
   "cell_type": "code",
   "execution_count": 130,
   "metadata": {},
   "outputs": [
    {
     "data": {
      "text/plain": [
       "['this',\n",
       " 'show',\n",
       " 'was',\n",
       " 'an',\n",
       " 'amazing',\n",
       " 'fresh',\n",
       " 'innovative',\n",
       " 'idea',\n",
       " 'in',\n",
       " 'the',\n",
       " '70',\n",
       " 's',\n",
       " 'when',\n",
       " 'it',\n",
       " 'first',\n",
       " 'aired',\n",
       " 'the',\n",
       " 'first',\n",
       " '7',\n",
       " 'or',\n",
       " '8',\n",
       " 'years',\n",
       " 'were',\n",
       " 'brilliant',\n",
       " 'but',\n",
       " 'things',\n",
       " 'dropped',\n",
       " 'off',\n",
       " 'after',\n",
       " 'that',\n",
       " 'by',\n",
       " '1990',\n",
       " 'the',\n",
       " 'show',\n",
       " 'was',\n",
       " 'not',\n",
       " 'really',\n",
       " 'funny',\n",
       " 'anymore',\n",
       " 'and',\n",
       " 'it',\n",
       " 's',\n",
       " 'continued',\n",
       " 'its',\n",
       " 'decline',\n",
       " 'further',\n",
       " 'to',\n",
       " 'the',\n",
       " 'complete',\n",
       " 'waste',\n",
       " 'of',\n",
       " 'time',\n",
       " 'it',\n",
       " 'is',\n",
       " 'today',\n",
       " 'it',\n",
       " 's',\n",
       " 'truly',\n",
       " 'disgraceful',\n",
       " 'how',\n",
       " 'far',\n",
       " 'this',\n",
       " 'show',\n",
       " 'has',\n",
       " 'fallen',\n",
       " 'the',\n",
       " 'writing',\n",
       " 'is',\n",
       " 'painfully',\n",
       " 'bad',\n",
       " 'the',\n",
       " 'performances',\n",
       " 'are',\n",
       " 'almost',\n",
       " 'as',\n",
       " 'bad',\n",
       " 'if',\n",
       " 'not',\n",
       " 'for',\n",
       " 'the',\n",
       " 'mildly',\n",
       " 'entertaining',\n",
       " 'respite',\n",
       " 'of',\n",
       " 'the',\n",
       " 'guest',\n",
       " 'hosts',\n",
       " 'this',\n",
       " 'show',\n",
       " 'probably',\n",
       " 'wouldn',\n",
       " 't',\n",
       " 'still',\n",
       " 'be',\n",
       " 'on',\n",
       " 'the',\n",
       " 'air',\n",
       " 'i',\n",
       " 'find',\n",
       " 'it',\n",
       " 'so',\n",
       " 'hard',\n",
       " 'to',\n",
       " 'believe',\n",
       " 'that',\n",
       " 'the',\n",
       " 'same',\n",
       " 'creator',\n",
       " 'that',\n",
       " 'hand',\n",
       " 'selected',\n",
       " 'the',\n",
       " 'original',\n",
       " 'cast',\n",
       " 'also',\n",
       " 'chose',\n",
       " 'the',\n",
       " 'band',\n",
       " 'of',\n",
       " 'hacks',\n",
       " 'that',\n",
       " 'followed',\n",
       " 'how',\n",
       " 'can',\n",
       " 'one',\n",
       " 'recognize',\n",
       " 'such',\n",
       " 'brilliance',\n",
       " 'and',\n",
       " 'then',\n",
       " 'see',\n",
       " 'fit',\n",
       " 'to',\n",
       " 'replace',\n",
       " 'it',\n",
       " 'with',\n",
       " 'such',\n",
       " 'mediocrity',\n",
       " 'i',\n",
       " 'felt',\n",
       " 'i',\n",
       " 'must',\n",
       " 'give',\n",
       " '2',\n",
       " 'stars',\n",
       " 'out',\n",
       " 'of',\n",
       " 'respect',\n",
       " 'for',\n",
       " 'the',\n",
       " 'original',\n",
       " 'cast',\n",
       " 'that',\n",
       " 'made',\n",
       " 'this',\n",
       " 'show',\n",
       " 'such',\n",
       " 'a',\n",
       " 'huge',\n",
       " 'success',\n",
       " 'as',\n",
       " 'it',\n",
       " 'is',\n",
       " 'now',\n",
       " 'the',\n",
       " 'show',\n",
       " 'is',\n",
       " 'just',\n",
       " 'awful',\n",
       " 'i',\n",
       " 'can',\n",
       " 't',\n",
       " 'believe',\n",
       " 'it',\n",
       " 's',\n",
       " 'still',\n",
       " 'on',\n",
       " 'the',\n",
       " 'air']"
      ]
     },
     "execution_count": 130,
     "metadata": {},
     "output_type": "execute_result"
    }
   ],
   "source": [
    "review = review.split()\n",
    "review"
   ]
  },
  {
   "cell_type": "markdown",
   "metadata": {},
   "source": [
    "##### Удаляю стоп слова с помощью библиотеки NLTK"
   ]
  },
  {
   "cell_type": "code",
   "execution_count": 131,
   "metadata": {},
   "outputs": [
    {
     "name": "stderr",
     "output_type": "stream",
     "text": [
      "[nltk_data] Downloading package stopwords to\n",
      "[nltk_data]     C:\\Users\\александр\\AppData\\Roaming\\nltk_data...\n",
      "[nltk_data]   Package stopwords is already up-to-date!\n"
     ]
    },
    {
     "data": {
      "text/plain": [
       "['show',\n",
       " 'amazing',\n",
       " 'fresh',\n",
       " 'innovative',\n",
       " 'idea',\n",
       " '70',\n",
       " 'first',\n",
       " 'aired',\n",
       " 'first',\n",
       " '7',\n",
       " '8',\n",
       " 'years',\n",
       " 'brilliant',\n",
       " 'things',\n",
       " 'dropped',\n",
       " '1990',\n",
       " 'show',\n",
       " 'really',\n",
       " 'funny',\n",
       " 'anymore',\n",
       " 'continued',\n",
       " 'decline',\n",
       " 'complete',\n",
       " 'waste',\n",
       " 'time',\n",
       " 'today',\n",
       " 'truly',\n",
       " 'disgraceful',\n",
       " 'far',\n",
       " 'show',\n",
       " 'fallen',\n",
       " 'writing',\n",
       " 'painfully',\n",
       " 'bad',\n",
       " 'performances',\n",
       " 'almost',\n",
       " 'bad',\n",
       " 'mildly',\n",
       " 'entertaining',\n",
       " 'respite',\n",
       " 'guest',\n",
       " 'hosts',\n",
       " 'show',\n",
       " 'probably',\n",
       " 'still',\n",
       " 'air',\n",
       " 'find',\n",
       " 'hard',\n",
       " 'believe',\n",
       " 'creator',\n",
       " 'hand',\n",
       " 'selected',\n",
       " 'original',\n",
       " 'cast',\n",
       " 'also',\n",
       " 'chose',\n",
       " 'band',\n",
       " 'hacks',\n",
       " 'followed',\n",
       " 'one',\n",
       " 'recognize',\n",
       " 'brilliance',\n",
       " 'see',\n",
       " 'fit',\n",
       " 'replace',\n",
       " 'mediocrity',\n",
       " 'felt',\n",
       " 'must',\n",
       " 'give',\n",
       " '2',\n",
       " 'stars',\n",
       " 'respect',\n",
       " 'original',\n",
       " 'cast',\n",
       " 'made',\n",
       " 'show',\n",
       " 'huge',\n",
       " 'success',\n",
       " 'show',\n",
       " 'awful',\n",
       " 'believe',\n",
       " 'still',\n",
       " 'air']"
      ]
     },
     "execution_count": 131,
     "metadata": {},
     "output_type": "execute_result"
    }
   ],
   "source": [
    "import nltk\n",
    "nltk.download('stopwords')\n",
    "from nltk.corpus import stopwords\n",
    "\n",
    "review = [word for word in review if not word in set(stopwords.words('english'))]\n",
    "review"
   ]
  },
  {
   "cell_type": "markdown",
   "metadata": {},
   "source": [
    "##### Сделаю стемматизацию и лемматизацию. Посмотрю что лучше сработает,то и оставлю"
   ]
  },
  {
   "cell_type": "code",
   "execution_count": 132,
   "metadata": {},
   "outputs": [
    {
     "data": {
      "text/plain": [
       "['show',\n",
       " 'amaz',\n",
       " 'fresh',\n",
       " 'innov',\n",
       " 'idea',\n",
       " '70',\n",
       " 'first',\n",
       " 'air',\n",
       " 'first',\n",
       " '7',\n",
       " '8',\n",
       " 'year',\n",
       " 'brilliant',\n",
       " 'thing',\n",
       " 'drop',\n",
       " '1990',\n",
       " 'show',\n",
       " 'realli',\n",
       " 'funni',\n",
       " 'anymor',\n",
       " 'continu',\n",
       " 'declin',\n",
       " 'complet',\n",
       " 'wast',\n",
       " 'time',\n",
       " 'today',\n",
       " 'truli',\n",
       " 'disgrac',\n",
       " 'far',\n",
       " 'show',\n",
       " 'fallen',\n",
       " 'write',\n",
       " 'pain',\n",
       " 'bad',\n",
       " 'perform',\n",
       " 'almost',\n",
       " 'bad',\n",
       " 'mildli',\n",
       " 'entertain',\n",
       " 'respit',\n",
       " 'guest',\n",
       " 'host',\n",
       " 'show',\n",
       " 'probabl',\n",
       " 'still',\n",
       " 'air',\n",
       " 'find',\n",
       " 'hard',\n",
       " 'believ',\n",
       " 'creator',\n",
       " 'hand',\n",
       " 'select',\n",
       " 'origin',\n",
       " 'cast',\n",
       " 'also',\n",
       " 'chose',\n",
       " 'band',\n",
       " 'hack',\n",
       " 'follow',\n",
       " 'one',\n",
       " 'recogn',\n",
       " 'brillianc',\n",
       " 'see',\n",
       " 'fit',\n",
       " 'replac',\n",
       " 'mediocr',\n",
       " 'felt',\n",
       " 'must',\n",
       " 'give',\n",
       " '2',\n",
       " 'star',\n",
       " 'respect',\n",
       " 'origin',\n",
       " 'cast',\n",
       " 'made',\n",
       " 'show',\n",
       " 'huge',\n",
       " 'success',\n",
       " 'show',\n",
       " 'aw',\n",
       " 'believ',\n",
       " 'still',\n",
       " 'air']"
      ]
     },
     "execution_count": 132,
     "metadata": {},
     "output_type": "execute_result"
    }
   ],
   "source": [
    "from nltk.stem.porter import PorterStemmer\n",
    "\n",
    "ps = PorterStemmer()\n",
    "review_s = [ps.stem(word) for word in review]\n",
    "review_s"
   ]
  },
  {
   "cell_type": "code",
   "execution_count": 133,
   "metadata": {},
   "outputs": [
    {
     "data": {
      "text/plain": [
       "['show',\n",
       " 'amazing',\n",
       " 'fresh',\n",
       " 'innovative',\n",
       " 'idea',\n",
       " '70',\n",
       " 'first',\n",
       " 'aired',\n",
       " 'first',\n",
       " '7',\n",
       " '8',\n",
       " 'year',\n",
       " 'brilliant',\n",
       " 'thing',\n",
       " 'dropped',\n",
       " '1990',\n",
       " 'show',\n",
       " 'really',\n",
       " 'funny',\n",
       " 'anymore',\n",
       " 'continued',\n",
       " 'decline',\n",
       " 'complete',\n",
       " 'waste',\n",
       " 'time',\n",
       " 'today',\n",
       " 'truly',\n",
       " 'disgraceful',\n",
       " 'far',\n",
       " 'show',\n",
       " 'fallen',\n",
       " 'writing',\n",
       " 'painfully',\n",
       " 'bad',\n",
       " 'performance',\n",
       " 'almost',\n",
       " 'bad',\n",
       " 'mildly',\n",
       " 'entertaining',\n",
       " 'respite',\n",
       " 'guest',\n",
       " 'host',\n",
       " 'show',\n",
       " 'probably',\n",
       " 'still',\n",
       " 'air',\n",
       " 'find',\n",
       " 'hard',\n",
       " 'believe',\n",
       " 'creator',\n",
       " 'hand',\n",
       " 'selected',\n",
       " 'original',\n",
       " 'cast',\n",
       " 'also',\n",
       " 'chose',\n",
       " 'band',\n",
       " 'hack',\n",
       " 'followed',\n",
       " 'one',\n",
       " 'recognize',\n",
       " 'brilliance',\n",
       " 'see',\n",
       " 'fit',\n",
       " 'replace',\n",
       " 'mediocrity',\n",
       " 'felt',\n",
       " 'must',\n",
       " 'give',\n",
       " '2',\n",
       " 'star',\n",
       " 'respect',\n",
       " 'original',\n",
       " 'cast',\n",
       " 'made',\n",
       " 'show',\n",
       " 'huge',\n",
       " 'success',\n",
       " 'show',\n",
       " 'awful',\n",
       " 'believe',\n",
       " 'still',\n",
       " 'air']"
      ]
     },
     "execution_count": 133,
     "metadata": {},
     "output_type": "execute_result"
    }
   ],
   "source": [
    "from nltk.stem import WordNetLemmatizer\n",
    "\n",
    "lem = WordNetLemmatizer()\n",
    "review = [lem.lemmatize(word) for word in review]\n",
    "review"
   ]
  },
  {
   "cell_type": "markdown",
   "metadata": {},
   "source": [
    "##### Лемматизация лучше обработала данный текст,использую её\n",
    "##### Объединю слова в обработанный текст"
   ]
  },
  {
   "cell_type": "code",
   "execution_count": 134,
   "metadata": {},
   "outputs": [
    {
     "data": {
      "text/plain": [
       "'show amazing fresh innovative idea 70 first aired first 7 8 year brilliant thing dropped 1990 show really funny anymore continued decline complete waste time today truly disgraceful far show fallen writing painfully bad performance almost bad mildly entertaining respite guest host show probably still air find hard believe creator hand selected original cast also chose band hack followed one recognize brilliance see fit replace mediocrity felt must give 2 star respect original cast made show huge success show awful believe still air'"
      ]
     },
     "execution_count": 134,
     "metadata": {},
     "output_type": "execute_result"
    }
   ],
   "source": [
    "review = ' '.join(review)\n",
    "review"
   ]
  },
  {
   "cell_type": "code",
   "execution_count": 135,
   "metadata": {},
   "outputs": [
    {
     "data": {
      "text/plain": [
       "537"
      ]
     },
     "execution_count": 135,
     "metadata": {},
     "output_type": "execute_result"
    }
   ],
   "source": [
    "len(review)"
   ]
  },
  {
   "cell_type": "markdown",
   "metadata": {},
   "source": [
    "##### Было 934 знака,стало-537"
   ]
  },
  {
   "cell_type": "markdown",
   "metadata": {},
   "source": [
    "#### Перевожу этот текст в матричную форму"
   ]
  },
  {
   "cell_type": "code",
   "execution_count": 136,
   "metadata": {},
   "outputs": [],
   "source": [
    "docs = []\n",
    "docs.append(review)"
   ]
  },
  {
   "cell_type": "code",
   "execution_count": 137,
   "metadata": {},
   "outputs": [
    {
     "data": {
      "text/plain": [
       "['show amazing fresh innovative idea 70 first aired first 7 8 year brilliant thing dropped 1990 show really funny anymore continued decline complete waste time today truly disgraceful far show fallen writing painfully bad performance almost bad mildly entertaining respite guest host show probably still air find hard believe creator hand selected original cast also chose band hack followed one recognize brilliance see fit replace mediocrity felt must give 2 star respect original cast made show huge success show awful believe still air']"
      ]
     },
     "execution_count": 137,
     "metadata": {},
     "output_type": "execute_result"
    }
   ],
   "source": [
    "docs"
   ]
  },
  {
   "cell_type": "markdown",
   "metadata": {},
   "source": [
    "#### На примере одного текста проверю как работает TD-IDF преобразование "
   ]
  },
  {
   "cell_type": "code",
   "execution_count": 138,
   "metadata": {},
   "outputs": [
    {
     "data": {
      "text/plain": [
       "array([[0.08980265, 0.08980265, 0.1796053 , 0.08980265, 0.08980265,\n",
       "        0.08980265, 0.08980265, 0.08980265, 0.08980265, 0.1796053 ,\n",
       "        0.08980265, 0.1796053 , 0.08980265, 0.08980265, 0.1796053 ,\n",
       "        0.08980265, 0.08980265, 0.08980265, 0.08980265, 0.08980265,\n",
       "        0.08980265, 0.08980265, 0.08980265, 0.08980265, 0.08980265,\n",
       "        0.08980265, 0.08980265, 0.1796053 , 0.08980265, 0.08980265,\n",
       "        0.08980265, 0.08980265, 0.08980265, 0.08980265, 0.08980265,\n",
       "        0.08980265, 0.08980265, 0.08980265, 0.08980265, 0.08980265,\n",
       "        0.08980265, 0.08980265, 0.08980265, 0.08980265, 0.08980265,\n",
       "        0.08980265, 0.1796053 , 0.08980265, 0.08980265, 0.08980265,\n",
       "        0.08980265, 0.08980265, 0.08980265, 0.08980265, 0.08980265,\n",
       "        0.08980265, 0.08980265, 0.53881591, 0.08980265, 0.1796053 ,\n",
       "        0.08980265, 0.08980265, 0.08980265, 0.08980265, 0.08980265,\n",
       "        0.08980265, 0.08980265, 0.08980265]])"
      ]
     },
     "execution_count": 138,
     "metadata": {},
     "output_type": "execute_result"
    }
   ],
   "source": [
    "from sklearn.feature_extraction.text import TfidfVectorizer\n",
    "\n",
    "vect = TfidfVectorizer()\n",
    "review_vect = vect.fit_transform(docs)\n",
    "\n",
    "review_vect.toarray()"
   ]
  },
  {
   "cell_type": "markdown",
   "metadata": {},
   "source": [
    "#### Применю все эти методы ко всему датафрейму."
   ]
  },
  {
   "cell_type": "code",
   "execution_count": 139,
   "metadata": {},
   "outputs": [],
   "source": [
    "stop = stopwords.words('english')"
   ]
  },
  {
   "cell_type": "code",
   "execution_count": 140,
   "metadata": {},
   "outputs": [],
   "source": [
    "def df_Lem(text):\n",
    "    return ' '.join([lem.lemmatize(word) for word in text.split(' ') if word not in stop])"
   ]
  },
  {
   "cell_type": "code",
   "execution_count": 143,
   "metadata": {},
   "outputs": [],
   "source": [
    "df.review = df.review.apply(lambda x: df_Lem(x))"
   ]
  },
  {
   "cell_type": "code",
   "execution_count": 144,
   "metadata": {},
   "outputs": [],
   "source": [
    "df.sentiment = df.sentiment.replace('positive', 1)\n",
    "df.sentiment = df.sentiment.replace('negative', 0)"
   ]
  },
  {
   "cell_type": "code",
   "execution_count": 145,
   "metadata": {},
   "outputs": [],
   "source": [
    "X = df.review\n",
    "y = df.sentiment"
   ]
  },
  {
   "cell_type": "code",
   "execution_count": 146,
   "metadata": {},
   "outputs": [
    {
     "data": {
      "text/plain": [
       "1    25000\n",
       "0    25000\n",
       "Name: sentiment, dtype: int64"
      ]
     },
     "execution_count": 146,
     "metadata": {},
     "output_type": "execute_result"
    }
   ],
   "source": [
    "y.value_counts()"
   ]
  },
  {
   "cell_type": "markdown",
   "metadata": {},
   "source": [
    "#### Разбиваю на train,test"
   ]
  },
  {
   "cell_type": "code",
   "execution_count": 149,
   "metadata": {},
   "outputs": [],
   "source": [
    "X_train, X_test, y_train, y_test = train_test_split(X, y, test_size=0.30, random_state=42)"
   ]
  },
  {
   "cell_type": "code",
   "execution_count": 151,
   "metadata": {},
   "outputs": [
    {
     "data": {
      "text/plain": [
       "0    17589\n",
       "1    17411\n",
       "Name: sentiment, dtype: int64"
      ]
     },
     "execution_count": 151,
     "metadata": {},
     "output_type": "execute_result"
    }
   ],
   "source": [
    "y_train.value_counts()"
   ]
  },
  {
   "cell_type": "markdown",
   "metadata": {},
   "source": [
    "#### Применяю TD-IDF преобразование \"из коробки\", с регуляризацией и единичными токенами"
   ]
  },
  {
   "cell_type": "code",
   "execution_count": 161,
   "metadata": {},
   "outputs": [
    {
     "data": {
      "text/plain": [
       "((35000, 86081), (15000, 86081))"
      ]
     },
     "execution_count": 161,
     "metadata": {},
     "output_type": "execute_result"
    }
   ],
   "source": [
    "vect = TfidfVectorizer()\n",
    "\n",
    "vect_train = vect.fit_transform(X_train)\n",
    "vect_test = vect.transform(X_test)\n",
    "\n",
    "vect_train.shape,vect_test.shape"
   ]
  },
  {
   "cell_type": "markdown",
   "metadata": {},
   "source": [
    "#### Поскольку целевая переменная в нашем случае дискретная(полож./отриц. отзыв),то воспользуюсь логистической регрессией"
   ]
  },
  {
   "cell_type": "code",
   "execution_count": 64,
   "metadata": {},
   "outputs": [],
   "source": [
    "from sklearn.linear_model import LogisticRegression"
   ]
  },
  {
   "cell_type": "code",
   "execution_count": 65,
   "metadata": {},
   "outputs": [],
   "source": [
    "log_reg = LogisticRegression()\n",
    "\n",
    "log_reg.fit(vect_train, y_train)\n",
    "\n",
    "predict = log_reg.predict(vect_test)"
   ]
  },
  {
   "cell_type": "code",
   "execution_count": 90,
   "metadata": {},
   "outputs": [
    {
     "data": {
      "text/plain": [
       "(1, 3399)"
      ]
     },
     "execution_count": 90,
     "metadata": {},
     "output_type": "execute_result"
    }
   ],
   "source": [
    "log_reg.coef_.shape"
   ]
  },
  {
   "cell_type": "markdown",
   "metadata": {},
   "source": [
    "#### Посмотрим что получилось"
   ]
  },
  {
   "cell_type": "code",
   "execution_count": 167,
   "metadata": {},
   "outputs": [
    {
     "name": "stdout",
     "output_type": "stream",
     "text": [
      "Classification Report: \n",
      "               precision    recall  f1-score   support\n",
      "\n",
      "    Negative       0.87      0.84      0.86      7411\n",
      "    Positive       0.85      0.88      0.87      7589\n",
      "\n",
      "    accuracy                           0.86     15000\n",
      "   macro avg       0.86      0.86      0.86     15000\n",
      "weighted avg       0.86      0.86      0.86     15000\n",
      "\n",
      "Confusion Matrix: \n",
      " [[6243 1168]\n",
      " [ 896 6693]]\n",
      "Accuracy: \n",
      " 0.8624\n"
     ]
    }
   ],
   "source": [
    "from sklearn.metrics import classification_report, confusion_matrix, accuracy_score\n",
    "\n",
    "print(\"Classification Report: \\n\", classification_report(y_test, predict,target_names=['Negative','Positive']))\n",
    "print(\"Confusion Matrix: \\n\", confusion_matrix(y_test, predict))\n",
    "print(\"Accuracy: \\n\", accuracy_score(y_test, predict))"
   ]
  },
  {
   "cell_type": "markdown",
   "metadata": {},
   "source": [
    "#### Повторю,используя биграммы"
   ]
  },
  {
   "cell_type": "code",
   "execution_count": 168,
   "metadata": {},
   "outputs": [],
   "source": [
    "vect1 = TfidfVectorizer(ngram_range=(2, 2))\n",
    "\n",
    "vect_train1 = vect1.fit_transform(X_train)\n",
    "vect_test1 = vect1.transform(X_test)"
   ]
  },
  {
   "cell_type": "code",
   "execution_count": 169,
   "metadata": {},
   "outputs": [],
   "source": [
    "log_reg = LogisticRegression()\n",
    "\n",
    "log_reg.fit(vect_train1, y_train)\n",
    "\n",
    "predict1 = log_reg.predict(vect_test1)"
   ]
  },
  {
   "cell_type": "code",
   "execution_count": 170,
   "metadata": {},
   "outputs": [
    {
     "name": "stdout",
     "output_type": "stream",
     "text": [
      "Classification Report: \n",
      "               precision    recall  f1-score   support\n",
      "\n",
      "    Negative       0.87      0.86      0.86      7411\n",
      "    Positive       0.86      0.87      0.87      7589\n",
      "\n",
      "    accuracy                           0.86     15000\n",
      "   macro avg       0.86      0.86      0.86     15000\n",
      "weighted avg       0.86      0.86      0.86     15000\n",
      "\n",
      "Confusion Matrix: \n",
      " [[6359 1052]\n",
      " [ 985 6604]]\n",
      "Accuracy: \n",
      " 0.8642\n"
     ]
    }
   ],
   "source": [
    "from sklearn.metrics import classification_report, confusion_matrix, accuracy_score\n",
    "\n",
    "print(\"Classification Report: \\n\", classification_report(y_test, predict1,target_names=['Negative','Positive']))\n",
    "print(\"Confusion Matrix: \\n\", confusion_matrix(y_test, predict1))\n",
    "print(\"Accuracy: \\n\", accuracy_score(y_test, predict1))"
   ]
  },
  {
   "cell_type": "markdown",
   "metadata": {},
   "source": []
  },
  {
   "cell_type": "markdown",
   "metadata": {},
   "source": [
    "#### Получилось хуже,чем \"из коробки\"\n",
    "#### Сделаю то же самое,но без l2 регуляризации и использую единичные токены и биграммы\n",
    "#### Отбрасываю n-грамы, встречающиеся в более чем 99.5%, и менее чем в 0.5% документов"
   ]
  },
  {
   "cell_type": "code",
   "execution_count": 171,
   "metadata": {},
   "outputs": [],
   "source": [
    "vect2 = TfidfVectorizer(norm=None,ngram_range=(1, 2),max_df=0.995, min_df=0.005)\n"
   ]
  },
  {
   "cell_type": "code",
   "execution_count": 172,
   "metadata": {},
   "outputs": [],
   "source": [
    "vect_train2 = vect2.fit_transform(X_train)\n",
    "vect_test2 = vect2.transform(X_test)"
   ]
  },
  {
   "cell_type": "code",
   "execution_count": 180,
   "metadata": {},
   "outputs": [],
   "source": [
    "log_reg = LogisticRegression()\n",
    "\n",
    "log_reg.fit(vect_train2, y_train)\n",
    "\n",
    "predict2 = log_reg.predict(vect_test2)"
   ]
  },
  {
   "cell_type": "code",
   "execution_count": 181,
   "metadata": {},
   "outputs": [
    {
     "name": "stdout",
     "output_type": "stream",
     "text": [
      "Classification Report: \n",
      "               precision    recall  f1-score   support\n",
      "\n",
      "    Negative       0.86      0.87      0.87      7411\n",
      "    Positive       0.87      0.86      0.87      7589\n",
      "\n",
      "    accuracy                           0.87     15000\n",
      "   macro avg       0.87      0.87      0.87     15000\n",
      "weighted avg       0.87      0.87      0.87     15000\n",
      "\n",
      "Confusion Matrix: \n",
      " [[6457  954]\n",
      " [1043 6546]]\n",
      "Accuracy: \n",
      " 0.8668666666666667\n"
     ]
    }
   ],
   "source": [
    "from sklearn.metrics import classification_report, confusion_matrix, accuracy_score\n",
    "\n",
    "print(\"Classification Report: \\n\", classification_report(y_test, predict2,target_names=['Negative','Positive']))\n",
    "print(\"Confusion Matrix: \\n\", confusion_matrix(y_test, predict2))\n",
    "print(\"Accuracy: \\n\", accuracy_score(y_test, predict2))"
   ]
  },
  {
   "cell_type": "markdown",
   "metadata": {},
   "source": [
    "#### Видно,что модели работают примерно одинаково.\n",
    "#### Последняя чуть лучше,использую её"
   ]
  },
  {
   "cell_type": "markdown",
   "metadata": {},
   "source": [
    "#### Делаю визуализацию коэффициентов.Возьму топ-50 слов"
   ]
  },
  {
   "cell_type": "code",
   "execution_count": 178,
   "metadata": {},
   "outputs": [
    {
     "data": {
      "text/plain": [
       "Text(0.5, 1.0, 'Negative')"
      ]
     },
     "execution_count": 178,
     "metadata": {},
     "output_type": "execute_result"
    },
    {
     "data": {
      "image/png": "[encoded data removed]",
      "text/plain": [
       "<Figure size 1080x1080 with 1 Axes>"
      ]
     },
     "metadata": {
      "needs_background": "light"
     },
     "output_type": "display_data"
    },
    {
     "data": {
      "image/png": "[encoded data removed]",
      "text/plain": [
       "<Figure size 1080x1080 with 1 Axes>"
      ]
     },
     "metadata": {
      "needs_background": "light"
     },
     "output_type": "display_data"
    }
   ],
   "source": [
    "top_feat=50\n",
    "feature_names = vect2.get_feature_names()\n",
    "coef = log_reg.coef_[0,:]\n",
    "coefficients = np.argsort(coef)[-top_feat:]\n",
    "    \n",
    "plt.figure(figsize=(15, 15))\n",
    "plt.subplot(512)\n",
    "colors = [\"blue\" for c in coef[coefficients]]\n",
    "plt.bar(np.arange(top_feat), coef[coefficients], color=colors)\n",
    "feature_names = np.array(feature_names)\n",
    "plt.xticks(np.arange(1, 1 + top_feat), \n",
    "               feature_names[coefficients], rotation=60, ha=\"right\", fontsize=14);\n",
    "plt.title('Positive')\n",
    "\n",
    "\n",
    "coefficients = np.argsort(coef)[:top_feat]\n",
    "    \n",
    "plt.figure(figsize=(15, 15))\n",
    "plt.subplot(513)\n",
    "colors = [\"blue\" for c in coef[coefficients]]\n",
    "plt.bar(np.arange(top_feat), coef[coefficients], color=colors)\n",
    "feature_names = np.array(feature_names)\n",
    "plt.xticks(np.arange(1, 1 + top_feat), \n",
    "               feature_names[coefficients], rotation=60, ha=\"right\", fontsize=14);\n",
    "plt.title('Negative')\n",
    "\n"
   ]
  },
  {
   "cell_type": "code",
   "execution_count": null,
   "metadata": {},
   "outputs": [],
   "source": []
  }
 ],
 "metadata": {
  "kernelspec": {
   "display_name": "Python 3",
   "language": "python",
   "name": "python3"
  },
  "language_info": {
   "codemirror_mode": {
    "name": "ipython",
    "version": 3
   },
   "file_extension": ".py",
   "mimetype": "text/x-python",
   "name": "python",
   "nbconvert_exporter": "python",
   "pygments_lexer": "ipython3",
   "version": "3.8.5"
  }
 },
 "nbformat": 4,
 "nbformat_minor": 4
}
