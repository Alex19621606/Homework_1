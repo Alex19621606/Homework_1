{
 "cells": [
  {
   "cell_type": "code",
   "execution_count": 89,
   "metadata": {},
   "outputs": [],
   "source": [
    "import requests      \n",
    "import numpy as np   \n",
    "import pandas as pd \n",
    "import time          \n",
    "from bs4 import BeautifulSoup\n",
    "from tqdm import tqdm_notebook\n",
    "from fake_useragent import UserAgent\n"
   ]
  },
  {
   "cell_type": "markdown",
   "metadata": {},
   "source": [
    "#### Для парсинга взял магазин labirint.ru. Посмотрю ,что там с книгами по Python"
   ]
  },
  {
   "cell_type": "code",
   "execution_count": 90,
   "metadata": {},
   "outputs": [],
   "source": [
    "labirint_link = 'https://www.labirint.ru'"
   ]
  },
  {
   "cell_type": "code",
   "execution_count": 91,
   "metadata": {},
   "outputs": [],
   "source": [
    "page = 'https://www.labirint.ru/search/python/?stype=0&page=1'"
   ]
  },
  {
   "cell_type": "code",
   "execution_count": 92,
   "metadata": {},
   "outputs": [
    {
     "data": {
      "text/plain": [
       "<Response [200]>"
      ]
     },
     "execution_count": 92,
     "metadata": {},
     "output_type": "execute_result"
    }
   ],
   "source": [
    "response = requests.get(page)\n",
    "response"
   ]
  },
  {
   "cell_type": "markdown",
   "metadata": {},
   "source": [
    "#### Сайт меня пропустил,уже хорошо. Посмотрим код страницы с нашими книгами"
   ]
  },
  {
   "cell_type": "code",
   "execution_count": 93,
   "metadata": {},
   "outputs": [],
   "source": [
    "html = response.content"
   ]
  },
  {
   "cell_type": "code",
   "execution_count": 94,
   "metadata": {},
   "outputs": [
    {
     "data": {
      "text/plain": [
       "785259"
      ]
     },
     "execution_count": 94,
     "metadata": {},
     "output_type": "execute_result"
    }
   ],
   "source": [
    "len(html)"
   ]
  },
  {
   "cell_type": "code",
   "execution_count": 95,
   "metadata": {},
   "outputs": [
    {
     "data": {
      "text/plain": [
       "b'<!DOCTYPE html PUBLIC \"-//W3C//DTD XHTML 1.0 Transitional//EN\" \"http://www.w3.org/TR/xhtml1/DTD/xhtml1-transitional.dtd\">\\n<html xmlns=\"http://www.w3.org/1999/xhtml\" xmlns:og=\"http://ogp.me/ns#\" xmlns:fb=\"http://www.facebook.com/2008/fbml\" prefix=\"ya: http://webmaster.yandex.ru/vocabularies/\">\\n<head>\\n<meta http-equiv=\"x-dns-prefetch-control\" content=\"on\" />\\n<meta name=\"viewport\" content=\"width=device-width, initial-scale=1\">\\n<link rel=\"dns-prefetch\" href=\"https://css.labirint.ru\" /><link rel=\"dns'"
      ]
     },
     "execution_count": 95,
     "metadata": {},
     "output_type": "execute_result"
    }
   ],
   "source": [
    "html[:500]"
   ]
  },
  {
   "cell_type": "code",
   "execution_count": 96,
   "metadata": {},
   "outputs": [
    {
     "data": {
      "text/plain": [
       "b'5-9 \\\\u043a\\\\u043b\\\\u0430\\\\u0441\\\\u0441\\\\u044b\",\"2308\":\"\\\\u041f\\\\u0440\\\\u043e\\\\u0433\\\\u0440\\\\u0430\\\\u043c\\\\u043c\\\\u0438\\\\u0440\\\\u043e\\\\u0432\\\\u0430\\\\u043d\\\\u0438\\\\u0435\",\"2994\":\"\\\\u0410\\\\u0440\\\\u0442\\\\u0431\\\\u0443\\\\u043a\\\\u0438. \\\\u0418\\\\u0433\\\\u0440\\\\u043e\\\\u0432\\\\u044b\\\\u0435 \\\\u043c\\\\u0438\\\\u0440\\\\u044b. \\\\u0412\\\\u0441\\\\u0435\\\\u043b\\\\u0435\\\\u043d\\\\u043d\\\\u044b\\\\u0435\",\"2993\":\"\\\\u041a\\\\u043e\\\\u043c\\\\u0438\\\\u043a\\\\u0441\\\\u044b, \\\\u041c\\\\u0430\\\\u043d\\\\u0433\\\\u0430, \\\\u0410\\\\u0440\\\\u0442\\\\u0431\\\\u0443\\\\u043a\\\\u0438\"};\\n   </script>\\n   </body><!--205\\xd0\\xb2\\xd0\\xba-->\\n</html>'"
      ]
     },
     "execution_count": 96,
     "metadata": {},
     "output_type": "execute_result"
    }
   ],
   "source": [
    "html[-500:]"
   ]
  },
  {
   "cell_type": "code",
   "execution_count": 97,
   "metadata": {},
   "outputs": [],
   "source": [
    "soup = BeautifulSoup(html, 'html.parser')"
   ]
  },
  {
   "cell_type": "code",
   "execution_count": 98,
   "metadata": {},
   "outputs": [
    {
     "name": "stdout",
     "output_type": "stream",
     "text": [
      "<!DOCTYPE html PUBLIC \"-//W3C//DTD XHTML 1.0 Transitional//EN\" \"http://www.w3.org/TR/xhtml1/DTD/xhtml1-transitional.dtd\">\n",
      "<html prefix=\"ya: http://webmaster.yandex.ru/vocabularies/\" xmlns=\"http://www.w3.org/1999/xhtml\" xmlns:fb=\"http://www.facebook.com/2008/fbml\" xmlns:og=\"http://ogp.me/ns#\">\n",
      " <head>\n",
      "  <meta content=\"on\" http-equiv=\"x-dns-prefetch-control\"/>\n",
      "  <meta content=\"width=device-width, initial-scale=1\" name=\"viewport\"/>\n",
      "  <link href=\"https://css.labirint.ru\" rel=\"dns-prefetch\"/>\n",
      "  <link href=\"https://js.labirint.ru\" rel=\"dns-prefetch\"/>\n",
      "  <link href=\"https://img.labirint.ru\" rel=\"dns-prefetch\"/>\n",
      "  <link href=\"https://img1.labirint.ru\" rel=\"dns-prefetch\"/>\n",
      "  <link href=\"https://img2.labirint.ru\" rel=\"dns-prefetch\"/>\n",
      "  <title>\n",
      "   Книжный интернет-магазин ЛАБИРИНТ: книжный магазин с лучшими ценами. Купить книги, фильмы, музыку, игры, программы и многое другое\n",
      "  </title>\n",
      "  <meta content=\"Лабиринт, labirint-shop, labirint, Интернет, купить, книга, игры, игрушки, аудио, видео, софт, soft, программы, диски, канцелярия, канцелярские товары, канцтовары, новинки, заказать, магазин, книжный, литература, музыка, фильм,\tмультфильмы, аудиокниги, компьютерные игры, cd, mp3, dvd, курьер, доставка, почта, скидки, спецпредложения, подарки\" name=\"keywords\">\n",
      "   <meta content=\"В интернет-магазине Лабиринт Вы можете купить книги, игры и игрушки, подарочные издания, аудио, видео, компьютерные игры, софт, товары для детей, игры для детей, канцелярские товары, открытки, сувениры, календари, альбомы, рамки для фотографий и многое другое. Получить заказ Вы можете по почте, курьером и в пунктах самовывоза в 30 городах России. Бесплатная курьерская доставка заказов на сумму от 500 руб. в 44 города России: Москва, Санкт-Петербург, Орел, Калининград, Владимир, Казань, Нижний Новгород, Уфу, Самару, Волгоград, Киров, Екатеринбург, Челябинск, Кемерово, Саратов, Воронеж, Ижевск, Магнитогорск, Набережные Челны, Салават, Стерлитамак, Тюмень, Ярославль, Чебоксары, Тамбов, Пермь, Липецк, Курск и\n"
     ]
    }
   ],
   "source": [
    "print(soup.prettify()[:2000])"
   ]
  },
  {
   "cell_type": "code",
   "execution_count": 99,
   "metadata": {},
   "outputs": [
    {
     "data": {
      "text/plain": [
       "'Книжный интернет-магазин ЛАБИРИНТ: книжный магазин с лучшими ценами. Купить книги, фильмы, музыку, игры, программы и многое другое'"
      ]
     },
     "execution_count": 99,
     "metadata": {},
     "output_type": "execute_result"
    }
   ],
   "source": [
    "soup.html.head.title.text"
   ]
  },
  {
   "cell_type": "code",
   "execution_count": null,
   "metadata": {},
   "outputs": [],
   "source": []
  },
  {
   "cell_type": "code",
   "execution_count": 100,
   "metadata": {},
   "outputs": [
    {
     "data": {
      "text/plain": [
       "<a class=\"cover\" href=\"/books/668926/\" title=\"Дмитрий Златопольский - Основы программирования на языке Python\">\n",
       "<img alt=\"Дмитрий Златопольский - Основы программирования на языке Python обложка книги\" class=\"book-img-cover\" data-src=\"https://img4.labirint.ru/rc/2b5bdea9d181c003072c4e1ffd88efab/246x330/books67/668926/cover.jpg?1564148563\" src=\"https://img.labirint.ru/design/emptycover-big.svg\" title=\"Дмитрий Златопольский - Основы программирования на языке Python\"/>\n",
       "</a>"
      ]
     },
     "execution_count": 100,
     "metadata": {},
     "output_type": "execute_result"
    }
   ],
   "source": [
    "book = soup.find('a', attrs = {'class':'cover'})\n",
    "book"
   ]
  },
  {
   "cell_type": "code",
   "execution_count": 101,
   "metadata": {},
   "outputs": [
    {
     "data": {
      "text/plain": [
       "'/books/668926/'"
      ]
     },
     "execution_count": 101,
     "metadata": {},
     "output_type": "execute_result"
    }
   ],
   "source": [
    "book.attrs['href']"
   ]
  },
  {
   "cell_type": "code",
   "execution_count": 102,
   "metadata": {},
   "outputs": [
    {
     "data": {
      "text/plain": [
       "'Дмитрий Златопольский - Основы программирования на языке Python'"
      ]
     },
     "execution_count": 102,
     "metadata": {},
     "output_type": "execute_result"
    }
   ],
   "source": [
    "book.attrs['title']"
   ]
  },
  {
   "cell_type": "markdown",
   "metadata": {},
   "source": [
    "#### Достаю ссылки на книги"
   ]
  },
  {
   "cell_type": "code",
   "execution_count": 103,
   "metadata": {},
   "outputs": [
    {
     "data": {
      "text/plain": [
       "[<a class=\"cover\" href=\"/books/668926/\" title=\"Дмитрий Златопольский - Основы программирования на языке Python\">\n",
       " <img alt=\"Дмитрий Златопольский - Основы программирования на языке Python обложка книги\" class=\"book-img-cover\" data-src=\"https://img4.labirint.ru/rc/2b5bdea9d181c003072c4e1ffd88efab/246x330/books67/668926/cover.jpg?1564148563\" src=\"https://img.labirint.ru/design/emptycover-big.svg\" title=\"Дмитрий Златопольский - Основы программирования на языке Python\"/>\n",
       " </a>,\n",
       " <a class=\"cover\" href=\"/books/575392/\" title=\"Джейсон Бриггс - Python для детей. Самоучитель по программированию\">\n",
       " <img alt=\"Джейсон Бриггс - Python для детей. Самоучитель по программированию обложка книги\" class=\"book-img-cover\" data-src=\"https://img4.labirint.ru/rc/38ddf345d5b8af7321fbb6ead46f0420/246x330/books58/575392/cover.png?1575455280\" src=\"https://img.labirint.ru/design/emptycover-big.svg\" title=\"Джейсон Бриггс - Python для детей. Самоучитель по программированию\"/>\n",
       " </a>,\n",
       " <a class=\"cover\" href=\"/books/733470/\" title=\"Эрик Мэтиз - Изучаем Python. Программирование игр, визуализация данных, веб-приложения\">\n",
       " <img alt=\"Эрик Мэтиз - Изучаем Python. Программирование игр, визуализация данных, веб-приложения обложка книги\" class=\"book-img-cover\" data-src=\"https://img4.labirint.ru/rc/f26c1c61fce107c299ee0c0d703a4d2a/246x330/books74/733470/cover.jpg?1579436780\" src=\"https://img.labirint.ru/design/emptycover-big.svg\" title=\"Эрик Мэтиз - Изучаем Python. Программирование игр, визуализация данных, веб-приложения\"/>\n",
       " </a>,\n",
       " <a class=\"cover\" href=\"/books/637513/\" title=\"Вордерман, Стили - Программирование на Python. Иллюстрированное руководство для детей\">\n",
       " <img alt=\"Вордерман, Стили - Программирование на Python. Иллюстрированное руководство для детей обложка книги\" class=\"book-img-cover\" data-src=\"https://img3.labirint.ru/rc/5f2360a038ac47ac6e8272a7fe3f78be/246x330/books64/637513/cover.png?1575383259\" src=\"https://img.labirint.ru/design/emptycover-big.svg\" title=\"Вордерман, Стили - Программирование на Python. Иллюстрированное руководство для детей\"/>\n",
       " </a>,\n",
       " <a class=\"cover\" href=\"/books/773613/\" title=\"Корягин, Корягина - Python. Великое программирование в Minecraft\">\n",
       " <img alt=\"Корягин, Корягина - Python. Великое программирование в Minecraft обложка книги\" class=\"book-img-cover\" data-src=\"https://img3.labirint.ru/rc/9ba8110f6545ef358f7891e9eb0647a8/246x330/books78/773613/cover.jpg?1605162310\" src=\"https://img.labirint.ru/design/emptycover-big.svg\" title=\"Корягин, Корягина - Python. Великое программирование в Minecraft\"/>\n",
       " </a>]"
      ]
     },
     "execution_count": 103,
     "metadata": {},
     "output_type": "execute_result"
    }
   ],
   "source": [
    "book_links = soup.findAll('a', attrs = {'class':'cover'})\n",
    "book_links[:5]"
   ]
  },
  {
   "cell_type": "code",
   "execution_count": 104,
   "metadata": {},
   "outputs": [
    {
     "data": {
      "text/plain": [
       "60"
      ]
     },
     "execution_count": 104,
     "metadata": {},
     "output_type": "execute_result"
    }
   ],
   "source": [
    "len(book_links)"
   ]
  },
  {
   "cell_type": "code",
   "execution_count": 105,
   "metadata": {},
   "outputs": [
    {
     "data": {
      "text/plain": [
       "['/books/668926/',\n",
       " '/books/575392/',\n",
       " '/books/733470/',\n",
       " '/books/637513/',\n",
       " '/books/773613/']"
      ]
     },
     "execution_count": 105,
     "metadata": {},
     "output_type": "execute_result"
    }
   ],
   "source": [
    "book_links = [link.attrs['href'] for link in book_links]\n",
    "book_links[:5]"
   ]
  },
  {
   "cell_type": "markdown",
   "metadata": {},
   "source": [
    "#### След. ф.-ия соберёт нам все ссылки в одно место"
   ]
  },
  {
   "cell_type": "markdown",
   "metadata": {},
   "source": [
    "###### Писал не сам,позаимствовал у Д.Сергеева,как и последующие )))"
   ]
  },
  {
   "cell_type": "code",
   "execution_count": 106,
   "metadata": {
    "code_folding": []
   },
   "outputs": [],
   "source": [
    "def getPageLinks(page_num):\n",
    "    \n",
    "    page_link = 'https://www.labirint.ru/search/python/?stype=0&page={}'.format(page_num)\n",
    "    \n",
    "    response = requests.get(page_link, headers={'User-Agent': UserAgent().chrome})\n",
    "    \n",
    "    if not response.ok:\n",
    "        return [] \n",
    "    \n",
    "    html = response.content\n",
    "    soup = BeautifulSoup(html,'html.parser')\n",
    "    \n",
    "    book_links = soup.findAll('a', attrs = {'class':'cover'})\n",
    "    book_links = ['http://labirint.ru' + link.attrs['href'] for link in book_links]\n",
    "    \n",
    "    return book_links"
   ]
  },
  {
   "cell_type": "code",
   "execution_count": 107,
   "metadata": {},
   "outputs": [
    {
     "data": {
      "text/plain": [
       "['http://labirint.ru/books/668926/',\n",
       " 'http://labirint.ru/books/575392/',\n",
       " 'http://labirint.ru/books/733470/',\n",
       " 'http://labirint.ru/books/637513/',\n",
       " 'http://labirint.ru/books/773613/']"
      ]
     },
     "execution_count": 107,
     "metadata": {},
     "output_type": "execute_result"
    }
   ],
   "source": [
    "book_links = getPageLinks(1)\n",
    "book_links[:5]"
   ]
  },
  {
   "cell_type": "code",
   "execution_count": 108,
   "metadata": {},
   "outputs": [
    {
     "data": {
      "text/plain": [
       "['http://labirint.ru/books/682197/',\n",
       " 'http://labirint.ru/books/665628/',\n",
       " 'http://labirint.ru/books/630213/',\n",
       " 'http://labirint.ru/books/435407/',\n",
       " 'http://labirint.ru/books/703167/']"
      ]
     },
     "execution_count": 108,
     "metadata": {},
     "output_type": "execute_result"
    }
   ],
   "source": [
    "book_links = getPageLinks(2)\n",
    "book_links[:5]"
   ]
  },
  {
   "cell_type": "markdown",
   "metadata": {},
   "source": [
    "#### Всё получилось.Теперь попробую собрать данные на первую книгу"
   ]
  },
  {
   "cell_type": "code",
   "execution_count": 109,
   "metadata": {},
   "outputs": [],
   "source": [
    "book_page = 'https://www.labirint.ru/books/668926/'\n",
    "\n",
    "response = requests.get(book_page, headers={'User-Agent': UserAgent().chrome})\n",
    "\n",
    "html = response.content\n",
    "soup = BeautifulSoup(html,'html.parser')"
   ]
  },
  {
   "cell_type": "code",
   "execution_count": 143,
   "metadata": {},
   "outputs": [
    {
     "data": {
      "text/plain": [
       "'Дмитрий Златопольский: Основы программирования на языке Python'"
      ]
     },
     "execution_count": 143,
     "metadata": {},
     "output_type": "execute_result"
    }
   ],
   "source": [
    "title = soup.find('div', {'class':'prodtitle'}).find('h1').text\n",
    "title"
   ]
  },
  {
   "cell_type": "code",
   "execution_count": 144,
   "metadata": {},
   "outputs": [
    {
     "data": {
      "text/plain": [
       "'Златопольский Дмитрий Михайлович'"
      ]
     },
     "execution_count": 144,
     "metadata": {},
     "output_type": "execute_result"
    }
   ],
   "source": [
    "authors = soup.find('div', {'class':'authors'}).find('a').text\n",
    "authors"
   ]
  },
  {
   "cell_type": "code",
   "execution_count": 116,
   "metadata": {},
   "outputs": [
    {
     "data": {
      "text/plain": [
       "<div class=\"buying-pricenew\" title=' Цена с учетом скидки по акции \"Читаем в январе\" (17%)'>\n",
       "<div class=\"buying-pricenew-text\">Ваша цена (-17%)</div>\n",
       "<div class=\"buying-pricenew-val\">\n",
       "<span class=\"buying-pricenew-val-number\">686</span>\n",
       "<span class=\"buying-pricenew-val-currency\">р.</span>\n",
       "</div>\n",
       "</div>"
      ]
     },
     "execution_count": 116,
     "metadata": {},
     "output_type": "execute_result"
    }
   ],
   "source": [
    "price = soup.find('div', {'class':'buying-pricenew'})\n",
    "price"
   ]
  },
  {
   "cell_type": "code",
   "execution_count": 117,
   "metadata": {},
   "outputs": [
    {
     "data": {
      "text/plain": [
       "686"
      ]
     },
     "execution_count": 117,
     "metadata": {},
     "output_type": "execute_result"
    }
   ],
   "source": [
    "price = int(price.find('span').text.replace(' ',''))\n",
    "price"
   ]
  },
  {
   "cell_type": "code",
   "execution_count": 118,
   "metadata": {},
   "outputs": [
    {
     "data": {
      "text/plain": [
       "<div class=\"left\">\n",
       "\t\t\tРейтинг\n",
       "\t\t\t<div id=\"rate\">8.73</div>\n",
       "</div>"
      ]
     },
     "execution_count": 118,
     "metadata": {},
     "output_type": "execute_result"
    }
   ],
   "source": [
    "rate = soup.find('div', {'class':'left'})\n",
    "rate "
   ]
  },
  {
   "cell_type": "code",
   "execution_count": 119,
   "metadata": {},
   "outputs": [
    {
     "data": {
      "text/plain": [
       "8.73"
      ]
     },
     "execution_count": 119,
     "metadata": {},
     "output_type": "execute_result"
    }
   ],
   "source": [
    "rate = float(rate.find('div').text)\n",
    "rate"
   ]
  },
  {
   "cell_type": "code",
   "execution_count": 145,
   "metadata": {},
   "outputs": [
    {
     "data": {
      "text/plain": [
       "'ДМК-Пресс'"
      ]
     },
     "execution_count": 145,
     "metadata": {},
     "output_type": "execute_result"
    }
   ],
   "source": [
    "publisher = soup.find('div', {'class':'publisher'}).find('a').text\n",
    "publisher"
   ]
  },
  {
   "cell_type": "code",
   "execution_count": 146,
   "metadata": {},
   "outputs": [
    {
     "data": {
      "text/plain": [
       "'На складе'"
      ]
     },
     "execution_count": 146,
     "metadata": {},
     "output_type": "execute_result"
    }
   ],
   "source": [
    "availibility = soup.find('div', {'class':'prodtitle-availibility rang-available'}).find('span').text\n",
    "availibility"
   ]
  },
  {
   "cell_type": "code",
   "execution_count": 148,
   "metadata": {},
   "outputs": [
    {
     "data": {
      "text/plain": [
       "<span class=\"product-hint\">\n",
       "<a class=\"js-analytics-click-product-hint\" data-event-content=\"4\" data-event-label=\"reviewsCount\" data-event-type=\"203\" href=\"/reviews/goods/764273/\">\n",
       "<span>4</span> рец.\n",
       "        </a><br> <a class=\"js-analytics-click-product-hint\" data-event-content=\"25\" data-event-label=\"photosCount\" data-event-type=\"204\" href=\"/books/764273/#galery\">\n",
       "<span>25</span> фото\n",
       "            </a>\n",
       "<span class=\"tip\"></span>\n",
       "</br></span>"
      ]
     },
     "execution_count": 148,
     "metadata": {},
     "output_type": "execute_result"
    }
   ],
   "source": [
    "reviews = soup.find('span', {'class':'product-hint'})\n",
    "reviews"
   ]
  },
  {
   "cell_type": "code",
   "execution_count": 125,
   "metadata": {},
   "outputs": [
    {
     "data": {
      "text/plain": [
       "'4 рец.'"
      ]
     },
     "execution_count": 125,
     "metadata": {},
     "output_type": "execute_result"
    }
   ],
   "source": [
    "reviews = reviews.find('a').text.strip()\n",
    "reviews"
   ]
  },
  {
   "cell_type": "code",
   "execution_count": 126,
   "metadata": {},
   "outputs": [
    {
     "data": {
      "text/plain": [
       "'Если вы хотите научиться программировать на языке Python, который в последнее время становится популярным у нас в стране и за рубежом, то эта книга - для вас. В ней рассматриваются особенности разработки компьютерных программ и соответствующие инструкции языка Python, основные структуры данных этого языка (строки, списки, словари, файлы), типовые задачи программирования и методы их решения, а также вопросы совершенствования программы на основе использования функций. Впервые системно и популярно изложена методика разработки программ на языке Python с графическим пользовательским интерфейсом.Книга предназначена для всех, кто изучает или преподает программирование.- Основные инструкции языка и структуры данных- Типовые задачи программирования, полезные советы- Задачи из ЕГЭ по информатике- Методика разработки графического интерфейса.Во второе издание добавлено Приложение 3 с ответами к заданиям и задачами по разработке программ.2-е издание.'"
      ]
     },
     "execution_count": 126,
     "metadata": {},
     "output_type": "execute_result"
    }
   ],
   "source": [
    "annotation = soup.find('div', {'id':'product-about'}).find('noindex').text.strip()\n",
    "annotation"
   ]
  },
  {
   "cell_type": "code",
   "execution_count": null,
   "metadata": {},
   "outputs": [],
   "source": []
  },
  {
   "cell_type": "code",
   "execution_count": 127,
   "metadata": {},
   "outputs": [],
   "source": [
    "def getProperties(soup):\n",
    "    title = soup.find('div', {'class':'prodtitle'}).find('h1').text\n",
    "    \n",
    "    authors = soup.find('div', {'class':'authors'}).find('a').text\n",
    "    \n",
    "    publisher = soup.find('div', {'class':'publisher'}).find('a').text\n",
    "    \n",
    "    availibility = soup.find('div', {'class':'prodtitle-availibility rang-available'})\n",
    "    availibility = 'Нет в наличии' if not availibility else availibility.find('span').text  \n",
    "     \n",
    "    \n",
    "    price = soup.find('div', {'class':'buying-pricenew'}).find('span').text.replace(' ','')\n",
    "    \n",
    "    \n",
    "    rate = soup.find('div', {'class':'left'})\n",
    "    rate = '' if not rate else float(rate.find('div').text)\n",
    "    \n",
    "    reviews = soup.find('span', {'class':'product-hint'})\n",
    "    reviews = '' if not reviews else reviews.find('a').text.strip()\n",
    "    \n",
    "    annotation = soup.find('div', {'id':'product-about'}).find('noindex').text.strip()\n",
    "    \n",
    "    return title, authors, publisher, availibility, price, rate, reviews, annotation\n",
    "    \n",
    "    "
   ]
  },
  {
   "cell_type": "code",
   "execution_count": 128,
   "metadata": {},
   "outputs": [
    {
     "data": {
      "text/plain": [
       "('Дмитрий Златопольский: Основы программирования на языке Python',\n",
       " 'Златопольский Дмитрий Михайлович',\n",
       " 'ДМК-Пресс',\n",
       " 'На складе',\n",
       " '686',\n",
       " 8.73,\n",
       " '4 рец.',\n",
       " 'Если вы хотите научиться программировать на языке Python, который в последнее время становится популярным у нас в стране и за рубежом, то эта книга - для вас. В ней рассматриваются особенности разработки компьютерных программ и соответствующие инструкции языка Python, основные структуры данных этого языка (строки, списки, словари, файлы), типовые задачи программирования и методы их решения, а также вопросы совершенствования программы на основе использования функций. Впервые системно и популярно изложена методика разработки программ на языке Python с графическим пользовательским интерфейсом.Книга предназначена для всех, кто изучает или преподает программирование.- Основные инструкции языка и структуры данных- Типовые задачи программирования, полезные советы- Задачи из ЕГЭ по информатике- Методика разработки графического интерфейса.Во второе издание добавлено Приложение 3 с ответами к заданиям и задачами по разработке программ.2-е издание.')"
      ]
     },
     "execution_count": 128,
     "metadata": {},
     "output_type": "execute_result"
    }
   ],
   "source": [
    "getProperties(soup)"
   ]
  },
  {
   "cell_type": "markdown",
   "metadata": {},
   "source": [
    "#### Получилось.Сделаю красиво"
   ]
  },
  {
   "cell_type": "code",
   "execution_count": 129,
   "metadata": {},
   "outputs": [],
   "source": [
    "def getBookData(book_page):\n",
    "    \n",
    "    response = requests.get(book_page, headers={'User-Agent': UserAgent().chrome})\n",
    "    html = response.content\n",
    "    soup = BeautifulSoup(html,'html.parser')\n",
    "    \n",
    "    title, authors, publisher, availibility, price, rate, reviews, annotation =\\\n",
    "    getProperties(soup=soup)\n",
    "    \n",
    "    data_row = {'Название':title, 'Автор':authors,\n",
    "                'Издательство':publisher, 'Наличие':availibility,\n",
    "                'Цена':price, 'Рейтинг':rate, 'Рецензии':reviews, 'Аннотация':annotation}\n",
    "    \n",
    "    return data_row\n",
    " \n",
    "    \n",
    "    "
   ]
  },
  {
   "cell_type": "code",
   "execution_count": 130,
   "metadata": {},
   "outputs": [],
   "source": [
    "data_row = getBookData('https://www.labirint.ru/books/668926/')"
   ]
  },
  {
   "cell_type": "code",
   "execution_count": 131,
   "metadata": {},
   "outputs": [],
   "source": [
    "final_df = pd.DataFrame(columns=['Название', 'Автор', 'Издательство', 'Наличие',\n",
    "                                 'Цена', 'Рейтинг', 'Рецензии', 'Аннотация'])"
   ]
  },
  {
   "cell_type": "code",
   "execution_count": 132,
   "metadata": {},
   "outputs": [],
   "source": [
    "final_df = final_df.append(data_row, ignore_index=True)"
   ]
  },
  {
   "cell_type": "code",
   "execution_count": 133,
   "metadata": {},
   "outputs": [
    {
     "data": {
      "text/html": [
       "<div>\n",
       "<style scoped>\n",
       "    .dataframe tbody tr th:only-of-type {\n",
       "        vertical-align: middle;\n",
       "    }\n",
       "\n",
       "    .dataframe tbody tr th {\n",
       "        vertical-align: top;\n",
       "    }\n",
       "\n",
       "    .dataframe thead th {\n",
       "        text-align: right;\n",
       "    }\n",
       "</style>\n",
       "<table border=\"1\" class=\"dataframe\">\n",
       "  <thead>\n",
       "    <tr style=\"text-align: right;\">\n",
       "      <th></th>\n",
       "      <th>Название</th>\n",
       "      <th>Автор</th>\n",
       "      <th>Издательство</th>\n",
       "      <th>Наличие</th>\n",
       "      <th>Цена</th>\n",
       "      <th>Рейтинг</th>\n",
       "      <th>Рецензии</th>\n",
       "      <th>Аннотация</th>\n",
       "      <th>Цена</th>\n",
       "    </tr>\n",
       "  </thead>\n",
       "  <tbody>\n",
       "    <tr>\n",
       "      <th>0</th>\n",
       "      <td>Дмитрий Златопольский: Основы программирования...</td>\n",
       "      <td>Златопольский Дмитрий Михайлович</td>\n",
       "      <td>ДМК-Пресс</td>\n",
       "      <td>На складе</td>\n",
       "      <td>NaN</td>\n",
       "      <td>8.73</td>\n",
       "      <td>21 рец.</td>\n",
       "      <td>Если вы хотите научиться программировать на яз...</td>\n",
       "      <td>686</td>\n",
       "    </tr>\n",
       "  </tbody>\n",
       "</table>\n",
       "</div>"
      ],
      "text/plain": [
       "                                            Название  \\\n",
       "0  Дмитрий Златопольский: Основы программирования...   \n",
       "\n",
       "                              Автор Издательство    Наличие  Цена  Рейтинг  \\\n",
       "0  Златопольский Дмитрий Михайлович    ДМК-Пресс  На складе   NaN     8.73   \n",
       "\n",
       "  Рецензии                                          Аннотация  Цена  \n",
       "0  21 рец.  Если вы хотите научиться программировать на яз...   686  "
      ]
     },
     "execution_count": 133,
     "metadata": {},
     "output_type": "execute_result"
    }
   ],
   "source": [
    "final_df"
   ]
  },
  {
   "cell_type": "markdown",
   "metadata": {},
   "source": [
    "#### Не понятно почему получилось 2 цены,это выше меня. Прохожу по всем ссылкам"
   ]
  },
  {
   "cell_type": "code",
   "execution_count": 134,
   "metadata": {},
   "outputs": [],
   "source": [
    "from tqdm import tqdm_notebook"
   ]
  },
  {
   "cell_type": "code",
   "execution_count": 135,
   "metadata": {},
   "outputs": [
    {
     "data": {
      "text/plain": [
       "['http://labirint.ru/books/682197/',\n",
       " 'http://labirint.ru/books/665628/',\n",
       " 'http://labirint.ru/books/630213/',\n",
       " 'http://labirint.ru/books/435407/',\n",
       " 'http://labirint.ru/books/703167/']"
      ]
     },
     "execution_count": 135,
     "metadata": {},
     "output_type": "execute_result"
    }
   ],
   "source": [
    "book_links\n",
    "book_links[:5]"
   ]
  },
  {
   "cell_type": "code",
   "execution_count": 136,
   "metadata": {},
   "outputs": [
    {
     "name": "stderr",
     "output_type": "stream",
     "text": [
      "<ipython-input-136-fec73f3c9720>:1: TqdmDeprecationWarning: This function will be removed in tqdm==5.0.0\n",
      "Please use `tqdm.notebook.tqdm` instead of `tqdm.tqdm_notebook`\n",
      "  for book_link in tqdm_notebook(book_links):\n"
     ]
    },
    {
     "data": {
      "application/vnd.jupyter.widget-view+json": {
       "model_id": "99fe00cf01bf49dcadd4056b6742e9f0",
       "version_major": 2,
       "version_minor": 0
      },
      "text/plain": [
       "HBox(children=(HTML(value=''), FloatProgress(value=0.0, max=60.0), HTML(value='')))"
      ]
     },
     "metadata": {},
     "output_type": "display_data"
    },
    {
     "name": "stdout",
     "output_type": "stream",
     "text": [
      "\n"
     ]
    }
   ],
   "source": [
    "for book_link in tqdm_notebook(book_links):\n",
    "    try: \n",
    "        data_row = getBookData(book_link)\n",
    "        final_df = final_df.append(data_row, ignore_index=True)\n",
    "    except:\n",
    "        continue"
   ]
  },
  {
   "cell_type": "code",
   "execution_count": 137,
   "metadata": {},
   "outputs": [],
   "source": [
    "final_df.drop_duplicates(inplace=True)"
   ]
  },
  {
   "cell_type": "code",
   "execution_count": 138,
   "metadata": {},
   "outputs": [
    {
     "data": {
      "text/plain": [
       "(24, 9)"
      ]
     },
     "execution_count": 138,
     "metadata": {},
     "output_type": "execute_result"
    }
   ],
   "source": [
    "final_df.shape"
   ]
  },
  {
   "cell_type": "code",
   "execution_count": 140,
   "metadata": {},
   "outputs": [
    {
     "data": {
      "text/html": [
       "<div>\n",
       "<style scoped>\n",
       "    .dataframe tbody tr th:only-of-type {\n",
       "        vertical-align: middle;\n",
       "    }\n",
       "\n",
       "    .dataframe tbody tr th {\n",
       "        vertical-align: top;\n",
       "    }\n",
       "\n",
       "    .dataframe thead th {\n",
       "        text-align: right;\n",
       "    }\n",
       "</style>\n",
       "<table border=\"1\" class=\"dataframe\">\n",
       "  <thead>\n",
       "    <tr style=\"text-align: right;\">\n",
       "      <th></th>\n",
       "      <th>Название</th>\n",
       "      <th>Автор</th>\n",
       "      <th>Издательство</th>\n",
       "      <th>Наличие</th>\n",
       "      <th>Цена</th>\n",
       "      <th>Рейтинг</th>\n",
       "      <th>Рецензии</th>\n",
       "      <th>Аннотация</th>\n",
       "      <th>Цена</th>\n",
       "    </tr>\n",
       "  </thead>\n",
       "  <tbody>\n",
       "    <tr>\n",
       "      <th>0</th>\n",
       "      <td>Дмитрий Златопольский: Основы программирования...</td>\n",
       "      <td>Златопольский Дмитрий Михайлович</td>\n",
       "      <td>ДМК-Пресс</td>\n",
       "      <td>На складе</td>\n",
       "      <td>NaN</td>\n",
       "      <td>8.73</td>\n",
       "      <td>21 рец.</td>\n",
       "      <td>Если вы хотите научиться программировать на яз...</td>\n",
       "      <td>686</td>\n",
       "    </tr>\n",
       "    <tr>\n",
       "      <th>1</th>\n",
       "      <td>Бенгфорт, Билбро, Охеда: Прикладной анализ тек...</td>\n",
       "      <td>Бенгфорт Бенджамин</td>\n",
       "      <td>Питер</td>\n",
       "      <td>На складе</td>\n",
       "      <td>NaN</td>\n",
       "      <td>3.36</td>\n",
       "      <td>9 рец.</td>\n",
       "      <td>Читать полностью</td>\n",
       "      <td>956</td>\n",
       "    </tr>\n",
       "    <tr>\n",
       "      <th>2</th>\n",
       "      <td>Майкл Хейдт: Изучаем pandas. Высокопроизводите...</td>\n",
       "      <td>Хейдт Майкл</td>\n",
       "      <td>ДМК-Пресс</td>\n",
       "      <td>На складе</td>\n",
       "      <td>NaN</td>\n",
       "      <td>3.25</td>\n",
       "      <td>13 рец.</td>\n",
       "      <td>Библиотека pandas - популярный пакет для анали...</td>\n",
       "      <td>1697</td>\n",
       "    </tr>\n",
       "    <tr>\n",
       "      <th>3</th>\n",
       "      <td>Джон Мюллер: Python для чайников</td>\n",
       "      <td>Мюллер Джон Пол</td>\n",
       "      <td>Диалектика</td>\n",
       "      <td>На складе</td>\n",
       "      <td>NaN</td>\n",
       "      <td>8.00</td>\n",
       "      <td>3 рец.</td>\n",
       "      <td>Python - это мощный язык программирования, на ...</td>\n",
       "      <td>1149</td>\n",
       "    </tr>\n",
       "    <tr>\n",
       "      <th>4</th>\n",
       "      <td>Дэн Бейдер: Чистый Python. Тонкости программир...</td>\n",
       "      <td>Бейдер Дэн</td>\n",
       "      <td>Питер</td>\n",
       "      <td>На складе</td>\n",
       "      <td>NaN</td>\n",
       "      <td>7.50</td>\n",
       "      <td>10 рец.</td>\n",
       "      <td>Изучение всех возможностей Python - сложная за...</td>\n",
       "      <td>1090</td>\n",
       "    </tr>\n",
       "    <tr>\n",
       "      <th>5</th>\n",
       "      <td>Эрик Вестра: Разработка геоприложений на языке...</td>\n",
       "      <td>Вестра Эрик</td>\n",
       "      <td>ДМК-Пресс</td>\n",
       "      <td>На складе</td>\n",
       "      <td>NaN</td>\n",
       "      <td>8.50</td>\n",
       "      <td>39 рец.</td>\n",
       "      <td>Читать полностью</td>\n",
       "      <td>1438</td>\n",
       "    </tr>\n",
       "    <tr>\n",
       "      <th>6</th>\n",
       "      <td>Крис Элбон: Машинное обучение с использованием...</td>\n",
       "      <td>Элбон Крис</td>\n",
       "      <td>BHV</td>\n",
       "      <td>На складе</td>\n",
       "      <td>NaN</td>\n",
       "      <td>4.60</td>\n",
       "      <td>6 рец.</td>\n",
       "      <td>Книга содержит около 200 рецептов решения прак...</td>\n",
       "      <td>846</td>\n",
       "    </tr>\n",
       "    <tr>\n",
       "      <th>7</th>\n",
       "      <td>Владимир Дронов: Django 2.1. Практика создания...</td>\n",
       "      <td>Дронов Владимир Александрович</td>\n",
       "      <td>BHV</td>\n",
       "      <td>На складе</td>\n",
       "      <td>NaN</td>\n",
       "      <td>8.33</td>\n",
       "      <td>5 рец.</td>\n",
       "      <td>Книга посвящена разработке веб-сайтов на Pytho...</td>\n",
       "      <td>1199</td>\n",
       "    </tr>\n",
       "    <tr>\n",
       "      <th>8</th>\n",
       "      <td>Ян Солем: Программирование компьютерного зрени...</td>\n",
       "      <td>Солем Ян Эрик</td>\n",
       "      <td>ДМК-Пресс</td>\n",
       "      <td>На складе</td>\n",
       "      <td>NaN</td>\n",
       "      <td>8.33</td>\n",
       "      <td>4 рец.</td>\n",
       "      <td>Если вы хотите разобраться в основах теории и ...</td>\n",
       "      <td>1184</td>\n",
       "    </tr>\n",
       "    <tr>\n",
       "      <th>9</th>\n",
       "      <td>Коэльо, Ричарт: Построение систем машинного об...</td>\n",
       "      <td>Коэльо Луис Педро</td>\n",
       "      <td>ДМК-Пресс</td>\n",
       "      <td>На складе</td>\n",
       "      <td>NaN</td>\n",
       "      <td>5.83</td>\n",
       "      <td>9 рец.</td>\n",
       "      <td>Читать полностью</td>\n",
       "      <td>1184</td>\n",
       "    </tr>\n",
       "    <tr>\n",
       "      <th>10</th>\n",
       "      <td>Мэтт Харрисон: Машинное обучение. Карманный сп...</td>\n",
       "      <td>Харрисон Мэтт</td>\n",
       "      <td>Диалектика</td>\n",
       "      <td>На складе</td>\n",
       "      <td>NaN</td>\n",
       "      <td>0.00</td>\n",
       "      <td>16 рец.</td>\n",
       "      <td>Читать полностью</td>\n",
       "      <td>1149</td>\n",
       "    </tr>\n",
       "    <tr>\n",
       "      <th>11</th>\n",
       "      <td>Аллен Дауни: Цифровая обработка сигналов на яз...</td>\n",
       "      <td>Дауни Аллен Б.</td>\n",
       "      <td>ДМК-Пресс</td>\n",
       "      <td>На складе</td>\n",
       "      <td>NaN</td>\n",
       "      <td>8.33</td>\n",
       "      <td>3 рец.</td>\n",
       "      <td>Читать полностью</td>\n",
       "      <td>686</td>\n",
       "    </tr>\n",
       "    <tr>\n",
       "      <th>12</th>\n",
       "      <td>Майк МакГрат: Программирование на Python для н...</td>\n",
       "      <td>МакГрат Майк</td>\n",
       "      <td>Эксмо-Пресс</td>\n",
       "      <td>На складе</td>\n",
       "      <td>NaN</td>\n",
       "      <td>7.71</td>\n",
       "      <td>5 рец.</td>\n",
       "      <td>Книга \"Программирование на Python для начинающ...</td>\n",
       "      <td>574</td>\n",
       "    </tr>\n",
       "    <tr>\n",
       "      <th>13</th>\n",
       "      <td>Мориц Ленц: Python. Непрерывная интеграция и д...</td>\n",
       "      <td>Ленц Мориц</td>\n",
       "      <td>ДМК-Пресс</td>\n",
       "      <td>На складе</td>\n",
       "      <td>NaN</td>\n",
       "      <td>0.00</td>\n",
       "      <td>5 рец.</td>\n",
       "      <td>Читать полностью</td>\n",
       "      <td>935</td>\n",
       "    </tr>\n",
       "    <tr>\n",
       "      <th>14</th>\n",
       "      <td>Аллен Дауни: Изучение сложных систем с помощью...</td>\n",
       "      <td>Дауни Аллен Б.</td>\n",
       "      <td>ДМК-Пресс</td>\n",
       "      <td>На складе</td>\n",
       "      <td>NaN</td>\n",
       "      <td>4.00</td>\n",
       "      <td>5 рец.</td>\n",
       "      <td>Читать полностью</td>\n",
       "      <td>935</td>\n",
       "    </tr>\n",
       "    <tr>\n",
       "      <th>15</th>\n",
       "      <td>Мэтт Харрисон: Как устроен Python. Гид для раз...</td>\n",
       "      <td>Харрисон Мэтт</td>\n",
       "      <td>Питер</td>\n",
       "      <td>На складе</td>\n",
       "      <td>NaN</td>\n",
       "      <td>5.67</td>\n",
       "      <td>5 рец.</td>\n",
       "      <td>Читать полностью</td>\n",
       "      <td>878</td>\n",
       "    </tr>\n",
       "    <tr>\n",
       "      <th>16</th>\n",
       "      <td>Андреа Лонца: Алгоритмы обучения с подкреплени...</td>\n",
       "      <td>Лонца Андреа</td>\n",
       "      <td>ДМК-Пресс</td>\n",
       "      <td>На складе</td>\n",
       "      <td>NaN</td>\n",
       "      <td>0.00</td>\n",
       "      <td>3 рец.</td>\n",
       "      <td>Читать полностью</td>\n",
       "      <td>1693</td>\n",
       "    </tr>\n",
       "    <tr>\n",
       "      <th>17</th>\n",
       "      <td>Рашка, Мирджалили: Python и машинное обучение:...</td>\n",
       "      <td>Рашка Себастьян</td>\n",
       "      <td>Вильямс</td>\n",
       "      <td>На складе</td>\n",
       "      <td>NaN</td>\n",
       "      <td>6.68</td>\n",
       "      <td>1 рец.</td>\n",
       "      <td>Машинное обучение поглощает мир программного о...</td>\n",
       "      <td>3587</td>\n",
       "    </tr>\n",
       "    <tr>\n",
       "      <th>18</th>\n",
       "      <td>Рик Гаско: Простой Python просто с нуля</td>\n",
       "      <td>Гаско Рик</td>\n",
       "      <td>Солон-пресс</td>\n",
       "      <td>На складе</td>\n",
       "      <td>NaN</td>\n",
       "      <td>2.00</td>\n",
       "      <td>4 рец.</td>\n",
       "      <td>Язык программирования Python. Он моден, он акт...</td>\n",
       "      <td>714</td>\n",
       "    </tr>\n",
       "    <tr>\n",
       "      <th>19</th>\n",
       "      <td>Артем Груздев: Прогнозное моделирование в IBM ...</td>\n",
       "      <td>Груздев Артем Владимирович</td>\n",
       "      <td>ДМК-Пресс</td>\n",
       "      <td>На складе</td>\n",
       "      <td>NaN</td>\n",
       "      <td>5.33</td>\n",
       "      <td>13 рец.</td>\n",
       "      <td>Данная книга представляет собой практическое р...</td>\n",
       "      <td>2708</td>\n",
       "    </tr>\n",
       "    <tr>\n",
       "      <th>20</th>\n",
       "      <td>Дмитрий Златопольский: Основы программирования...</td>\n",
       "      <td>Златопольский Дмитрий Михайлович</td>\n",
       "      <td>ДМК-Пресс</td>\n",
       "      <td>На складе</td>\n",
       "      <td>NaN</td>\n",
       "      <td>8.73</td>\n",
       "      <td>40 рец.</td>\n",
       "      <td>Если вы хотите научиться программировать на яз...</td>\n",
       "      <td>686</td>\n",
       "    </tr>\n",
       "    <tr>\n",
       "      <th>21</th>\n",
       "      <td>Эрик Мэтиз: Изучаем Python. Программирование и...</td>\n",
       "      <td>Мэтиз Эрик</td>\n",
       "      <td>Питер</td>\n",
       "      <td>На складе</td>\n",
       "      <td>NaN</td>\n",
       "      <td>8.79</td>\n",
       "      <td>8 рец.</td>\n",
       "      <td>Книга \"Изучаем Python\" - это ускоренный курс, ...</td>\n",
       "      <td>1108</td>\n",
       "    </tr>\n",
       "    <tr>\n",
       "      <th>22</th>\n",
       "      <td>Прохоренок, Дронов: Python 3 и PyQt 5. Разрабо...</td>\n",
       "      <td>Прохоренок Николай Анатольевич</td>\n",
       "      <td>BHV</td>\n",
       "      <td>На складе</td>\n",
       "      <td>NaN</td>\n",
       "      <td>8.60</td>\n",
       "      <td>4 рец.</td>\n",
       "      <td>Описан язык Python 3: типы данных, операторы, ...</td>\n",
       "      <td>1330</td>\n",
       "    </tr>\n",
       "    <tr>\n",
       "      <th>23</th>\n",
       "      <td>Владимир Дронов: Django 2.1. Практика создания...</td>\n",
       "      <td>Дронов Владимир Александрович</td>\n",
       "      <td>BHV</td>\n",
       "      <td>На складе</td>\n",
       "      <td>NaN</td>\n",
       "      <td>8.33</td>\n",
       "      <td>3 рец.</td>\n",
       "      <td>Книга посвящена разработке веб-сайтов на Pytho...</td>\n",
       "      <td>1199</td>\n",
       "    </tr>\n",
       "  </tbody>\n",
       "</table>\n",
       "</div>"
      ],
      "text/plain": [
       "                                             Название  \\\n",
       "0   Дмитрий Златопольский: Основы программирования...   \n",
       "1   Бенгфорт, Билбро, Охеда: Прикладной анализ тек...   \n",
       "2   Майкл Хейдт: Изучаем pandas. Высокопроизводите...   \n",
       "3                    Джон Мюллер: Python для чайников   \n",
       "4   Дэн Бейдер: Чистый Python. Тонкости программир...   \n",
       "5   Эрик Вестра: Разработка геоприложений на языке...   \n",
       "6   Крис Элбон: Машинное обучение с использованием...   \n",
       "7   Владимир Дронов: Django 2.1. Практика создания...   \n",
       "8   Ян Солем: Программирование компьютерного зрени...   \n",
       "9   Коэльо, Ричарт: Построение систем машинного об...   \n",
       "10  Мэтт Харрисон: Машинное обучение. Карманный сп...   \n",
       "11  Аллен Дауни: Цифровая обработка сигналов на яз...   \n",
       "12  Майк МакГрат: Программирование на Python для н...   \n",
       "13  Мориц Ленц: Python. Непрерывная интеграция и д...   \n",
       "14  Аллен Дауни: Изучение сложных систем с помощью...   \n",
       "15  Мэтт Харрисон: Как устроен Python. Гид для раз...   \n",
       "16  Андреа Лонца: Алгоритмы обучения с подкреплени...   \n",
       "17  Рашка, Мирджалили: Python и машинное обучение:...   \n",
       "18            Рик Гаско: Простой Python просто с нуля   \n",
       "19  Артем Груздев: Прогнозное моделирование в IBM ...   \n",
       "20  Дмитрий Златопольский: Основы программирования...   \n",
       "21  Эрик Мэтиз: Изучаем Python. Программирование и...   \n",
       "22  Прохоренок, Дронов: Python 3 и PyQt 5. Разрабо...   \n",
       "23  Владимир Дронов: Django 2.1. Практика создания...   \n",
       "\n",
       "                               Автор Издательство    Наличие  Цена  Рейтинг  \\\n",
       "0   Златопольский Дмитрий Михайлович    ДМК-Пресс  На складе   NaN     8.73   \n",
       "1                 Бенгфорт Бенджамин        Питер  На складе   NaN     3.36   \n",
       "2                        Хейдт Майкл    ДМК-Пресс  На складе   NaN     3.25   \n",
       "3                    Мюллер Джон Пол   Диалектика  На складе   NaN     8.00   \n",
       "4                         Бейдер Дэн        Питер  На складе   NaN     7.50   \n",
       "5                        Вестра Эрик    ДМК-Пресс  На складе   NaN     8.50   \n",
       "6                         Элбон Крис          BHV  На складе   NaN     4.60   \n",
       "7      Дронов Владимир Александрович          BHV  На складе   NaN     8.33   \n",
       "8                      Солем Ян Эрик    ДМК-Пресс  На складе   NaN     8.33   \n",
       "9                  Коэльо Луис Педро    ДМК-Пресс  На складе   NaN     5.83   \n",
       "10                     Харрисон Мэтт   Диалектика  На складе   NaN     0.00   \n",
       "11                    Дауни Аллен Б.    ДМК-Пресс  На складе   NaN     8.33   \n",
       "12                      МакГрат Майк  Эксмо-Пресс  На складе   NaN     7.71   \n",
       "13                        Ленц Мориц    ДМК-Пресс  На складе   NaN     0.00   \n",
       "14                    Дауни Аллен Б.    ДМК-Пресс  На складе   NaN     4.00   \n",
       "15                     Харрисон Мэтт        Питер  На складе   NaN     5.67   \n",
       "16                      Лонца Андреа    ДМК-Пресс  На складе   NaN     0.00   \n",
       "17                   Рашка Себастьян      Вильямс  На складе   NaN     6.68   \n",
       "18                         Гаско Рик  Солон-пресс  На складе   NaN     2.00   \n",
       "19        Груздев Артем Владимирович    ДМК-Пресс  На складе   NaN     5.33   \n",
       "20  Златопольский Дмитрий Михайлович    ДМК-Пресс  На складе   NaN     8.73   \n",
       "21                        Мэтиз Эрик        Питер  На складе   NaN     8.79   \n",
       "22    Прохоренок Николай Анатольевич          BHV  На складе   NaN     8.60   \n",
       "23     Дронов Владимир Александрович          BHV  На складе   NaN     8.33   \n",
       "\n",
       "   Рецензии                                          Аннотация  Цена  \n",
       "0   21 рец.  Если вы хотите научиться программировать на яз...   686  \n",
       "1    9 рец.                                   Читать полностью   956  \n",
       "2   13 рец.  Библиотека pandas - популярный пакет для анали...  1697  \n",
       "3    3 рец.  Python - это мощный язык программирования, на ...  1149  \n",
       "4   10 рец.  Изучение всех возможностей Python - сложная за...  1090  \n",
       "5   39 рец.                                   Читать полностью  1438  \n",
       "6    6 рец.  Книга содержит около 200 рецептов решения прак...   846  \n",
       "7    5 рец.  Книга посвящена разработке веб-сайтов на Pytho...  1199  \n",
       "8    4 рец.  Если вы хотите разобраться в основах теории и ...  1184  \n",
       "9    9 рец.                                   Читать полностью  1184  \n",
       "10  16 рец.                                   Читать полностью  1149  \n",
       "11   3 рец.                                   Читать полностью   686  \n",
       "12   5 рец.  Книга \"Программирование на Python для начинающ...   574  \n",
       "13   5 рец.                                   Читать полностью   935  \n",
       "14   5 рец.                                   Читать полностью   935  \n",
       "15   5 рец.                                   Читать полностью   878  \n",
       "16   3 рец.                                   Читать полностью  1693  \n",
       "17   1 рец.  Машинное обучение поглощает мир программного о...  3587  \n",
       "18   4 рец.  Язык программирования Python. Он моден, он акт...   714  \n",
       "19  13 рец.  Данная книга представляет собой практическое р...  2708  \n",
       "20  40 рец.  Если вы хотите научиться программировать на яз...   686  \n",
       "21   8 рец.  Книга \"Изучаем Python\" - это ускоренный курс, ...  1108  \n",
       "22   4 рец.  Описан язык Python 3: типы данных, операторы, ...  1330  \n",
       "23   3 рец.  Книга посвящена разработке веб-сайтов на Pytho...  1199  "
      ]
     },
     "execution_count": 140,
     "metadata": {},
     "output_type": "execute_result"
    }
   ],
   "source": [
    "final_df"
   ]
  },
  {
   "cell_type": "markdown",
   "metadata": {},
   "source": [
    "### Итог: получилось собрать не все данные.Похоже,сайт решил,что-то не то и остановил процесс"
   ]
  },
  {
   "cell_type": "code",
   "execution_count": null,
   "metadata": {},
   "outputs": [],
   "source": []
  }
 ],
 "metadata": {
  "kernelspec": {
   "display_name": "Python 3",
   "language": "python",
   "name": "python3"
  },
  "language_info": {
   "codemirror_mode": {
    "name": "ipython",
    "version": 3
   },
   "file_extension": ".py",
   "mimetype": "text/x-python",
   "name": "python",
   "nbconvert_exporter": "python",
   "pygments_lexer": "ipython3",
   "version": "3.8.5"
  }
 },
 "nbformat": 4,
 "nbformat_minor": 4
}
