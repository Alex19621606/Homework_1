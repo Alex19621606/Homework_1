{
 "cells": [
  {
   "cell_type": "code",
   "execution_count": 1,
   "metadata": {},
   "outputs": [],
   "source": [
    "import pandas as pd\n",
    "import numpy as np\n",
    "import seaborn as sns\n",
    "import matplotlib.pyplot as plt\n",
    "import warnings\n",
    "warnings.filterwarnings(\"ignore\")\n",
    "%matplotlib inline\n"
   ]
  },
  {
   "cell_type": "code",
   "execution_count": 2,
   "metadata": {},
   "outputs": [],
   "source": [
    "# Переменные, которые пока нужно убрать: id, name, host_id, host_name, last_review.\n",
    "usecols = ['neighbourhood_group','neighbourhood','latitude','longitude','room_type','price','minimum_nights','number_of_reviews','reviews_per_month','calculated_host_listings_count','availability_365']\n",
    "\n",
    "# Численные признаки укладываются в 32 бита так что для уменьшения размера данных задам типы данных.\n",
    "dtype = {'neighbourhood_group':np.unicode_,'neighbourhood':np.unicode_,'latitude':np.float32,'longitude':np.float32,'room_type':np.unicode_,'price':np.int32,'minimum_nights':np.int32,'number_of_reviews':np.int32,'reviews_per_month':np.float32,'calculated_host_listings_count':np.int32,'availability_365':np.int32}\n",
    "\n",
    "df = pd.read_csv('E:/Data/AB_NYC_2019.csv', usecols=usecols, dtype=dtype)"
   ]
  },
  {
   "cell_type": "code",
   "execution_count": 3,
   "metadata": {},
   "outputs": [],
   "source": [
    "## Проверим датафрейм по основным показателям"
   ]
  },
  {
   "cell_type": "code",
   "execution_count": 4,
   "metadata": {},
   "outputs": [
    {
     "data": {
      "text/plain": [
       "(48895, 11)"
      ]
     },
     "execution_count": 4,
     "metadata": {},
     "output_type": "execute_result"
    }
   ],
   "source": [
    "df.shape"
   ]
  },
  {
   "cell_type": "code",
   "execution_count": 5,
   "metadata": {},
   "outputs": [
    {
     "data": {
      "text/html": [
       "<div>\n",
       "<style scoped>\n",
       "    .dataframe tbody tr th:only-of-type {\n",
       "        vertical-align: middle;\n",
       "    }\n",
       "\n",
       "    .dataframe tbody tr th {\n",
       "        vertical-align: top;\n",
       "    }\n",
       "\n",
       "    .dataframe thead th {\n",
       "        text-align: right;\n",
       "    }\n",
       "</style>\n",
       "<table border=\"1\" class=\"dataframe\">\n",
       "  <thead>\n",
       "    <tr style=\"text-align: right;\">\n",
       "      <th></th>\n",
       "      <th>neighbourhood_group</th>\n",
       "      <th>neighbourhood</th>\n",
       "      <th>latitude</th>\n",
       "      <th>longitude</th>\n",
       "      <th>room_type</th>\n",
       "      <th>price</th>\n",
       "      <th>minimum_nights</th>\n",
       "      <th>number_of_reviews</th>\n",
       "      <th>reviews_per_month</th>\n",
       "      <th>calculated_host_listings_count</th>\n",
       "      <th>availability_365</th>\n",
       "    </tr>\n",
       "  </thead>\n",
       "  <tbody>\n",
       "    <tr>\n",
       "      <th>0</th>\n",
       "      <td>Brooklyn</td>\n",
       "      <td>Kensington</td>\n",
       "      <td>40.647491</td>\n",
       "      <td>-73.972366</td>\n",
       "      <td>Private room</td>\n",
       "      <td>149</td>\n",
       "      <td>1</td>\n",
       "      <td>9</td>\n",
       "      <td>0.21</td>\n",
       "      <td>6</td>\n",
       "      <td>365</td>\n",
       "    </tr>\n",
       "    <tr>\n",
       "      <th>1</th>\n",
       "      <td>Manhattan</td>\n",
       "      <td>Midtown</td>\n",
       "      <td>40.753620</td>\n",
       "      <td>-73.983772</td>\n",
       "      <td>Entire home/apt</td>\n",
       "      <td>225</td>\n",
       "      <td>1</td>\n",
       "      <td>45</td>\n",
       "      <td>0.38</td>\n",
       "      <td>2</td>\n",
       "      <td>355</td>\n",
       "    </tr>\n",
       "    <tr>\n",
       "      <th>2</th>\n",
       "      <td>Manhattan</td>\n",
       "      <td>Harlem</td>\n",
       "      <td>40.809021</td>\n",
       "      <td>-73.941902</td>\n",
       "      <td>Private room</td>\n",
       "      <td>150</td>\n",
       "      <td>3</td>\n",
       "      <td>0</td>\n",
       "      <td>NaN</td>\n",
       "      <td>1</td>\n",
       "      <td>365</td>\n",
       "    </tr>\n",
       "    <tr>\n",
       "      <th>3</th>\n",
       "      <td>Brooklyn</td>\n",
       "      <td>Clinton Hill</td>\n",
       "      <td>40.685139</td>\n",
       "      <td>-73.959763</td>\n",
       "      <td>Entire home/apt</td>\n",
       "      <td>89</td>\n",
       "      <td>1</td>\n",
       "      <td>270</td>\n",
       "      <td>4.64</td>\n",
       "      <td>1</td>\n",
       "      <td>194</td>\n",
       "    </tr>\n",
       "    <tr>\n",
       "      <th>4</th>\n",
       "      <td>Manhattan</td>\n",
       "      <td>East Harlem</td>\n",
       "      <td>40.798512</td>\n",
       "      <td>-73.943993</td>\n",
       "      <td>Entire home/apt</td>\n",
       "      <td>80</td>\n",
       "      <td>10</td>\n",
       "      <td>9</td>\n",
       "      <td>0.10</td>\n",
       "      <td>1</td>\n",
       "      <td>0</td>\n",
       "    </tr>\n",
       "  </tbody>\n",
       "</table>\n",
       "</div>"
      ],
      "text/plain": [
       "  neighbourhood_group neighbourhood   latitude  longitude        room_type  \\\n",
       "0            Brooklyn    Kensington  40.647491 -73.972366     Private room   \n",
       "1           Manhattan       Midtown  40.753620 -73.983772  Entire home/apt   \n",
       "2           Manhattan        Harlem  40.809021 -73.941902     Private room   \n",
       "3            Brooklyn  Clinton Hill  40.685139 -73.959763  Entire home/apt   \n",
       "4           Manhattan   East Harlem  40.798512 -73.943993  Entire home/apt   \n",
       "\n",
       "   price  minimum_nights  number_of_reviews  reviews_per_month  \\\n",
       "0    149               1                  9               0.21   \n",
       "1    225               1                 45               0.38   \n",
       "2    150               3                  0                NaN   \n",
       "3     89               1                270               4.64   \n",
       "4     80              10                  9               0.10   \n",
       "\n",
       "   calculated_host_listings_count  availability_365  \n",
       "0                               6               365  \n",
       "1                               2               355  \n",
       "2                               1               365  \n",
       "3                               1               194  \n",
       "4                               1                 0  "
      ]
     },
     "execution_count": 5,
     "metadata": {},
     "output_type": "execute_result"
    }
   ],
   "source": [
    "df.head()"
   ]
  },
  {
   "cell_type": "code",
   "execution_count": 6,
   "metadata": {},
   "outputs": [
    {
     "data": {
      "text/html": [
       "<div>\n",
       "<style scoped>\n",
       "    .dataframe tbody tr th:only-of-type {\n",
       "        vertical-align: middle;\n",
       "    }\n",
       "\n",
       "    .dataframe tbody tr th {\n",
       "        vertical-align: top;\n",
       "    }\n",
       "\n",
       "    .dataframe thead th {\n",
       "        text-align: right;\n",
       "    }\n",
       "</style>\n",
       "<table border=\"1\" class=\"dataframe\">\n",
       "  <thead>\n",
       "    <tr style=\"text-align: right;\">\n",
       "      <th></th>\n",
       "      <th>neighbourhood_group</th>\n",
       "      <th>neighbourhood</th>\n",
       "      <th>latitude</th>\n",
       "      <th>longitude</th>\n",
       "      <th>room_type</th>\n",
       "      <th>price</th>\n",
       "      <th>minimum_nights</th>\n",
       "      <th>number_of_reviews</th>\n",
       "      <th>reviews_per_month</th>\n",
       "      <th>calculated_host_listings_count</th>\n",
       "      <th>availability_365</th>\n",
       "    </tr>\n",
       "  </thead>\n",
       "  <tbody>\n",
       "    <tr>\n",
       "      <th>48890</th>\n",
       "      <td>Brooklyn</td>\n",
       "      <td>Bedford-Stuyvesant</td>\n",
       "      <td>40.678532</td>\n",
       "      <td>-73.949951</td>\n",
       "      <td>Private room</td>\n",
       "      <td>70</td>\n",
       "      <td>2</td>\n",
       "      <td>0</td>\n",
       "      <td>NaN</td>\n",
       "      <td>2</td>\n",
       "      <td>9</td>\n",
       "    </tr>\n",
       "    <tr>\n",
       "      <th>48891</th>\n",
       "      <td>Brooklyn</td>\n",
       "      <td>Bushwick</td>\n",
       "      <td>40.701839</td>\n",
       "      <td>-73.933167</td>\n",
       "      <td>Private room</td>\n",
       "      <td>40</td>\n",
       "      <td>4</td>\n",
       "      <td>0</td>\n",
       "      <td>NaN</td>\n",
       "      <td>2</td>\n",
       "      <td>36</td>\n",
       "    </tr>\n",
       "    <tr>\n",
       "      <th>48892</th>\n",
       "      <td>Manhattan</td>\n",
       "      <td>Harlem</td>\n",
       "      <td>40.814751</td>\n",
       "      <td>-73.948669</td>\n",
       "      <td>Entire home/apt</td>\n",
       "      <td>115</td>\n",
       "      <td>10</td>\n",
       "      <td>0</td>\n",
       "      <td>NaN</td>\n",
       "      <td>1</td>\n",
       "      <td>27</td>\n",
       "    </tr>\n",
       "    <tr>\n",
       "      <th>48893</th>\n",
       "      <td>Manhattan</td>\n",
       "      <td>Hell's Kitchen</td>\n",
       "      <td>40.757511</td>\n",
       "      <td>-73.991119</td>\n",
       "      <td>Shared room</td>\n",
       "      <td>55</td>\n",
       "      <td>1</td>\n",
       "      <td>0</td>\n",
       "      <td>NaN</td>\n",
       "      <td>6</td>\n",
       "      <td>2</td>\n",
       "    </tr>\n",
       "    <tr>\n",
       "      <th>48894</th>\n",
       "      <td>Manhattan</td>\n",
       "      <td>Hell's Kitchen</td>\n",
       "      <td>40.764042</td>\n",
       "      <td>-73.989326</td>\n",
       "      <td>Private room</td>\n",
       "      <td>90</td>\n",
       "      <td>7</td>\n",
       "      <td>0</td>\n",
       "      <td>NaN</td>\n",
       "      <td>1</td>\n",
       "      <td>23</td>\n",
       "    </tr>\n",
       "  </tbody>\n",
       "</table>\n",
       "</div>"
      ],
      "text/plain": [
       "      neighbourhood_group       neighbourhood   latitude  longitude  \\\n",
       "48890            Brooklyn  Bedford-Stuyvesant  40.678532 -73.949951   \n",
       "48891            Brooklyn            Bushwick  40.701839 -73.933167   \n",
       "48892           Manhattan              Harlem  40.814751 -73.948669   \n",
       "48893           Manhattan      Hell's Kitchen  40.757511 -73.991119   \n",
       "48894           Manhattan      Hell's Kitchen  40.764042 -73.989326   \n",
       "\n",
       "             room_type  price  minimum_nights  number_of_reviews  \\\n",
       "48890     Private room     70               2                  0   \n",
       "48891     Private room     40               4                  0   \n",
       "48892  Entire home/apt    115              10                  0   \n",
       "48893      Shared room     55               1                  0   \n",
       "48894     Private room     90               7                  0   \n",
       "\n",
       "       reviews_per_month  calculated_host_listings_count  availability_365  \n",
       "48890                NaN                               2                 9  \n",
       "48891                NaN                               2                36  \n",
       "48892                NaN                               1                27  \n",
       "48893                NaN                               6                 2  \n",
       "48894                NaN                               1                23  "
      ]
     },
     "execution_count": 6,
     "metadata": {},
     "output_type": "execute_result"
    }
   ],
   "source": [
    "df.tail()"
   ]
  },
  {
   "cell_type": "code",
   "execution_count": 7,
   "metadata": {},
   "outputs": [
    {
     "name": "stdout",
     "output_type": "stream",
     "text": [
      "<class 'pandas.core.frame.DataFrame'>\n",
      "RangeIndex: 48895 entries, 0 to 48894\n",
      "Data columns (total 11 columns):\n",
      " #   Column                          Non-Null Count  Dtype  \n",
      "---  ------                          --------------  -----  \n",
      " 0   neighbourhood_group             48895 non-null  object \n",
      " 1   neighbourhood                   48895 non-null  object \n",
      " 2   latitude                        48895 non-null  float32\n",
      " 3   longitude                       48895 non-null  float32\n",
      " 4   room_type                       48895 non-null  object \n",
      " 5   price                           48895 non-null  int32  \n",
      " 6   minimum_nights                  48895 non-null  int32  \n",
      " 7   number_of_reviews               48895 non-null  int32  \n",
      " 8   reviews_per_month               38843 non-null  float32\n",
      " 9   calculated_host_listings_count  48895 non-null  int32  \n",
      " 10  availability_365                48895 non-null  int32  \n",
      "dtypes: float32(3), int32(5), object(3)\n",
      "memory usage: 2.6+ MB\n"
     ]
    }
   ],
   "source": [
    "df.info()"
   ]
  },
  {
   "cell_type": "code",
   "execution_count": 8,
   "metadata": {},
   "outputs": [],
   "source": [
    "## Проверим,есть ли дубликаты"
   ]
  },
  {
   "cell_type": "code",
   "execution_count": 9,
   "metadata": {},
   "outputs": [
    {
     "data": {
      "text/plain": [
       "False    48895\n",
       "dtype: int64"
      ]
     },
     "execution_count": 9,
     "metadata": {},
     "output_type": "execute_result"
    }
   ],
   "source": [
    "df.duplicated().value_counts()"
   ]
  },
  {
   "cell_type": "code",
   "execution_count": 10,
   "metadata": {},
   "outputs": [],
   "source": [
    "## Дубликатов нет"
   ]
  },
  {
   "cell_type": "markdown",
   "metadata": {},
   "source": [
    "## Статистика"
   ]
  },
  {
   "cell_type": "code",
   "execution_count": 11,
   "metadata": {},
   "outputs": [
    {
     "data": {
      "text/html": [
       "<div>\n",
       "<style scoped>\n",
       "    .dataframe tbody tr th:only-of-type {\n",
       "        vertical-align: middle;\n",
       "    }\n",
       "\n",
       "    .dataframe tbody tr th {\n",
       "        vertical-align: top;\n",
       "    }\n",
       "\n",
       "    .dataframe thead th {\n",
       "        text-align: right;\n",
       "    }\n",
       "</style>\n",
       "<table border=\"1\" class=\"dataframe\">\n",
       "  <thead>\n",
       "    <tr style=\"text-align: right;\">\n",
       "      <th></th>\n",
       "      <th>count</th>\n",
       "      <th>mean</th>\n",
       "      <th>std</th>\n",
       "      <th>min</th>\n",
       "      <th>25%</th>\n",
       "      <th>50%</th>\n",
       "      <th>75%</th>\n",
       "      <th>90%</th>\n",
       "      <th>95%</th>\n",
       "      <th>99%</th>\n",
       "      <th>max</th>\n",
       "    </tr>\n",
       "  </thead>\n",
       "  <tbody>\n",
       "    <tr>\n",
       "      <th>latitude</th>\n",
       "      <td>48895.0</td>\n",
       "      <td>40.730587</td>\n",
       "      <td>0.054555</td>\n",
       "      <td>40.499790</td>\n",
       "      <td>40.690102</td>\n",
       "      <td>40.723068</td>\n",
       "      <td>40.763115</td>\n",
       "      <td>40.804890</td>\n",
       "      <td>40.825644</td>\n",
       "      <td>40.864659</td>\n",
       "      <td>40.913059</td>\n",
       "    </tr>\n",
       "    <tr>\n",
       "      <th>longitude</th>\n",
       "      <td>48895.0</td>\n",
       "      <td>-73.969963</td>\n",
       "      <td>0.049468</td>\n",
       "      <td>-74.244423</td>\n",
       "      <td>-73.983070</td>\n",
       "      <td>-73.955681</td>\n",
       "      <td>-73.936275</td>\n",
       "      <td>-73.907806</td>\n",
       "      <td>-73.865775</td>\n",
       "      <td>-73.776922</td>\n",
       "      <td>-73.712990</td>\n",
       "    </tr>\n",
       "    <tr>\n",
       "      <th>price</th>\n",
       "      <td>48895.0</td>\n",
       "      <td>152.720687</td>\n",
       "      <td>240.154170</td>\n",
       "      <td>0.000000</td>\n",
       "      <td>69.000000</td>\n",
       "      <td>106.000000</td>\n",
       "      <td>175.000000</td>\n",
       "      <td>269.000000</td>\n",
       "      <td>355.000000</td>\n",
       "      <td>799.000000</td>\n",
       "      <td>10000.000000</td>\n",
       "    </tr>\n",
       "    <tr>\n",
       "      <th>minimum_nights</th>\n",
       "      <td>48895.0</td>\n",
       "      <td>7.029962</td>\n",
       "      <td>20.510550</td>\n",
       "      <td>1.000000</td>\n",
       "      <td>1.000000</td>\n",
       "      <td>3.000000</td>\n",
       "      <td>5.000000</td>\n",
       "      <td>28.000000</td>\n",
       "      <td>30.000000</td>\n",
       "      <td>45.000000</td>\n",
       "      <td>1250.000000</td>\n",
       "    </tr>\n",
       "    <tr>\n",
       "      <th>number_of_reviews</th>\n",
       "      <td>48895.0</td>\n",
       "      <td>23.274466</td>\n",
       "      <td>44.550582</td>\n",
       "      <td>0.000000</td>\n",
       "      <td>1.000000</td>\n",
       "      <td>5.000000</td>\n",
       "      <td>24.000000</td>\n",
       "      <td>70.000000</td>\n",
       "      <td>114.000000</td>\n",
       "      <td>214.000000</td>\n",
       "      <td>629.000000</td>\n",
       "    </tr>\n",
       "    <tr>\n",
       "      <th>reviews_per_month</th>\n",
       "      <td>38843.0</td>\n",
       "      <td>1.373218</td>\n",
       "      <td>1.680445</td>\n",
       "      <td>0.010000</td>\n",
       "      <td>0.190000</td>\n",
       "      <td>0.720000</td>\n",
       "      <td>2.020000</td>\n",
       "      <td>3.630000</td>\n",
       "      <td>4.640000</td>\n",
       "      <td>7.195800</td>\n",
       "      <td>58.500000</td>\n",
       "    </tr>\n",
       "    <tr>\n",
       "      <th>calculated_host_listings_count</th>\n",
       "      <td>48895.0</td>\n",
       "      <td>7.143982</td>\n",
       "      <td>32.952519</td>\n",
       "      <td>1.000000</td>\n",
       "      <td>1.000000</td>\n",
       "      <td>1.000000</td>\n",
       "      <td>2.000000</td>\n",
       "      <td>5.000000</td>\n",
       "      <td>15.000000</td>\n",
       "      <td>232.000000</td>\n",
       "      <td>327.000000</td>\n",
       "    </tr>\n",
       "    <tr>\n",
       "      <th>availability_365</th>\n",
       "      <td>48895.0</td>\n",
       "      <td>112.781327</td>\n",
       "      <td>131.622289</td>\n",
       "      <td>0.000000</td>\n",
       "      <td>0.000000</td>\n",
       "      <td>45.000000</td>\n",
       "      <td>227.000000</td>\n",
       "      <td>337.000000</td>\n",
       "      <td>359.000000</td>\n",
       "      <td>365.000000</td>\n",
       "      <td>365.000000</td>\n",
       "    </tr>\n",
       "  </tbody>\n",
       "</table>\n",
       "</div>"
      ],
      "text/plain": [
       "                                  count        mean         std        min  \\\n",
       "latitude                        48895.0   40.730587    0.054555  40.499790   \n",
       "longitude                       48895.0  -73.969963    0.049468 -74.244423   \n",
       "price                           48895.0  152.720687  240.154170   0.000000   \n",
       "minimum_nights                  48895.0    7.029962   20.510550   1.000000   \n",
       "number_of_reviews               48895.0   23.274466   44.550582   0.000000   \n",
       "reviews_per_month               38843.0    1.373218    1.680445   0.010000   \n",
       "calculated_host_listings_count  48895.0    7.143982   32.952519   1.000000   \n",
       "availability_365                48895.0  112.781327  131.622289   0.000000   \n",
       "\n",
       "                                      25%         50%         75%         90%  \\\n",
       "latitude                        40.690102   40.723068   40.763115   40.804890   \n",
       "longitude                      -73.983070  -73.955681  -73.936275  -73.907806   \n",
       "price                           69.000000  106.000000  175.000000  269.000000   \n",
       "minimum_nights                   1.000000    3.000000    5.000000   28.000000   \n",
       "number_of_reviews                1.000000    5.000000   24.000000   70.000000   \n",
       "reviews_per_month                0.190000    0.720000    2.020000    3.630000   \n",
       "calculated_host_listings_count   1.000000    1.000000    2.000000    5.000000   \n",
       "availability_365                 0.000000   45.000000  227.000000  337.000000   \n",
       "\n",
       "                                       95%         99%           max  \n",
       "latitude                         40.825644   40.864659     40.913059  \n",
       "longitude                       -73.865775  -73.776922    -73.712990  \n",
       "price                           355.000000  799.000000  10000.000000  \n",
       "minimum_nights                   30.000000   45.000000   1250.000000  \n",
       "number_of_reviews               114.000000  214.000000    629.000000  \n",
       "reviews_per_month                 4.640000    7.195800     58.500000  \n",
       "calculated_host_listings_count   15.000000  232.000000    327.000000  \n",
       "availability_365                359.000000  365.000000    365.000000  "
      ]
     },
     "execution_count": 11,
     "metadata": {},
     "output_type": "execute_result"
    }
   ],
   "source": [
    "df.describe(percentiles=[.25, .5, .75, .9, .95, .99]).T"
   ]
  },
  {
   "cell_type": "code",
   "execution_count": 12,
   "metadata": {},
   "outputs": [],
   "source": [
    " ##Есть бесплатное жильё\n",
    " ##Есть недоступное в течение всего года\n",
    " ##Есть всплеск по цене,возможно выбросы"
   ]
  },
  {
   "cell_type": "code",
   "execution_count": 13,
   "metadata": {},
   "outputs": [],
   "source": [
    "## Проверим наличие пропусков в датафрейме"
   ]
  },
  {
   "cell_type": "code",
   "execution_count": 14,
   "metadata": {},
   "outputs": [
    {
     "data": {
      "text/plain": [
       "neighbourhood_group                   0\n",
       "neighbourhood                         0\n",
       "latitude                              0\n",
       "longitude                             0\n",
       "room_type                             0\n",
       "price                                 0\n",
       "minimum_nights                        0\n",
       "number_of_reviews                     0\n",
       "reviews_per_month                 10052\n",
       "calculated_host_listings_count        0\n",
       "availability_365                      0\n",
       "dtype: int64"
      ]
     },
     "execution_count": 14,
     "metadata": {},
     "output_type": "execute_result"
    }
   ],
   "source": [
    "df.isnull().sum() "
   ]
  },
  {
   "cell_type": "code",
   "execution_count": 15,
   "metadata": {},
   "outputs": [],
   "source": [
    "## Много пропусков в данных 'reviews_per_month'.\n",
    "## Они не так информативны как'number_of_reviews',поэтому NaN заменим на 0"
   ]
  },
  {
   "cell_type": "code",
   "execution_count": 16,
   "metadata": {},
   "outputs": [
    {
     "data": {
      "text/plain": [
       "0"
      ]
     },
     "execution_count": 16,
     "metadata": {},
     "output_type": "execute_result"
    }
   ],
   "source": [
    "df['reviews_per_month'].fillna(0, inplace=True)\n",
    "df['reviews_per_month'].isna().sum()"
   ]
  },
  {
   "cell_type": "markdown",
   "metadata": {},
   "source": [
    "## Построим гистограммы распределения\n"
   ]
  },
  {
   "cell_type": "code",
   "execution_count": 17,
   "metadata": {},
   "outputs": [
    {
     "data": {
      "image/png": "[encoded data removed]",
      "text/plain": [
       "<Figure size 1080x720 with 9 Axes>"
      ]
     },
     "metadata": {
      "needs_background": "light"
     },
     "output_type": "display_data"
    }
   ],
   "source": [
    "fig = plt.figure(figsize=(15,10))\n",
    "ax = plt.gca()\n",
    "df.hist(bins=100, ax=ax, layout=(3, 3), column=['price', 'minimum_nights','number_of_reviews','reviews_per_month','calculated_host_listings_count','availability_365'])\n",
    "plt.tight_layout()\n",
    "plt.show()"
   ]
  },
  {
   "cell_type": "code",
   "execution_count": 18,
   "metadata": {},
   "outputs": [],
   "source": [
    "## Судя по гистограммам,распределения с тяжёлыми хвостами, данным требуется преобразование,нормализация"
   ]
  },
  {
   "cell_type": "markdown",
   "metadata": {},
   "source": [
    "## Feature Engeneering"
   ]
  },
  {
   "cell_type": "code",
   "execution_count": 19,
   "metadata": {},
   "outputs": [],
   "source": [
    "##Определяем выбросы через интерквартильное расстояние."
   ]
  },
  {
   "cell_type": "code",
   "execution_count": 20,
   "metadata": {},
   "outputs": [],
   "source": [
    "def outlier_detect_IQR(data, col, threshold=3):   \n",
    "    \n",
    "    IQR = df[col].quantile(0.75) - data[col].quantile(0.25)\n",
    "    Lower_fence = data[col].quantile(0.25) - (IQR * threshold)\n",
    "    Upper_fence = data[col].quantile(0.75) + (IQR * threshold)\n",
    "    params = (Upper_fence, Lower_fence)\n",
    "    tmp = pd.concat([data[col] > Upper_fence, data[col] < Lower_fence], axis=1)\n",
    "    outlier_index = tmp.any(axis=1)\n",
    "    ovc = outlier_index.value_counts()\n",
    "    if len(ovc) == 1:\n",
    "        print('Выбросов нет')\n",
    "    else:\n",
    "        outlier_count = outlier_index.value_counts()[1]\n",
    "        print('Количество выбросов в данных:', outlier_count)\n",
    "        print('Доля выбросов:', f'{(100 * outlier_count / len(outlier_index)):.2f}%')\n",
    "        print('Верхняя граница:', Upper_fence, '\\nНижняя граница:', Lower_fence)\n",
    "    return outlier_index, params"
   ]
  },
  {
   "cell_type": "markdown",
   "metadata": {},
   "source": [
    "## Категориальные переменные"
   ]
  },
  {
   "cell_type": "code",
   "execution_count": 21,
   "metadata": {},
   "outputs": [],
   "source": [
    "## Рассмотрим распределение цены в зависимости от категорий"
   ]
  },
  {
   "cell_type": "code",
   "execution_count": 22,
   "metadata": {},
   "outputs": [
    {
     "data": {
      "image/png": "[encoded data removed]",
      "text/plain": [
       "<Figure size 432x540 with 5 Axes>"
      ]
     },
     "metadata": {
      "needs_background": "light"
     },
     "output_type": "display_data"
    }
   ],
   "source": [
    "g = sns.catplot(x='price', y='room_type', row='neighbourhood_group', kind=\"box\", orient=\"h\", height=1.5, aspect=4, data=df[df['price'] < 500])\n",
    "g.set(xscale=\"log\")\n",
    "plt.show()"
   ]
  },
  {
   "cell_type": "markdown",
   "metadata": {},
   "source": [
    "## neighbourhood_group"
   ]
  },
  {
   "cell_type": "code",
   "execution_count": 23,
   "metadata": {},
   "outputs": [
    {
     "data": {
      "image/png": "[encoded data removed]",
      "text/plain": [
       "<Figure size 432x288 with 1 Axes>"
      ]
     },
     "metadata": {
      "needs_background": "light"
     },
     "output_type": "display_data"
    }
   ],
   "source": [
    "df['neighbourhood_group'].hist()\n",
    "sns.despine()\n",
    "plt.show()"
   ]
  },
  {
   "cell_type": "code",
   "execution_count": 24,
   "metadata": {},
   "outputs": [
    {
     "data": {
      "image/png": "[encoded data removed]",
      "text/plain": [
       "<Figure size 432x288 with 1 Axes>"
      ]
     },
     "metadata": {
      "needs_background": "light"
     },
     "output_type": "display_data"
    }
   ],
   "source": [
    "sns.boxplot(y=\"neighbourhood_group\", x=\"price\", data=df[['neighbourhood_group','price']]);"
   ]
  },
  {
   "cell_type": "code",
   "execution_count": 25,
   "metadata": {},
   "outputs": [],
   "source": [
    "## Видны явные выбросы,рассмотрим их позже"
   ]
  },
  {
   "cell_type": "markdown",
   "metadata": {},
   "source": [
    "## room_type "
   ]
  },
  {
   "cell_type": "code",
   "execution_count": 26,
   "metadata": {},
   "outputs": [
    {
     "data": {
      "text/plain": [
       "Entire home/apt    25409\n",
       "Private room       22326\n",
       "Shared room         1160\n",
       "Name: room_type, dtype: int64"
      ]
     },
     "execution_count": 26,
     "metadata": {},
     "output_type": "execute_result"
    }
   ],
   "source": [
    "df['room_type'].value_counts()"
   ]
  },
  {
   "cell_type": "code",
   "execution_count": 27,
   "metadata": {},
   "outputs": [
    {
     "data": {
      "image/png": "[encoded data removed]",
      "text/plain": [
       "<Figure size 432x288 with 1 Axes>"
      ]
     },
     "metadata": {
      "needs_background": "light"
     },
     "output_type": "display_data"
    }
   ],
   "source": [
    "df['room_type'].hist()\n",
    "sns.despine()\n",
    "plt.show()"
   ]
  },
  {
   "cell_type": "code",
   "execution_count": 28,
   "metadata": {},
   "outputs": [
    {
     "data": {
      "image/png": "[encoded data removed]",
      "text/plain": [
       "<Figure size 432x288 with 1 Axes>"
      ]
     },
     "metadata": {
      "needs_background": "light"
     },
     "output_type": "display_data"
    }
   ],
   "source": [
    "sns.boxplot(y=\"room_type\", x=\"price\", data=df[['room_type','price']]);"
   ]
  },
  {
   "cell_type": "code",
   "execution_count": 29,
   "metadata": {},
   "outputs": [],
   "source": [
    "## Категорий немного,поэтому воспользуемся методом OHE,чтобы перевести их в числовые\n"
   ]
  },
  {
   "cell_type": "code",
   "execution_count": 30,
   "metadata": {},
   "outputs": [
    {
     "data": {
      "text/html": [
       "<div>\n",
       "<style scoped>\n",
       "    .dataframe tbody tr th:only-of-type {\n",
       "        vertical-align: middle;\n",
       "    }\n",
       "\n",
       "    .dataframe tbody tr th {\n",
       "        vertical-align: top;\n",
       "    }\n",
       "\n",
       "    .dataframe thead th {\n",
       "        text-align: right;\n",
       "    }\n",
       "</style>\n",
       "<table border=\"1\" class=\"dataframe\">\n",
       "  <thead>\n",
       "    <tr style=\"text-align: right;\">\n",
       "      <th></th>\n",
       "      <th>neighbourhood</th>\n",
       "      <th>latitude</th>\n",
       "      <th>longitude</th>\n",
       "      <th>price</th>\n",
       "      <th>minimum_nights</th>\n",
       "      <th>number_of_reviews</th>\n",
       "      <th>reviews_per_month</th>\n",
       "      <th>calculated_host_listings_count</th>\n",
       "      <th>availability_365</th>\n",
       "      <th>neighbourhood_group_Bronx</th>\n",
       "      <th>neighbourhood_group_Brooklyn</th>\n",
       "      <th>neighbourhood_group_Manhattan</th>\n",
       "      <th>neighbourhood_group_Queens</th>\n",
       "      <th>neighbourhood_group_Staten Island</th>\n",
       "      <th>room_type_Entire home/apt</th>\n",
       "      <th>room_type_Private room</th>\n",
       "      <th>room_type_Shared room</th>\n",
       "    </tr>\n",
       "  </thead>\n",
       "  <tbody>\n",
       "    <tr>\n",
       "      <th>0</th>\n",
       "      <td>Kensington</td>\n",
       "      <td>40.647491</td>\n",
       "      <td>-73.972366</td>\n",
       "      <td>149</td>\n",
       "      <td>1</td>\n",
       "      <td>9</td>\n",
       "      <td>0.21</td>\n",
       "      <td>6</td>\n",
       "      <td>365</td>\n",
       "      <td>0</td>\n",
       "      <td>1</td>\n",
       "      <td>0</td>\n",
       "      <td>0</td>\n",
       "      <td>0</td>\n",
       "      <td>0</td>\n",
       "      <td>1</td>\n",
       "      <td>0</td>\n",
       "    </tr>\n",
       "    <tr>\n",
       "      <th>1</th>\n",
       "      <td>Midtown</td>\n",
       "      <td>40.753620</td>\n",
       "      <td>-73.983772</td>\n",
       "      <td>225</td>\n",
       "      <td>1</td>\n",
       "      <td>45</td>\n",
       "      <td>0.38</td>\n",
       "      <td>2</td>\n",
       "      <td>355</td>\n",
       "      <td>0</td>\n",
       "      <td>0</td>\n",
       "      <td>1</td>\n",
       "      <td>0</td>\n",
       "      <td>0</td>\n",
       "      <td>1</td>\n",
       "      <td>0</td>\n",
       "      <td>0</td>\n",
       "    </tr>\n",
       "  </tbody>\n",
       "</table>\n",
       "</div>"
      ],
      "text/plain": [
       "  neighbourhood   latitude  longitude  price  minimum_nights  \\\n",
       "0    Kensington  40.647491 -73.972366    149               1   \n",
       "1       Midtown  40.753620 -73.983772    225               1   \n",
       "\n",
       "   number_of_reviews  reviews_per_month  calculated_host_listings_count  \\\n",
       "0                  9               0.21                               6   \n",
       "1                 45               0.38                               2   \n",
       "\n",
       "   availability_365  neighbourhood_group_Bronx  neighbourhood_group_Brooklyn  \\\n",
       "0               365                          0                             1   \n",
       "1               355                          0                             0   \n",
       "\n",
       "   neighbourhood_group_Manhattan  neighbourhood_group_Queens  \\\n",
       "0                              0                           0   \n",
       "1                              1                           0   \n",
       "\n",
       "   neighbourhood_group_Staten Island  room_type_Entire home/apt  \\\n",
       "0                                  0                          0   \n",
       "1                                  0                          1   \n",
       "\n",
       "   room_type_Private room  room_type_Shared room  \n",
       "0                       1                      0  \n",
       "1                       0                      0  "
      ]
     },
     "execution_count": 30,
     "metadata": {},
     "output_type": "execute_result"
    }
   ],
   "source": [
    "df1 = pd.get_dummies(df, columns=['neighbourhood_group','room_type'], dtype=int)\n",
    "df1.head(2)"
   ]
  },
  {
   "cell_type": "markdown",
   "metadata": {},
   "source": [
    "## neighbourhood"
   ]
  },
  {
   "cell_type": "code",
   "execution_count": 31,
   "metadata": {},
   "outputs": [
    {
     "data": {
      "text/plain": [
       "Williamsburg          3920\n",
       "Bedford-Stuyvesant    3714\n",
       "Harlem                2658\n",
       "Bushwick              2465\n",
       "Upper West Side       1971\n",
       "                      ... \n",
       "Rossville                1\n",
       "New Dorp                 1\n",
       "Willowbrook              1\n",
       "Richmondtown             1\n",
       "Fort Wadsworth           1\n",
       "Name: neighbourhood, Length: 221, dtype: int64"
      ]
     },
     "execution_count": 31,
     "metadata": {},
     "output_type": "execute_result"
    }
   ],
   "source": [
    "df['neighbourhood'].value_counts()"
   ]
  },
  {
   "cell_type": "code",
   "execution_count": 32,
   "metadata": {},
   "outputs": [],
   "source": [
    "## Слишком много категорий для OHE,получится много столбцов\n",
    "## поэтому используем энкодинг значением"
   ]
  },
  {
   "cell_type": "code",
   "execution_count": 33,
   "metadata": {},
   "outputs": [],
   "source": [
    "import category_encoders as ce"
   ]
  },
  {
   "cell_type": "code",
   "execution_count": 34,
   "metadata": {},
   "outputs": [],
   "source": [
    "enc = ce.OrdinalEncoder(cols=['neighbourhood']).fit(df1)\n"
   ]
  },
  {
   "cell_type": "code",
   "execution_count": 35,
   "metadata": {},
   "outputs": [
    {
     "data": {
      "text/html": [
       "<div>\n",
       "<style scoped>\n",
       "    .dataframe tbody tr th:only-of-type {\n",
       "        vertical-align: middle;\n",
       "    }\n",
       "\n",
       "    .dataframe tbody tr th {\n",
       "        vertical-align: top;\n",
       "    }\n",
       "\n",
       "    .dataframe thead th {\n",
       "        text-align: right;\n",
       "    }\n",
       "</style>\n",
       "<table border=\"1\" class=\"dataframe\">\n",
       "  <thead>\n",
       "    <tr style=\"text-align: right;\">\n",
       "      <th></th>\n",
       "      <th>neighbourhood</th>\n",
       "      <th>latitude</th>\n",
       "      <th>longitude</th>\n",
       "      <th>price</th>\n",
       "      <th>minimum_nights</th>\n",
       "      <th>number_of_reviews</th>\n",
       "      <th>reviews_per_month</th>\n",
       "      <th>calculated_host_listings_count</th>\n",
       "      <th>availability_365</th>\n",
       "      <th>neighbourhood_group_Bronx</th>\n",
       "      <th>neighbourhood_group_Brooklyn</th>\n",
       "      <th>neighbourhood_group_Manhattan</th>\n",
       "      <th>neighbourhood_group_Queens</th>\n",
       "      <th>neighbourhood_group_Staten Island</th>\n",
       "      <th>room_type_Entire home/apt</th>\n",
       "      <th>room_type_Private room</th>\n",
       "      <th>room_type_Shared room</th>\n",
       "    </tr>\n",
       "  </thead>\n",
       "  <tbody>\n",
       "    <tr>\n",
       "      <th>0</th>\n",
       "      <td>1</td>\n",
       "      <td>40.647491</td>\n",
       "      <td>-73.972366</td>\n",
       "      <td>149</td>\n",
       "      <td>1</td>\n",
       "      <td>9</td>\n",
       "      <td>0.21</td>\n",
       "      <td>6</td>\n",
       "      <td>365</td>\n",
       "      <td>0</td>\n",
       "      <td>1</td>\n",
       "      <td>0</td>\n",
       "      <td>0</td>\n",
       "      <td>0</td>\n",
       "      <td>0</td>\n",
       "      <td>1</td>\n",
       "      <td>0</td>\n",
       "    </tr>\n",
       "    <tr>\n",
       "      <th>1</th>\n",
       "      <td>2</td>\n",
       "      <td>40.753620</td>\n",
       "      <td>-73.983772</td>\n",
       "      <td>225</td>\n",
       "      <td>1</td>\n",
       "      <td>45</td>\n",
       "      <td>0.38</td>\n",
       "      <td>2</td>\n",
       "      <td>355</td>\n",
       "      <td>0</td>\n",
       "      <td>0</td>\n",
       "      <td>1</td>\n",
       "      <td>0</td>\n",
       "      <td>0</td>\n",
       "      <td>1</td>\n",
       "      <td>0</td>\n",
       "      <td>0</td>\n",
       "    </tr>\n",
       "  </tbody>\n",
       "</table>\n",
       "</div>"
      ],
      "text/plain": [
       "   neighbourhood   latitude  longitude  price  minimum_nights  \\\n",
       "0              1  40.647491 -73.972366    149               1   \n",
       "1              2  40.753620 -73.983772    225               1   \n",
       "\n",
       "   number_of_reviews  reviews_per_month  calculated_host_listings_count  \\\n",
       "0                  9               0.21                               6   \n",
       "1                 45               0.38                               2   \n",
       "\n",
       "   availability_365  neighbourhood_group_Bronx  neighbourhood_group_Brooklyn  \\\n",
       "0               365                          0                             1   \n",
       "1               355                          0                             0   \n",
       "\n",
       "   neighbourhood_group_Manhattan  neighbourhood_group_Queens  \\\n",
       "0                              0                           0   \n",
       "1                              1                           0   \n",
       "\n",
       "   neighbourhood_group_Staten Island  room_type_Entire home/apt  \\\n",
       "0                                  0                          0   \n",
       "1                                  0                          1   \n",
       "\n",
       "   room_type_Private room  room_type_Shared room  \n",
       "0                       1                      0  \n",
       "1                       0                      0  "
      ]
     },
     "execution_count": 35,
     "metadata": {},
     "output_type": "execute_result"
    }
   ],
   "source": [
    "df2 = enc.transform(df1)\n",
    "df2.head(2)"
   ]
  },
  {
   "cell_type": "code",
   "execution_count": 36,
   "metadata": {},
   "outputs": [
    {
     "name": "stdout",
     "output_type": "stream",
     "text": [
      "<class 'pandas.core.frame.DataFrame'>\n",
      "RangeIndex: 48895 entries, 0 to 48894\n",
      "Data columns (total 17 columns):\n",
      " #   Column                             Non-Null Count  Dtype  \n",
      "---  ------                             --------------  -----  \n",
      " 0   neighbourhood                      48895 non-null  int32  \n",
      " 1   latitude                           48895 non-null  float32\n",
      " 2   longitude                          48895 non-null  float32\n",
      " 3   price                              48895 non-null  int32  \n",
      " 4   minimum_nights                     48895 non-null  int32  \n",
      " 5   number_of_reviews                  48895 non-null  int32  \n",
      " 6   reviews_per_month                  48895 non-null  float32\n",
      " 7   calculated_host_listings_count     48895 non-null  int32  \n",
      " 8   availability_365                   48895 non-null  int32  \n",
      " 9   neighbourhood_group_Bronx          48895 non-null  int32  \n",
      " 10  neighbourhood_group_Brooklyn       48895 non-null  int32  \n",
      " 11  neighbourhood_group_Manhattan      48895 non-null  int32  \n",
      " 12  neighbourhood_group_Queens         48895 non-null  int32  \n",
      " 13  neighbourhood_group_Staten Island  48895 non-null  int32  \n",
      " 14  room_type_Entire home/apt          48895 non-null  int32  \n",
      " 15  room_type_Private room             48895 non-null  int32  \n",
      " 16  room_type_Shared room              48895 non-null  int32  \n",
      "dtypes: float32(3), int32(14)\n",
      "memory usage: 3.2 MB\n"
     ]
    }
   ],
   "source": [
    "## Проверим,что все данные - числовые\n",
    "df2.info()"
   ]
  },
  {
   "cell_type": "markdown",
   "metadata": {},
   "source": [
    "## Непрерывные признаки"
   ]
  },
  {
   "cell_type": "markdown",
   "metadata": {},
   "source": [
    "## Price-целевая переменная"
   ]
  },
  {
   "cell_type": "code",
   "execution_count": 37,
   "metadata": {},
   "outputs": [
    {
     "data": {
      "image/png": "[encoded data removed]",
      "text/plain": [
       "<Figure size 432x288 with 1 Axes>"
      ]
     },
     "metadata": {
      "needs_background": "light"
     },
     "output_type": "display_data"
    }
   ],
   "source": [
    "df2['price'].hist(bins=50)\n",
    "sns.despine()\n",
    "plt.show()"
   ]
  },
  {
   "cell_type": "code",
   "execution_count": 38,
   "metadata": {},
   "outputs": [
    {
     "data": {
      "image/png": "[encoded data removed]",
      "text/plain": [
       "<Figure size 432x288 with 1 Axes>"
      ]
     },
     "metadata": {
      "needs_background": "light"
     },
     "output_type": "display_data"
    }
   ],
   "source": [
    "df2['price'].plot.box()\n",
    "plt.show()"
   ]
  },
  {
   "cell_type": "code",
   "execution_count": 39,
   "metadata": {},
   "outputs": [],
   "source": [
    "## Распределение с очень тяжёлым хвостом"
   ]
  },
  {
   "cell_type": "code",
   "execution_count": 40,
   "metadata": {},
   "outputs": [],
   "source": [
    "## Анализ показал,что есть бесплатные апартаменты, проверим сколько их"
   ]
  },
  {
   "cell_type": "code",
   "execution_count": 41,
   "metadata": {},
   "outputs": [
    {
     "data": {
      "text/html": [
       "<div>\n",
       "<style scoped>\n",
       "    .dataframe tbody tr th:only-of-type {\n",
       "        vertical-align: middle;\n",
       "    }\n",
       "\n",
       "    .dataframe tbody tr th {\n",
       "        vertical-align: top;\n",
       "    }\n",
       "\n",
       "    .dataframe thead th {\n",
       "        text-align: right;\n",
       "    }\n",
       "</style>\n",
       "<table border=\"1\" class=\"dataframe\">\n",
       "  <thead>\n",
       "    <tr style=\"text-align: right;\">\n",
       "      <th></th>\n",
       "      <th>neighbourhood</th>\n",
       "      <th>latitude</th>\n",
       "      <th>longitude</th>\n",
       "      <th>price</th>\n",
       "      <th>minimum_nights</th>\n",
       "      <th>number_of_reviews</th>\n",
       "      <th>reviews_per_month</th>\n",
       "      <th>calculated_host_listings_count</th>\n",
       "      <th>availability_365</th>\n",
       "      <th>neighbourhood_group_Bronx</th>\n",
       "      <th>neighbourhood_group_Brooklyn</th>\n",
       "      <th>neighbourhood_group_Manhattan</th>\n",
       "      <th>neighbourhood_group_Queens</th>\n",
       "      <th>neighbourhood_group_Staten Island</th>\n",
       "      <th>room_type_Entire home/apt</th>\n",
       "      <th>room_type_Private room</th>\n",
       "      <th>room_type_Shared room</th>\n",
       "    </tr>\n",
       "  </thead>\n",
       "  <tbody>\n",
       "    <tr>\n",
       "      <th>23161</th>\n",
       "      <td>7</td>\n",
       "      <td>40.690231</td>\n",
       "      <td>-73.954277</td>\n",
       "      <td>0</td>\n",
       "      <td>4</td>\n",
       "      <td>1</td>\n",
       "      <td>0.05</td>\n",
       "      <td>4</td>\n",
       "      <td>28</td>\n",
       "      <td>0</td>\n",
       "      <td>1</td>\n",
       "      <td>0</td>\n",
       "      <td>0</td>\n",
       "      <td>0</td>\n",
       "      <td>0</td>\n",
       "      <td>1</td>\n",
       "      <td>0</td>\n",
       "    </tr>\n",
       "    <tr>\n",
       "      <th>25433</th>\n",
       "      <td>169</td>\n",
       "      <td>40.832958</td>\n",
       "      <td>-73.886681</td>\n",
       "      <td>0</td>\n",
       "      <td>2</td>\n",
       "      <td>55</td>\n",
       "      <td>2.56</td>\n",
       "      <td>4</td>\n",
       "      <td>127</td>\n",
       "      <td>1</td>\n",
       "      <td>0</td>\n",
       "      <td>0</td>\n",
       "      <td>0</td>\n",
       "      <td>0</td>\n",
       "      <td>0</td>\n",
       "      <td>1</td>\n",
       "      <td>0</td>\n",
       "    </tr>\n",
       "    <tr>\n",
       "      <th>25634</th>\n",
       "      <td>22</td>\n",
       "      <td>40.694672</td>\n",
       "      <td>-73.924332</td>\n",
       "      <td>0</td>\n",
       "      <td>2</td>\n",
       "      <td>16</td>\n",
       "      <td>0.71</td>\n",
       "      <td>5</td>\n",
       "      <td>0</td>\n",
       "      <td>0</td>\n",
       "      <td>1</td>\n",
       "      <td>0</td>\n",
       "      <td>0</td>\n",
       "      <td>0</td>\n",
       "      <td>0</td>\n",
       "      <td>1</td>\n",
       "      <td>0</td>\n",
       "    </tr>\n",
       "    <tr>\n",
       "      <th>25753</th>\n",
       "      <td>21</td>\n",
       "      <td>40.724621</td>\n",
       "      <td>-73.940720</td>\n",
       "      <td>0</td>\n",
       "      <td>2</td>\n",
       "      <td>12</td>\n",
       "      <td>0.53</td>\n",
       "      <td>2</td>\n",
       "      <td>0</td>\n",
       "      <td>0</td>\n",
       "      <td>1</td>\n",
       "      <td>0</td>\n",
       "      <td>0</td>\n",
       "      <td>0</td>\n",
       "      <td>0</td>\n",
       "      <td>1</td>\n",
       "      <td>0</td>\n",
       "    </tr>\n",
       "    <tr>\n",
       "      <th>25778</th>\n",
       "      <td>13</td>\n",
       "      <td>40.708382</td>\n",
       "      <td>-73.946449</td>\n",
       "      <td>0</td>\n",
       "      <td>5</td>\n",
       "      <td>3</td>\n",
       "      <td>0.15</td>\n",
       "      <td>1</td>\n",
       "      <td>73</td>\n",
       "      <td>0</td>\n",
       "      <td>1</td>\n",
       "      <td>0</td>\n",
       "      <td>0</td>\n",
       "      <td>0</td>\n",
       "      <td>1</td>\n",
       "      <td>0</td>\n",
       "      <td>0</td>\n",
       "    </tr>\n",
       "    <tr>\n",
       "      <th>25794</th>\n",
       "      <td>7</td>\n",
       "      <td>40.681728</td>\n",
       "      <td>-73.913422</td>\n",
       "      <td>0</td>\n",
       "      <td>1</td>\n",
       "      <td>93</td>\n",
       "      <td>4.28</td>\n",
       "      <td>6</td>\n",
       "      <td>176</td>\n",
       "      <td>0</td>\n",
       "      <td>1</td>\n",
       "      <td>0</td>\n",
       "      <td>0</td>\n",
       "      <td>0</td>\n",
       "      <td>0</td>\n",
       "      <td>1</td>\n",
       "      <td>0</td>\n",
       "    </tr>\n",
       "    <tr>\n",
       "      <th>25795</th>\n",
       "      <td>7</td>\n",
       "      <td>40.682789</td>\n",
       "      <td>-73.911697</td>\n",
       "      <td>0</td>\n",
       "      <td>1</td>\n",
       "      <td>95</td>\n",
       "      <td>4.37</td>\n",
       "      <td>6</td>\n",
       "      <td>232</td>\n",
       "      <td>0</td>\n",
       "      <td>1</td>\n",
       "      <td>0</td>\n",
       "      <td>0</td>\n",
       "      <td>0</td>\n",
       "      <td>0</td>\n",
       "      <td>1</td>\n",
       "      <td>0</td>\n",
       "    </tr>\n",
       "    <tr>\n",
       "      <th>25796</th>\n",
       "      <td>7</td>\n",
       "      <td>40.682579</td>\n",
       "      <td>-73.912842</td>\n",
       "      <td>0</td>\n",
       "      <td>1</td>\n",
       "      <td>95</td>\n",
       "      <td>4.35</td>\n",
       "      <td>6</td>\n",
       "      <td>222</td>\n",
       "      <td>0</td>\n",
       "      <td>1</td>\n",
       "      <td>0</td>\n",
       "      <td>0</td>\n",
       "      <td>0</td>\n",
       "      <td>0</td>\n",
       "      <td>1</td>\n",
       "      <td>0</td>\n",
       "    </tr>\n",
       "    <tr>\n",
       "      <th>26259</th>\n",
       "      <td>6</td>\n",
       "      <td>40.750912</td>\n",
       "      <td>-73.975967</td>\n",
       "      <td>0</td>\n",
       "      <td>3</td>\n",
       "      <td>0</td>\n",
       "      <td>0.00</td>\n",
       "      <td>1</td>\n",
       "      <td>0</td>\n",
       "      <td>0</td>\n",
       "      <td>0</td>\n",
       "      <td>1</td>\n",
       "      <td>0</td>\n",
       "      <td>0</td>\n",
       "      <td>1</td>\n",
       "      <td>0</td>\n",
       "      <td>0</td>\n",
       "    </tr>\n",
       "    <tr>\n",
       "      <th>26841</th>\n",
       "      <td>22</td>\n",
       "      <td>40.692108</td>\n",
       "      <td>-73.906700</td>\n",
       "      <td>0</td>\n",
       "      <td>30</td>\n",
       "      <td>2</td>\n",
       "      <td>0.11</td>\n",
       "      <td>6</td>\n",
       "      <td>333</td>\n",
       "      <td>0</td>\n",
       "      <td>1</td>\n",
       "      <td>0</td>\n",
       "      <td>0</td>\n",
       "      <td>0</td>\n",
       "      <td>0</td>\n",
       "      <td>0</td>\n",
       "      <td>1</td>\n",
       "    </tr>\n",
       "    <tr>\n",
       "      <th>26866</th>\n",
       "      <td>22</td>\n",
       "      <td>40.691662</td>\n",
       "      <td>-73.909279</td>\n",
       "      <td>0</td>\n",
       "      <td>30</td>\n",
       "      <td>5</td>\n",
       "      <td>0.26</td>\n",
       "      <td>6</td>\n",
       "      <td>139</td>\n",
       "      <td>0</td>\n",
       "      <td>1</td>\n",
       "      <td>0</td>\n",
       "      <td>0</td>\n",
       "      <td>0</td>\n",
       "      <td>0</td>\n",
       "      <td>0</td>\n",
       "      <td>1</td>\n",
       "    </tr>\n",
       "  </tbody>\n",
       "</table>\n",
       "</div>"
      ],
      "text/plain": [
       "       neighbourhood   latitude  longitude  price  minimum_nights  \\\n",
       "23161              7  40.690231 -73.954277      0               4   \n",
       "25433            169  40.832958 -73.886681      0               2   \n",
       "25634             22  40.694672 -73.924332      0               2   \n",
       "25753             21  40.724621 -73.940720      0               2   \n",
       "25778             13  40.708382 -73.946449      0               5   \n",
       "25794              7  40.681728 -73.913422      0               1   \n",
       "25795              7  40.682789 -73.911697      0               1   \n",
       "25796              7  40.682579 -73.912842      0               1   \n",
       "26259              6  40.750912 -73.975967      0               3   \n",
       "26841             22  40.692108 -73.906700      0              30   \n",
       "26866             22  40.691662 -73.909279      0              30   \n",
       "\n",
       "       number_of_reviews  reviews_per_month  calculated_host_listings_count  \\\n",
       "23161                  1               0.05                               4   \n",
       "25433                 55               2.56                               4   \n",
       "25634                 16               0.71                               5   \n",
       "25753                 12               0.53                               2   \n",
       "25778                  3               0.15                               1   \n",
       "25794                 93               4.28                               6   \n",
       "25795                 95               4.37                               6   \n",
       "25796                 95               4.35                               6   \n",
       "26259                  0               0.00                               1   \n",
       "26841                  2               0.11                               6   \n",
       "26866                  5               0.26                               6   \n",
       "\n",
       "       availability_365  neighbourhood_group_Bronx  \\\n",
       "23161                28                          0   \n",
       "25433               127                          1   \n",
       "25634                 0                          0   \n",
       "25753                 0                          0   \n",
       "25778                73                          0   \n",
       "25794               176                          0   \n",
       "25795               232                          0   \n",
       "25796               222                          0   \n",
       "26259                 0                          0   \n",
       "26841               333                          0   \n",
       "26866               139                          0   \n",
       "\n",
       "       neighbourhood_group_Brooklyn  neighbourhood_group_Manhattan  \\\n",
       "23161                             1                              0   \n",
       "25433                             0                              0   \n",
       "25634                             1                              0   \n",
       "25753                             1                              0   \n",
       "25778                             1                              0   \n",
       "25794                             1                              0   \n",
       "25795                             1                              0   \n",
       "25796                             1                              0   \n",
       "26259                             0                              1   \n",
       "26841                             1                              0   \n",
       "26866                             1                              0   \n",
       "\n",
       "       neighbourhood_group_Queens  neighbourhood_group_Staten Island  \\\n",
       "23161                           0                                  0   \n",
       "25433                           0                                  0   \n",
       "25634                           0                                  0   \n",
       "25753                           0                                  0   \n",
       "25778                           0                                  0   \n",
       "25794                           0                                  0   \n",
       "25795                           0                                  0   \n",
       "25796                           0                                  0   \n",
       "26259                           0                                  0   \n",
       "26841                           0                                  0   \n",
       "26866                           0                                  0   \n",
       "\n",
       "       room_type_Entire home/apt  room_type_Private room  \\\n",
       "23161                          0                       1   \n",
       "25433                          0                       1   \n",
       "25634                          0                       1   \n",
       "25753                          0                       1   \n",
       "25778                          1                       0   \n",
       "25794                          0                       1   \n",
       "25795                          0                       1   \n",
       "25796                          0                       1   \n",
       "26259                          1                       0   \n",
       "26841                          0                       0   \n",
       "26866                          0                       0   \n",
       "\n",
       "       room_type_Shared room  \n",
       "23161                      0  \n",
       "25433                      0  \n",
       "25634                      0  \n",
       "25753                      0  \n",
       "25778                      0  \n",
       "25794                      0  \n",
       "25795                      0  \n",
       "25796                      0  \n",
       "26259                      0  \n",
       "26841                      1  \n",
       "26866                      1  "
      ]
     },
     "execution_count": 41,
     "metadata": {},
     "output_type": "execute_result"
    }
   ],
   "source": [
    "df2[df2['price']==0]"
   ]
  },
  {
   "cell_type": "code",
   "execution_count": 42,
   "metadata": {},
   "outputs": [],
   "source": [
    "## Похоже,это аномалии,можно удалить"
   ]
  },
  {
   "cell_type": "code",
   "execution_count": 43,
   "metadata": {},
   "outputs": [],
   "source": [
    "df2.drop(df2.loc[df2['price']==0].index, inplace=True)"
   ]
  },
  {
   "cell_type": "code",
   "execution_count": 44,
   "metadata": {},
   "outputs": [
    {
     "data": {
      "text/plain": [
       "(48884, 17)"
      ]
     },
     "execution_count": 44,
     "metadata": {},
     "output_type": "execute_result"
    }
   ],
   "source": [
    "df2.shape"
   ]
  },
  {
   "cell_type": "code",
   "execution_count": 45,
   "metadata": {},
   "outputs": [],
   "source": [
    "## Выбросы"
   ]
  },
  {
   "cell_type": "code",
   "execution_count": 46,
   "metadata": {},
   "outputs": [
    {
     "name": "stdout",
     "output_type": "stream",
     "text": [
      "Количество выбросов в данных: 589\n",
      "Доля выбросов: 1.20%\n",
      "Верхняя граница: 705.0 \n",
      "Нижняя граница: -461.0\n",
      "Верхняя граница: 705.0 \n",
      "Нижняя граница: -461.0\n"
     ]
    }
   ],
   "source": [
    "index, params = outlier_detect_IQR(data=df2, col='price', threshold=5)\n",
    "print('Верхняя граница:', params[0], '\\nНижняя граница:', params[1])"
   ]
  },
  {
   "cell_type": "code",
   "execution_count": 47,
   "metadata": {},
   "outputs": [],
   "source": [
    "## Для удаления выбросов решил применить виндзоризацию"
   ]
  },
  {
   "cell_type": "code",
   "execution_count": 48,
   "metadata": {},
   "outputs": [],
   "source": [
    "def windsorization(data, col, params, strategy='both'):\n",
    "    \"\"\"Заменяем все значения большие params[1] значением params[1], а значения меньше params[0] значением params[0].\n",
    "    При ``strategy = both`` - заменяем снизу и сверху,\n",
    "        ``strategy = top`` - заменяем только сверху,\n",
    "        ``strategy = bottom`` - заменяем только снизу.\"\"\"\n",
    "    data_copy = data.copy(deep=True)  \n",
    "    if strategy == 'both':\n",
    "        data_copy.loc[data_copy[col] > params[0], col] = params[0]\n",
    "        data_copy.loc[data_copy[col] < params[1], col] = params[1]\n",
    "    elif strategy == 'top':\n",
    "        data_copy.loc[data_copy[col] > params[0], col] = params[0]\n",
    "    elif strategy == 'bottom':\n",
    "        data_copy.loc[data_copy[col] < params[1], col] = params[1]  \n",
    "    return data_copy"
   ]
  },
  {
   "cell_type": "code",
   "execution_count": 49,
   "metadata": {},
   "outputs": [],
   "source": [
    "df3 = windsorization(data=df2, col='price', params=params, strategy='both')\n"
   ]
  },
  {
   "cell_type": "code",
   "execution_count": 50,
   "metadata": {},
   "outputs": [],
   "source": [
    "## Посмотрим распределение после удаления выбросов"
   ]
  },
  {
   "cell_type": "code",
   "execution_count": 51,
   "metadata": {},
   "outputs": [
    {
     "data": {
      "text/plain": [
       "<matplotlib.axes._subplots.AxesSubplot at 0xa896c0fa30>"
      ]
     },
     "execution_count": 51,
     "metadata": {},
     "output_type": "execute_result"
    },
    {
     "data": {
      "image/png": "[encoded data removed]",
      "text/plain": [
       "<Figure size 432x288 with 1 Axes>"
      ]
     },
     "metadata": {
      "needs_background": "light"
     },
     "output_type": "display_data"
    }
   ],
   "source": [
    "df3['price'].hist(bins=50,)"
   ]
  },
  {
   "cell_type": "code",
   "execution_count": 52,
   "metadata": {},
   "outputs": [
    {
     "data": {
      "image/png": "[encoded data removed]",
      "text/plain": [
       "<Figure size 432x288 with 1 Axes>"
      ]
     },
     "metadata": {
      "needs_background": "light"
     },
     "output_type": "display_data"
    }
   ],
   "source": [
    "df3['price'].plot.box()\n",
    "plt.show()"
   ]
  },
  {
   "cell_type": "code",
   "execution_count": 53,
   "metadata": {},
   "outputs": [],
   "source": [
    "## Явно стало лучше"
   ]
  },
  {
   "cell_type": "markdown",
   "metadata": {},
   "source": [
    "## minimum_nights"
   ]
  },
  {
   "cell_type": "code",
   "execution_count": 54,
   "metadata": {},
   "outputs": [
    {
     "data": {
      "text/plain": [
       "<matplotlib.axes._subplots.AxesSubplot at 0xa896d496d0>"
      ]
     },
     "execution_count": 54,
     "metadata": {},
     "output_type": "execute_result"
    },
    {
     "data": {
      "image/png": "[encoded data removed]",
      "text/plain": [
       "<Figure size 432x288 with 1 Axes>"
      ]
     },
     "metadata": {
      "needs_background": "light"
     },
     "output_type": "display_data"
    }
   ],
   "source": [
    "df2['minimum_nights'].hist(bins=50,)"
   ]
  },
  {
   "cell_type": "code",
   "execution_count": 55,
   "metadata": {},
   "outputs": [
    {
     "data": {
      "image/png": "[encoded data removed]",
      "text/plain": [
       "<Figure size 432x288 with 1 Axes>"
      ]
     },
     "metadata": {
      "needs_background": "light"
     },
     "output_type": "display_data"
    }
   ],
   "source": [
    "df2['minimum_nights'].plot.box()\n",
    "plt.show()"
   ]
  },
  {
   "cell_type": "code",
   "execution_count": 56,
   "metadata": {},
   "outputs": [],
   "source": [
    "## Выбросы"
   ]
  },
  {
   "cell_type": "code",
   "execution_count": 57,
   "metadata": {},
   "outputs": [
    {
     "name": "stdout",
     "output_type": "stream",
     "text": [
      "Количество выбросов в данных: 536\n",
      "Доля выбросов: 1.10%\n",
      "Верхняя граница: 33.0 \n",
      "Нижняя граница: -27.0\n",
      "Верхняя граница: 33.0 \n",
      "Нижняя граница: -27.0\n"
     ]
    }
   ],
   "source": [
    "index, params = outlier_detect_IQR(data=df2, col='minimum_nights', threshold=7)\n",
    "print('Верхняя граница:', params[0], '\\nНижняя граница:', params[1])"
   ]
  },
  {
   "cell_type": "code",
   "execution_count": 58,
   "metadata": {},
   "outputs": [],
   "source": [
    "df3 = windsorization(data=df2, col='minimum_nights', params=params, strategy='both')"
   ]
  },
  {
   "cell_type": "code",
   "execution_count": 59,
   "metadata": {},
   "outputs": [
    {
     "data": {
      "text/plain": [
       "<matplotlib.axes._subplots.AxesSubplot at 0xa897674550>"
      ]
     },
     "execution_count": 59,
     "metadata": {},
     "output_type": "execute_result"
    },
    {
     "data": {
      "image/png": "[encoded data removed]",
      "text/plain": [
       "<Figure size 432x288 with 1 Axes>"
      ]
     },
     "metadata": {
      "needs_background": "light"
     },
     "output_type": "display_data"
    }
   ],
   "source": [
    "df3['minimum_nights'].hist(bins=50,)"
   ]
  },
  {
   "cell_type": "code",
   "execution_count": 60,
   "metadata": {},
   "outputs": [
    {
     "data": {
      "image/png": "[encoded data removed]",
      "text/plain": [
       "<Figure size 432x288 with 1 Axes>"
      ]
     },
     "metadata": {
      "needs_background": "light"
     },
     "output_type": "display_data"
    }
   ],
   "source": [
    "df3['minimum_nights'].plot.box()\n",
    "plt.show()"
   ]
  },
  {
   "cell_type": "markdown",
   "metadata": {},
   "source": [
    "## number_of_reviews"
   ]
  },
  {
   "cell_type": "code",
   "execution_count": 61,
   "metadata": {},
   "outputs": [
    {
     "data": {
      "text/plain": [
       "<matplotlib.axes._subplots.AxesSubplot at 0xa8977ac490>"
      ]
     },
     "execution_count": 61,
     "metadata": {},
     "output_type": "execute_result"
    },
    {
     "data": {
      "image/png": "[encoded data removed]",
      "text/plain": [
       "<Figure size 432x288 with 1 Axes>"
      ]
     },
     "metadata": {
      "needs_background": "light"
     },
     "output_type": "display_data"
    }
   ],
   "source": [
    "df2['number_of_reviews'].hist(bins=50,)"
   ]
  },
  {
   "cell_type": "code",
   "execution_count": 62,
   "metadata": {},
   "outputs": [
    {
     "data": {
      "image/png": "[encoded data removed]",
      "text/plain": [
       "<Figure size 432x288 with 1 Axes>"
      ]
     },
     "metadata": {
      "needs_background": "light"
     },
     "output_type": "display_data"
    }
   ],
   "source": [
    "df2['number_of_reviews'].plot.box()\n",
    "plt.show()"
   ]
  },
  {
   "cell_type": "code",
   "execution_count": 63,
   "metadata": {},
   "outputs": [],
   "source": [
    "## Выбросы"
   ]
  },
  {
   "cell_type": "code",
   "execution_count": 64,
   "metadata": {},
   "outputs": [
    {
     "name": "stdout",
     "output_type": "stream",
     "text": [
      "Количество выбросов в данных: 1611\n",
      "Доля выбросов: 3.30%\n",
      "Верхняя граница: 139.0 \n",
      "Нижняя граница: -114.0\n",
      "Верхняя граница: 139.0 \n",
      "Нижняя граница: -114.0\n"
     ]
    }
   ],
   "source": [
    "index, params = outlier_detect_IQR(data=df2, col='number_of_reviews', threshold=5)\n",
    "print('Верхняя граница:', params[0], '\\nНижняя граница:', params[1])"
   ]
  },
  {
   "cell_type": "code",
   "execution_count": 65,
   "metadata": {},
   "outputs": [],
   "source": [
    "df3 = windsorization(data=df2, col='number_of_reviews', params=params, strategy='both')"
   ]
  },
  {
   "cell_type": "code",
   "execution_count": 66,
   "metadata": {},
   "outputs": [
    {
     "data": {
      "text/plain": [
       "<matplotlib.axes._subplots.AxesSubplot at 0xa8978e93a0>"
      ]
     },
     "execution_count": 66,
     "metadata": {},
     "output_type": "execute_result"
    },
    {
     "data": {
      "image/png": "[encoded data removed]",
      "text/plain": [
       "<Figure size 432x288 with 1 Axes>"
      ]
     },
     "metadata": {
      "needs_background": "light"
     },
     "output_type": "display_data"
    }
   ],
   "source": [
    "df3['number_of_reviews'].hist(bins=50,)"
   ]
  },
  {
   "cell_type": "code",
   "execution_count": 67,
   "metadata": {},
   "outputs": [
    {
     "data": {
      "image/png": "[encoded data removed]",
      "text/plain": [
       "<Figure size 432x288 with 1 Axes>"
      ]
     },
     "metadata": {
      "needs_background": "light"
     },
     "output_type": "display_data"
    }
   ],
   "source": [
    "df3['number_of_reviews'].plot.box()\n",
    "plt.show()"
   ]
  },
  {
   "cell_type": "code",
   "execution_count": null,
   "metadata": {},
   "outputs": [],
   "source": []
  },
  {
   "cell_type": "markdown",
   "metadata": {},
   "source": [
    "## reviews_per_month"
   ]
  },
  {
   "cell_type": "code",
   "execution_count": 68,
   "metadata": {},
   "outputs": [
    {
     "data": {
      "image/png": "[encoded data removed]",
      "text/plain": [
       "<Figure size 432x288 with 1 Axes>"
      ]
     },
     "metadata": {
      "needs_background": "light"
     },
     "output_type": "display_data"
    }
   ],
   "source": [
    "df2['reviews_per_month'].plot.box()\n",
    "plt.show()"
   ]
  },
  {
   "cell_type": "code",
   "execution_count": 69,
   "metadata": {},
   "outputs": [
    {
     "data": {
      "text/plain": [
       "<matplotlib.axes._subplots.AxesSubplot at 0xa8977f54f0>"
      ]
     },
     "execution_count": 69,
     "metadata": {},
     "output_type": "execute_result"
    },
    {
     "data": {
      "image/png": "[encoded data removed]",
      "text/plain": [
       "<Figure size 432x288 with 1 Axes>"
      ]
     },
     "metadata": {
      "needs_background": "light"
     },
     "output_type": "display_data"
    }
   ],
   "source": [
    "df2['reviews_per_month'].hist(bins=50,)"
   ]
  },
  {
   "cell_type": "code",
   "execution_count": 70,
   "metadata": {},
   "outputs": [],
   "source": [
    "## Выбросы"
   ]
  },
  {
   "cell_type": "code",
   "execution_count": 71,
   "metadata": {},
   "outputs": [
    {
     "name": "stdout",
     "output_type": "stream",
     "text": [
      "Количество выбросов в данных: 30\n",
      "Доля выбросов: 0.06%\n",
      "Верхняя граница: 12.360000349581242 \n",
      "Нижняя граница: -10.740000307559967\n",
      "Верхняя граница: 12.360000349581242 \n",
      "Нижняя граница: -10.740000307559967\n"
     ]
    }
   ],
   "source": [
    "index, params = outlier_detect_IQR(data=df2, col='reviews_per_month', threshold=7)\n",
    "print('Верхняя граница:', params[0], '\\nНижняя граница:', params[1])"
   ]
  },
  {
   "cell_type": "code",
   "execution_count": 72,
   "metadata": {},
   "outputs": [],
   "source": [
    "df3 = windsorization(data=df2, col='reviews_per_month', params=params, strategy='both')"
   ]
  },
  {
   "cell_type": "code",
   "execution_count": 73,
   "metadata": {},
   "outputs": [
    {
     "data": {
      "image/png": "[encoded data removed]",
      "text/plain": [
       "<Figure size 432x288 with 1 Axes>"
      ]
     },
     "metadata": {
      "needs_background": "light"
     },
     "output_type": "display_data"
    }
   ],
   "source": [
    "df3['reviews_per_month'].plot.box()\n",
    "plt.show()"
   ]
  },
  {
   "cell_type": "code",
   "execution_count": 74,
   "metadata": {},
   "outputs": [
    {
     "data": {
      "text/plain": [
       "<matplotlib.axes._subplots.AxesSubplot at 0xa896d10880>"
      ]
     },
     "execution_count": 74,
     "metadata": {},
     "output_type": "execute_result"
    },
    {
     "data": {
      "image/png": "[encoded data removed]",
      "text/plain": [
       "<Figure size 432x288 with 1 Axes>"
      ]
     },
     "metadata": {
      "needs_background": "light"
     },
     "output_type": "display_data"
    }
   ],
   "source": [
    "df3['reviews_per_month'].hist(bins=50,)"
   ]
  },
  {
   "cell_type": "code",
   "execution_count": 75,
   "metadata": {},
   "outputs": [],
   "source": [
    "## Выбросов мало,распределение практически не изменилось"
   ]
  },
  {
   "cell_type": "markdown",
   "metadata": {},
   "source": [
    "## calculated_host_listings_count"
   ]
  },
  {
   "cell_type": "code",
   "execution_count": 76,
   "metadata": {},
   "outputs": [
    {
     "data": {
      "image/png": "[encoded data removed]",
      "text/plain": [
       "<Figure size 432x288 with 1 Axes>"
      ]
     },
     "metadata": {
      "needs_background": "light"
     },
     "output_type": "display_data"
    }
   ],
   "source": [
    "df2['calculated_host_listings_count'].plot.box()\n",
    "plt.show()"
   ]
  },
  {
   "cell_type": "code",
   "execution_count": 77,
   "metadata": {},
   "outputs": [
    {
     "data": {
      "text/plain": [
       "<matplotlib.axes._subplots.AxesSubplot at 0xa897a45430>"
      ]
     },
     "execution_count": 77,
     "metadata": {},
     "output_type": "execute_result"
    },
    {
     "data": {
      "image/png": "[encoded data removed]",
      "text/plain": [
       "<Figure size 432x288 with 1 Axes>"
      ]
     },
     "metadata": {
      "needs_background": "light"
     },
     "output_type": "display_data"
    }
   ],
   "source": [
    "df2['calculated_host_listings_count'].hist(bins=50,)"
   ]
  },
  {
   "cell_type": "code",
   "execution_count": 78,
   "metadata": {},
   "outputs": [],
   "source": [
    "## Выбросы"
   ]
  },
  {
   "cell_type": "code",
   "execution_count": 79,
   "metadata": {},
   "outputs": [
    {
     "name": "stdout",
     "output_type": "stream",
     "text": [
      "Количество выбросов в данных: 3827\n",
      "Доля выбросов: 7.83%\n",
      "Верхняя граница: 7.0 \n",
      "Нижняя граница: -4.0\n",
      "Верхняя граница: 7.0 \n",
      "Нижняя граница: -4.0\n"
     ]
    }
   ],
   "source": [
    "index, params = outlier_detect_IQR(data=df2, col='calculated_host_listings_count', threshold=5)\n",
    "print('Верхняя граница:', params[0], '\\nНижняя граница:', params[1])"
   ]
  },
  {
   "cell_type": "code",
   "execution_count": 80,
   "metadata": {},
   "outputs": [],
   "source": [
    "df3 = windsorization(data=df2, col='calculated_host_listings_count', params=params, strategy='both')"
   ]
  },
  {
   "cell_type": "code",
   "execution_count": 81,
   "metadata": {},
   "outputs": [
    {
     "data": {
      "image/png": "[encoded data removed]",
      "text/plain": [
       "<Figure size 432x288 with 1 Axes>"
      ]
     },
     "metadata": {
      "needs_background": "light"
     },
     "output_type": "display_data"
    }
   ],
   "source": [
    "df3['calculated_host_listings_count'].plot.box()\n",
    "plt.show()"
   ]
  },
  {
   "cell_type": "code",
   "execution_count": 82,
   "metadata": {},
   "outputs": [
    {
     "data": {
      "text/plain": [
       "<matplotlib.axes._subplots.AxesSubplot at 0xa8972c6310>"
      ]
     },
     "execution_count": 82,
     "metadata": {},
     "output_type": "execute_result"
    },
    {
     "data": {
      "image/png": "[encoded data removed]",
      "text/plain": [
       "<Figure size 432x288 with 1 Axes>"
      ]
     },
     "metadata": {
      "needs_background": "light"
     },
     "output_type": "display_data"
    }
   ],
   "source": [
    "df3['calculated_host_listings_count'].hist(bins=50,)"
   ]
  },
  {
   "cell_type": "code",
   "execution_count": 83,
   "metadata": {},
   "outputs": [],
   "source": [
    "## Также стало лучше "
   ]
  },
  {
   "cell_type": "markdown",
   "metadata": {},
   "source": [
    "## availability_365"
   ]
  },
  {
   "cell_type": "code",
   "execution_count": 84,
   "metadata": {},
   "outputs": [
    {
     "data": {
      "image/png": "[encoded data removed]",
      "text/plain": [
       "<Figure size 432x288 with 1 Axes>"
      ]
     },
     "metadata": {
      "needs_background": "light"
     },
     "output_type": "display_data"
    }
   ],
   "source": [
    "df2['availability_365'].plot.box()\n",
    "plt.show()"
   ]
  },
  {
   "cell_type": "code",
   "execution_count": 85,
   "metadata": {},
   "outputs": [
    {
     "data": {
      "text/plain": [
       "<matplotlib.axes._subplots.AxesSubplot at 0xa8973f2c70>"
      ]
     },
     "execution_count": 85,
     "metadata": {},
     "output_type": "execute_result"
    },
    {
     "data": {
      "image/png": "[encoded data removed]",
      "text/plain": [
       "<Figure size 432x288 with 1 Axes>"
      ]
     },
     "metadata": {
      "needs_background": "light"
     },
     "output_type": "display_data"
    }
   ],
   "source": [
    "df2['availability_365'].hist(bins=50,)"
   ]
  },
  {
   "cell_type": "code",
   "execution_count": 86,
   "metadata": {},
   "outputs": [
    {
     "name": "stdout",
     "output_type": "stream",
     "text": [
      "Выбросов нет\n",
      "Верхняя граница: 1816.0 \n",
      "Нижняя граница: -1589.0\n"
     ]
    }
   ],
   "source": [
    "index, params = outlier_detect_IQR(data=df2, col='availability_365', threshold=7)\n",
    "print('Верхняя граница:', params[0], '\\nНижняя граница:', params[1])"
   ]
  },
  {
   "cell_type": "markdown",
   "metadata": {},
   "source": [
    "## Расстояние до Манхэттена"
   ]
  },
  {
   "cell_type": "code",
   "execution_count": 87,
   "metadata": {},
   "outputs": [],
   "source": [
    "## Добавим признак \"Расстояние до Манхэттена\""
   ]
  },
  {
   "cell_type": "code",
   "execution_count": 88,
   "metadata": {},
   "outputs": [],
   "source": [
    "from sklearn.metrics.pairwise import euclidean_distances"
   ]
  },
  {
   "cell_type": "code",
   "execution_count": 89,
   "metadata": {},
   "outputs": [],
   "source": [
    "coords = ['latitude', 'longitude']\n",
    "appt_coord = df2[coords]"
   ]
  },
  {
   "cell_type": "code",
   "execution_count": 90,
   "metadata": {},
   "outputs": [],
   "source": [
    "# Координаты Манхэттена\n",
    "manhattan = np.array([40.78343, -73.96625]).reshape(1, -1)\n",
    "dist2mh = euclidean_distances(appt_coord, manhattan)\n",
    "df3['dist2mh'] = dist2mh"
   ]
  },
  {
   "cell_type": "code",
   "execution_count": 91,
   "metadata": {},
   "outputs": [
    {
     "data": {
      "image/png": "[encoded data removed]",
      "text/plain": [
       "<Figure size 432x288 with 1 Axes>"
      ]
     },
     "metadata": {
      "needs_background": "light"
     },
     "output_type": "display_data"
    }
   ],
   "source": [
    "df3['dist2mh'].plot.box()\n",
    "plt.show()"
   ]
  },
  {
   "cell_type": "code",
   "execution_count": 92,
   "metadata": {},
   "outputs": [
    {
     "data": {
      "text/plain": [
       "<matplotlib.axes._subplots.AxesSubplot at 0xa898c0ddc0>"
      ]
     },
     "execution_count": 92,
     "metadata": {},
     "output_type": "execute_result"
    },
    {
     "data": {
      "image/png": "[encoded data removed]",
      "text/plain": [
       "<Figure size 432x288 with 1 Axes>"
      ]
     },
     "metadata": {
      "needs_background": "light"
     },
     "output_type": "display_data"
    }
   ],
   "source": [
    "df3['dist2mh'].hist(bins=50,)"
   ]
  },
  {
   "cell_type": "code",
   "execution_count": 93,
   "metadata": {},
   "outputs": [],
   "source": [
    "## Удалим лишние столбцы 'latitude', 'longitude'"
   ]
  },
  {
   "cell_type": "code",
   "execution_count": 94,
   "metadata": {},
   "outputs": [],
   "source": [
    "df3.drop(['latitude', 'longitude'], axis=1, inplace=True)"
   ]
  },
  {
   "cell_type": "code",
   "execution_count": 95,
   "metadata": {},
   "outputs": [
    {
     "data": {
      "text/html": [
       "<div>\n",
       "<style scoped>\n",
       "    .dataframe tbody tr th:only-of-type {\n",
       "        vertical-align: middle;\n",
       "    }\n",
       "\n",
       "    .dataframe tbody tr th {\n",
       "        vertical-align: top;\n",
       "    }\n",
       "\n",
       "    .dataframe thead th {\n",
       "        text-align: right;\n",
       "    }\n",
       "</style>\n",
       "<table border=\"1\" class=\"dataframe\">\n",
       "  <thead>\n",
       "    <tr style=\"text-align: right;\">\n",
       "      <th></th>\n",
       "      <th>neighbourhood</th>\n",
       "      <th>price</th>\n",
       "      <th>minimum_nights</th>\n",
       "      <th>number_of_reviews</th>\n",
       "      <th>reviews_per_month</th>\n",
       "      <th>calculated_host_listings_count</th>\n",
       "      <th>availability_365</th>\n",
       "      <th>neighbourhood_group_Bronx</th>\n",
       "      <th>neighbourhood_group_Brooklyn</th>\n",
       "      <th>neighbourhood_group_Manhattan</th>\n",
       "      <th>neighbourhood_group_Queens</th>\n",
       "      <th>neighbourhood_group_Staten Island</th>\n",
       "      <th>room_type_Entire home/apt</th>\n",
       "      <th>room_type_Private room</th>\n",
       "      <th>room_type_Shared room</th>\n",
       "      <th>dist2mh</th>\n",
       "    </tr>\n",
       "  </thead>\n",
       "  <tbody>\n",
       "    <tr>\n",
       "      <th>0</th>\n",
       "      <td>1</td>\n",
       "      <td>149</td>\n",
       "      <td>1</td>\n",
       "      <td>9</td>\n",
       "      <td>0.21</td>\n",
       "      <td>6.0</td>\n",
       "      <td>365</td>\n",
       "      <td>0</td>\n",
       "      <td>1</td>\n",
       "      <td>0</td>\n",
       "      <td>0</td>\n",
       "      <td>0</td>\n",
       "      <td>0</td>\n",
       "      <td>1</td>\n",
       "      <td>0</td>\n",
       "      <td>0.136076</td>\n",
       "    </tr>\n",
       "    <tr>\n",
       "      <th>1</th>\n",
       "      <td>2</td>\n",
       "      <td>225</td>\n",
       "      <td>1</td>\n",
       "      <td>45</td>\n",
       "      <td>0.38</td>\n",
       "      <td>2.0</td>\n",
       "      <td>355</td>\n",
       "      <td>0</td>\n",
       "      <td>0</td>\n",
       "      <td>1</td>\n",
       "      <td>0</td>\n",
       "      <td>0</td>\n",
       "      <td>1</td>\n",
       "      <td>0</td>\n",
       "      <td>0</td>\n",
       "      <td>0.034578</td>\n",
       "    </tr>\n",
       "  </tbody>\n",
       "</table>\n",
       "</div>"
      ],
      "text/plain": [
       "   neighbourhood  price  minimum_nights  number_of_reviews  reviews_per_month  \\\n",
       "0              1    149               1                  9               0.21   \n",
       "1              2    225               1                 45               0.38   \n",
       "\n",
       "   calculated_host_listings_count  availability_365  \\\n",
       "0                             6.0               365   \n",
       "1                             2.0               355   \n",
       "\n",
       "   neighbourhood_group_Bronx  neighbourhood_group_Brooklyn  \\\n",
       "0                          0                             1   \n",
       "1                          0                             0   \n",
       "\n",
       "   neighbourhood_group_Manhattan  neighbourhood_group_Queens  \\\n",
       "0                              0                           0   \n",
       "1                              1                           0   \n",
       "\n",
       "   neighbourhood_group_Staten Island  room_type_Entire home/apt  \\\n",
       "0                                  0                          0   \n",
       "1                                  0                          1   \n",
       "\n",
       "   room_type_Private room  room_type_Shared room   dist2mh  \n",
       "0                       1                      0  0.136076  \n",
       "1                       0                      0  0.034578  "
      ]
     },
     "execution_count": 95,
     "metadata": {},
     "output_type": "execute_result"
    }
   ],
   "source": [
    "df3.head(2)"
   ]
  },
  {
   "cell_type": "code",
   "execution_count": 96,
   "metadata": {},
   "outputs": [
    {
     "data": {
      "text/plain": [
       "(48884, 16)"
      ]
     },
     "execution_count": 96,
     "metadata": {},
     "output_type": "execute_result"
    }
   ],
   "source": [
    "df3.shape"
   ]
  },
  {
   "cell_type": "code",
   "execution_count": 97,
   "metadata": {},
   "outputs": [
    {
     "data": {
      "text/html": [
       "<div>\n",
       "<style scoped>\n",
       "    .dataframe tbody tr th:only-of-type {\n",
       "        vertical-align: middle;\n",
       "    }\n",
       "\n",
       "    .dataframe tbody tr th {\n",
       "        vertical-align: top;\n",
       "    }\n",
       "\n",
       "    .dataframe thead th {\n",
       "        text-align: right;\n",
       "    }\n",
       "</style>\n",
       "<table border=\"1\" class=\"dataframe\">\n",
       "  <thead>\n",
       "    <tr style=\"text-align: right;\">\n",
       "      <th></th>\n",
       "      <th>neighbourhood</th>\n",
       "      <th>price</th>\n",
       "      <th>minimum_nights</th>\n",
       "      <th>number_of_reviews</th>\n",
       "      <th>reviews_per_month</th>\n",
       "      <th>calculated_host_listings_count</th>\n",
       "      <th>availability_365</th>\n",
       "      <th>neighbourhood_group_Bronx</th>\n",
       "      <th>neighbourhood_group_Brooklyn</th>\n",
       "      <th>neighbourhood_group_Manhattan</th>\n",
       "      <th>neighbourhood_group_Queens</th>\n",
       "      <th>neighbourhood_group_Staten Island</th>\n",
       "      <th>room_type_Entire home/apt</th>\n",
       "      <th>room_type_Private room</th>\n",
       "      <th>room_type_Shared room</th>\n",
       "      <th>dist2mh</th>\n",
       "    </tr>\n",
       "  </thead>\n",
       "  <tbody>\n",
       "    <tr>\n",
       "      <th>neighbourhood</th>\n",
       "      <td>1.000000</td>\n",
       "      <td>-0.054990</td>\n",
       "      <td>-0.028340</td>\n",
       "      <td>0.010777</td>\n",
       "      <td>0.098782</td>\n",
       "      <td>0.044162</td>\n",
       "      <td>0.124176</td>\n",
       "      <td>0.388756</td>\n",
       "      <td>-0.140125</td>\n",
       "      <td>-0.278041</td>\n",
       "      <td>0.406260</td>\n",
       "      <td>0.225395</td>\n",
       "      <td>-0.065329</td>\n",
       "      <td>0.051013</td>\n",
       "      <td>0.047535</td>\n",
       "      <td>0.532660</td>\n",
       "    </tr>\n",
       "    <tr>\n",
       "      <th>price</th>\n",
       "      <td>-0.054990</td>\n",
       "      <td>1.000000</td>\n",
       "      <td>0.042805</td>\n",
       "      <td>-0.047926</td>\n",
       "      <td>-0.050531</td>\n",
       "      <td>0.010502</td>\n",
       "      <td>0.081847</td>\n",
       "      <td>-0.040984</td>\n",
       "      <td>-0.098503</td>\n",
       "      <td>0.163897</td>\n",
       "      <td>-0.080262</td>\n",
       "      <td>-0.013853</td>\n",
       "      <td>0.255802</td>\n",
       "      <td>-0.240234</td>\n",
       "      <td>-0.053512</td>\n",
       "      <td>-0.121798</td>\n",
       "    </tr>\n",
       "    <tr>\n",
       "      <th>minimum_nights</th>\n",
       "      <td>-0.028340</td>\n",
       "      <td>0.042805</td>\n",
       "      <td>1.000000</td>\n",
       "      <td>-0.080080</td>\n",
       "      <td>-0.124870</td>\n",
       "      <td>0.159498</td>\n",
       "      <td>0.144275</td>\n",
       "      <td>-0.018160</td>\n",
       "      <td>-0.039688</td>\n",
       "      <td>0.067382</td>\n",
       "      <td>-0.032629</td>\n",
       "      <td>-0.009400</td>\n",
       "      <td>0.074927</td>\n",
       "      <td>-0.073772</td>\n",
       "      <td>-0.004522</td>\n",
       "      <td>-0.063544</td>\n",
       "    </tr>\n",
       "    <tr>\n",
       "      <th>number_of_reviews</th>\n",
       "      <td>0.010777</td>\n",
       "      <td>-0.047926</td>\n",
       "      <td>-0.080080</td>\n",
       "      <td>1.000000</td>\n",
       "      <td>0.589311</td>\n",
       "      <td>-0.013364</td>\n",
       "      <td>0.171975</td>\n",
       "      <td>0.009173</td>\n",
       "      <td>0.017359</td>\n",
       "      <td>-0.045758</td>\n",
       "      <td>0.035991</td>\n",
       "      <td>0.015094</td>\n",
       "      <td>-0.009992</td>\n",
       "      <td>0.017120</td>\n",
       "      <td>-0.023249</td>\n",
       "      <td>0.050590</td>\n",
       "    </tr>\n",
       "    <tr>\n",
       "      <th>reviews_per_month</th>\n",
       "      <td>0.098782</td>\n",
       "      <td>-0.050531</td>\n",
       "      <td>-0.124870</td>\n",
       "      <td>0.589311</td>\n",
       "      <td>1.000000</td>\n",
       "      <td>0.029021</td>\n",
       "      <td>0.163664</td>\n",
       "      <td>0.036295</td>\n",
       "      <td>-0.021591</td>\n",
       "      <td>-0.063650</td>\n",
       "      <td>0.107971</td>\n",
       "      <td>0.026659</td>\n",
       "      <td>-0.029449</td>\n",
       "      <td>0.030012</td>\n",
       "      <td>-0.001553</td>\n",
       "      <td>0.108802</td>\n",
       "    </tr>\n",
       "    <tr>\n",
       "      <th>calculated_host_listings_count</th>\n",
       "      <td>0.044162</td>\n",
       "      <td>0.010502</td>\n",
       "      <td>0.159498</td>\n",
       "      <td>-0.013364</td>\n",
       "      <td>0.029021</td>\n",
       "      <td>1.000000</td>\n",
       "      <td>0.425646</td>\n",
       "      <td>0.008606</td>\n",
       "      <td>-0.102168</td>\n",
       "      <td>0.060698</td>\n",
       "      <td>0.054820</td>\n",
       "      <td>0.014920</td>\n",
       "      <td>-0.093096</td>\n",
       "      <td>0.059224</td>\n",
       "      <td>0.111863</td>\n",
       "      <td>-0.008117</td>\n",
       "    </tr>\n",
       "    <tr>\n",
       "      <th>availability_365</th>\n",
       "      <td>0.124176</td>\n",
       "      <td>0.081847</td>\n",
       "      <td>0.144275</td>\n",
       "      <td>0.171975</td>\n",
       "      <td>0.163664</td>\n",
       "      <td>0.425646</td>\n",
       "      <td>1.000000</td>\n",
       "      <td>0.060825</td>\n",
       "      <td>-0.079736</td>\n",
       "      <td>-0.005387</td>\n",
       "      <td>0.087125</td>\n",
       "      <td>0.057890</td>\n",
       "      <td>-0.006744</td>\n",
       "      <td>-0.010974</td>\n",
       "      <td>0.058098</td>\n",
       "      <td>0.091611</td>\n",
       "    </tr>\n",
       "    <tr>\n",
       "      <th>neighbourhood_group_Bronx</th>\n",
       "      <td>0.388756</td>\n",
       "      <td>-0.040984</td>\n",
       "      <td>-0.018160</td>\n",
       "      <td>0.009173</td>\n",
       "      <td>0.036295</td>\n",
       "      <td>0.008606</td>\n",
       "      <td>0.060825</td>\n",
       "      <td>1.000000</td>\n",
       "      <td>-0.126170</td>\n",
       "      <td>-0.134704</td>\n",
       "      <td>-0.054681</td>\n",
       "      <td>-0.013242</td>\n",
       "      <td>-0.052001</td>\n",
       "      <td>0.042651</td>\n",
       "      <td>0.031139</td>\n",
       "      <td>0.092674</td>\n",
       "    </tr>\n",
       "    <tr>\n",
       "      <th>neighbourhood_group_Brooklyn</th>\n",
       "      <td>-0.140125</td>\n",
       "      <td>-0.098503</td>\n",
       "      <td>-0.039688</td>\n",
       "      <td>0.017359</td>\n",
       "      <td>-0.021591</td>\n",
       "      <td>-0.102168</td>\n",
       "      <td>-0.079736</td>\n",
       "      <td>-0.126170</td>\n",
       "      <td>1.000000</td>\n",
       "      <td>-0.745219</td>\n",
       "      <td>-0.302508</td>\n",
       "      <td>-0.073260</td>\n",
       "      <td>-0.073746</td>\n",
       "      <td>0.079395</td>\n",
       "      <td>-0.017777</td>\n",
       "      <td>0.438690</td>\n",
       "    </tr>\n",
       "    <tr>\n",
       "      <th>neighbourhood_group_Manhattan</th>\n",
       "      <td>-0.278041</td>\n",
       "      <td>0.163897</td>\n",
       "      <td>0.067382</td>\n",
       "      <td>-0.045758</td>\n",
       "      <td>-0.063650</td>\n",
       "      <td>0.060698</td>\n",
       "      <td>-0.005387</td>\n",
       "      <td>-0.134704</td>\n",
       "      <td>-0.745219</td>\n",
       "      <td>1.000000</td>\n",
       "      <td>-0.322968</td>\n",
       "      <td>-0.078215</td>\n",
       "      <td>0.159941</td>\n",
       "      <td>-0.157686</td>\n",
       "      <td>-0.008963</td>\n",
       "      <td>-0.671934</td>\n",
       "    </tr>\n",
       "    <tr>\n",
       "      <th>neighbourhood_group_Queens</th>\n",
       "      <td>0.406260</td>\n",
       "      <td>-0.080262</td>\n",
       "      <td>-0.032629</td>\n",
       "      <td>0.035991</td>\n",
       "      <td>0.107971</td>\n",
       "      <td>0.054820</td>\n",
       "      <td>0.087125</td>\n",
       "      <td>-0.054681</td>\n",
       "      <td>-0.302508</td>\n",
       "      <td>-0.322968</td>\n",
       "      <td>1.000000</td>\n",
       "      <td>-0.031750</td>\n",
       "      <td>-0.108575</td>\n",
       "      <td>0.100719</td>\n",
       "      <td>0.026801</td>\n",
       "      <td>0.250462</td>\n",
       "    </tr>\n",
       "    <tr>\n",
       "      <th>neighbourhood_group_Staten Island</th>\n",
       "      <td>0.225395</td>\n",
       "      <td>-0.013853</td>\n",
       "      <td>-0.009400</td>\n",
       "      <td>0.015094</td>\n",
       "      <td>0.026659</td>\n",
       "      <td>0.014920</td>\n",
       "      <td>0.057890</td>\n",
       "      <td>-0.013242</td>\n",
       "      <td>-0.073260</td>\n",
       "      <td>-0.078215</td>\n",
       "      <td>-0.031750</td>\n",
       "      <td>1.000000</td>\n",
       "      <td>-0.008405</td>\n",
       "      <td>0.008353</td>\n",
       "      <td>0.000254</td>\n",
       "      <td>0.276681</td>\n",
       "    </tr>\n",
       "    <tr>\n",
       "      <th>room_type_Entire home/apt</th>\n",
       "      <td>-0.065329</td>\n",
       "      <td>0.255802</td>\n",
       "      <td>0.074927</td>\n",
       "      <td>-0.009992</td>\n",
       "      <td>-0.029449</td>\n",
       "      <td>-0.093096</td>\n",
       "      <td>-0.006744</td>\n",
       "      <td>-0.052001</td>\n",
       "      <td>-0.073746</td>\n",
       "      <td>0.159941</td>\n",
       "      <td>-0.108575</td>\n",
       "      <td>-0.008405</td>\n",
       "      <td>1.000000</td>\n",
       "      <td>-0.953538</td>\n",
       "      <td>-0.162044</td>\n",
       "      <td>-0.115099</td>\n",
       "    </tr>\n",
       "    <tr>\n",
       "      <th>room_type_Private room</th>\n",
       "      <td>0.051013</td>\n",
       "      <td>-0.240234</td>\n",
       "      <td>-0.073772</td>\n",
       "      <td>0.017120</td>\n",
       "      <td>0.030012</td>\n",
       "      <td>0.059224</td>\n",
       "      <td>-0.010974</td>\n",
       "      <td>0.042651</td>\n",
       "      <td>0.079395</td>\n",
       "      <td>-0.157686</td>\n",
       "      <td>0.100719</td>\n",
       "      <td>0.008353</td>\n",
       "      <td>-0.953538</td>\n",
       "      <td>1.000000</td>\n",
       "      <td>-0.142777</td>\n",
       "      <td>0.109811</td>\n",
       "    </tr>\n",
       "    <tr>\n",
       "      <th>room_type_Shared room</th>\n",
       "      <td>0.047535</td>\n",
       "      <td>-0.053512</td>\n",
       "      <td>-0.004522</td>\n",
       "      <td>-0.023249</td>\n",
       "      <td>-0.001553</td>\n",
       "      <td>0.111863</td>\n",
       "      <td>0.058098</td>\n",
       "      <td>0.031139</td>\n",
       "      <td>-0.017777</td>\n",
       "      <td>-0.008963</td>\n",
       "      <td>0.026801</td>\n",
       "      <td>0.000254</td>\n",
       "      <td>-0.162044</td>\n",
       "      <td>-0.142777</td>\n",
       "      <td>1.000000</td>\n",
       "      <td>0.018455</td>\n",
       "    </tr>\n",
       "    <tr>\n",
       "      <th>dist2mh</th>\n",
       "      <td>0.532660</td>\n",
       "      <td>-0.121798</td>\n",
       "      <td>-0.063544</td>\n",
       "      <td>0.050590</td>\n",
       "      <td>0.108802</td>\n",
       "      <td>-0.008117</td>\n",
       "      <td>0.091611</td>\n",
       "      <td>0.092674</td>\n",
       "      <td>0.438690</td>\n",
       "      <td>-0.671934</td>\n",
       "      <td>0.250462</td>\n",
       "      <td>0.276681</td>\n",
       "      <td>-0.115099</td>\n",
       "      <td>0.109811</td>\n",
       "      <td>0.018455</td>\n",
       "      <td>1.000000</td>\n",
       "    </tr>\n",
       "  </tbody>\n",
       "</table>\n",
       "</div>"
      ],
      "text/plain": [
       "                                   neighbourhood     price  minimum_nights  \\\n",
       "neighbourhood                           1.000000 -0.054990       -0.028340   \n",
       "price                                  -0.054990  1.000000        0.042805   \n",
       "minimum_nights                         -0.028340  0.042805        1.000000   \n",
       "number_of_reviews                       0.010777 -0.047926       -0.080080   \n",
       "reviews_per_month                       0.098782 -0.050531       -0.124870   \n",
       "calculated_host_listings_count          0.044162  0.010502        0.159498   \n",
       "availability_365                        0.124176  0.081847        0.144275   \n",
       "neighbourhood_group_Bronx               0.388756 -0.040984       -0.018160   \n",
       "neighbourhood_group_Brooklyn           -0.140125 -0.098503       -0.039688   \n",
       "neighbourhood_group_Manhattan          -0.278041  0.163897        0.067382   \n",
       "neighbourhood_group_Queens              0.406260 -0.080262       -0.032629   \n",
       "neighbourhood_group_Staten Island       0.225395 -0.013853       -0.009400   \n",
       "room_type_Entire home/apt              -0.065329  0.255802        0.074927   \n",
       "room_type_Private room                  0.051013 -0.240234       -0.073772   \n",
       "room_type_Shared room                   0.047535 -0.053512       -0.004522   \n",
       "dist2mh                                 0.532660 -0.121798       -0.063544   \n",
       "\n",
       "                                   number_of_reviews  reviews_per_month  \\\n",
       "neighbourhood                               0.010777           0.098782   \n",
       "price                                      -0.047926          -0.050531   \n",
       "minimum_nights                             -0.080080          -0.124870   \n",
       "number_of_reviews                           1.000000           0.589311   \n",
       "reviews_per_month                           0.589311           1.000000   \n",
       "calculated_host_listings_count             -0.013364           0.029021   \n",
       "availability_365                            0.171975           0.163664   \n",
       "neighbourhood_group_Bronx                   0.009173           0.036295   \n",
       "neighbourhood_group_Brooklyn                0.017359          -0.021591   \n",
       "neighbourhood_group_Manhattan              -0.045758          -0.063650   \n",
       "neighbourhood_group_Queens                  0.035991           0.107971   \n",
       "neighbourhood_group_Staten Island           0.015094           0.026659   \n",
       "room_type_Entire home/apt                  -0.009992          -0.029449   \n",
       "room_type_Private room                      0.017120           0.030012   \n",
       "room_type_Shared room                      -0.023249          -0.001553   \n",
       "dist2mh                                     0.050590           0.108802   \n",
       "\n",
       "                                   calculated_host_listings_count  \\\n",
       "neighbourhood                                            0.044162   \n",
       "price                                                    0.010502   \n",
       "minimum_nights                                           0.159498   \n",
       "number_of_reviews                                       -0.013364   \n",
       "reviews_per_month                                        0.029021   \n",
       "calculated_host_listings_count                           1.000000   \n",
       "availability_365                                         0.425646   \n",
       "neighbourhood_group_Bronx                                0.008606   \n",
       "neighbourhood_group_Brooklyn                            -0.102168   \n",
       "neighbourhood_group_Manhattan                            0.060698   \n",
       "neighbourhood_group_Queens                               0.054820   \n",
       "neighbourhood_group_Staten Island                        0.014920   \n",
       "room_type_Entire home/apt                               -0.093096   \n",
       "room_type_Private room                                   0.059224   \n",
       "room_type_Shared room                                    0.111863   \n",
       "dist2mh                                                 -0.008117   \n",
       "\n",
       "                                   availability_365  \\\n",
       "neighbourhood                              0.124176   \n",
       "price                                      0.081847   \n",
       "minimum_nights                             0.144275   \n",
       "number_of_reviews                          0.171975   \n",
       "reviews_per_month                          0.163664   \n",
       "calculated_host_listings_count             0.425646   \n",
       "availability_365                           1.000000   \n",
       "neighbourhood_group_Bronx                  0.060825   \n",
       "neighbourhood_group_Brooklyn              -0.079736   \n",
       "neighbourhood_group_Manhattan             -0.005387   \n",
       "neighbourhood_group_Queens                 0.087125   \n",
       "neighbourhood_group_Staten Island          0.057890   \n",
       "room_type_Entire home/apt                 -0.006744   \n",
       "room_type_Private room                    -0.010974   \n",
       "room_type_Shared room                      0.058098   \n",
       "dist2mh                                    0.091611   \n",
       "\n",
       "                                   neighbourhood_group_Bronx  \\\n",
       "neighbourhood                                       0.388756   \n",
       "price                                              -0.040984   \n",
       "minimum_nights                                     -0.018160   \n",
       "number_of_reviews                                   0.009173   \n",
       "reviews_per_month                                   0.036295   \n",
       "calculated_host_listings_count                      0.008606   \n",
       "availability_365                                    0.060825   \n",
       "neighbourhood_group_Bronx                           1.000000   \n",
       "neighbourhood_group_Brooklyn                       -0.126170   \n",
       "neighbourhood_group_Manhattan                      -0.134704   \n",
       "neighbourhood_group_Queens                         -0.054681   \n",
       "neighbourhood_group_Staten Island                  -0.013242   \n",
       "room_type_Entire home/apt                          -0.052001   \n",
       "room_type_Private room                              0.042651   \n",
       "room_type_Shared room                               0.031139   \n",
       "dist2mh                                             0.092674   \n",
       "\n",
       "                                   neighbourhood_group_Brooklyn  \\\n",
       "neighbourhood                                         -0.140125   \n",
       "price                                                 -0.098503   \n",
       "minimum_nights                                        -0.039688   \n",
       "number_of_reviews                                      0.017359   \n",
       "reviews_per_month                                     -0.021591   \n",
       "calculated_host_listings_count                        -0.102168   \n",
       "availability_365                                      -0.079736   \n",
       "neighbourhood_group_Bronx                             -0.126170   \n",
       "neighbourhood_group_Brooklyn                           1.000000   \n",
       "neighbourhood_group_Manhattan                         -0.745219   \n",
       "neighbourhood_group_Queens                            -0.302508   \n",
       "neighbourhood_group_Staten Island                     -0.073260   \n",
       "room_type_Entire home/apt                             -0.073746   \n",
       "room_type_Private room                                 0.079395   \n",
       "room_type_Shared room                                 -0.017777   \n",
       "dist2mh                                                0.438690   \n",
       "\n",
       "                                   neighbourhood_group_Manhattan  \\\n",
       "neighbourhood                                          -0.278041   \n",
       "price                                                   0.163897   \n",
       "minimum_nights                                          0.067382   \n",
       "number_of_reviews                                      -0.045758   \n",
       "reviews_per_month                                      -0.063650   \n",
       "calculated_host_listings_count                          0.060698   \n",
       "availability_365                                       -0.005387   \n",
       "neighbourhood_group_Bronx                              -0.134704   \n",
       "neighbourhood_group_Brooklyn                           -0.745219   \n",
       "neighbourhood_group_Manhattan                           1.000000   \n",
       "neighbourhood_group_Queens                             -0.322968   \n",
       "neighbourhood_group_Staten Island                      -0.078215   \n",
       "room_type_Entire home/apt                               0.159941   \n",
       "room_type_Private room                                 -0.157686   \n",
       "room_type_Shared room                                  -0.008963   \n",
       "dist2mh                                                -0.671934   \n",
       "\n",
       "                                   neighbourhood_group_Queens  \\\n",
       "neighbourhood                                        0.406260   \n",
       "price                                               -0.080262   \n",
       "minimum_nights                                      -0.032629   \n",
       "number_of_reviews                                    0.035991   \n",
       "reviews_per_month                                    0.107971   \n",
       "calculated_host_listings_count                       0.054820   \n",
       "availability_365                                     0.087125   \n",
       "neighbourhood_group_Bronx                           -0.054681   \n",
       "neighbourhood_group_Brooklyn                        -0.302508   \n",
       "neighbourhood_group_Manhattan                       -0.322968   \n",
       "neighbourhood_group_Queens                           1.000000   \n",
       "neighbourhood_group_Staten Island                   -0.031750   \n",
       "room_type_Entire home/apt                           -0.108575   \n",
       "room_type_Private room                               0.100719   \n",
       "room_type_Shared room                                0.026801   \n",
       "dist2mh                                              0.250462   \n",
       "\n",
       "                                   neighbourhood_group_Staten Island  \\\n",
       "neighbourhood                                               0.225395   \n",
       "price                                                      -0.013853   \n",
       "minimum_nights                                             -0.009400   \n",
       "number_of_reviews                                           0.015094   \n",
       "reviews_per_month                                           0.026659   \n",
       "calculated_host_listings_count                              0.014920   \n",
       "availability_365                                            0.057890   \n",
       "neighbourhood_group_Bronx                                  -0.013242   \n",
       "neighbourhood_group_Brooklyn                               -0.073260   \n",
       "neighbourhood_group_Manhattan                              -0.078215   \n",
       "neighbourhood_group_Queens                                 -0.031750   \n",
       "neighbourhood_group_Staten Island                           1.000000   \n",
       "room_type_Entire home/apt                                  -0.008405   \n",
       "room_type_Private room                                      0.008353   \n",
       "room_type_Shared room                                       0.000254   \n",
       "dist2mh                                                     0.276681   \n",
       "\n",
       "                                   room_type_Entire home/apt  \\\n",
       "neighbourhood                                      -0.065329   \n",
       "price                                               0.255802   \n",
       "minimum_nights                                      0.074927   \n",
       "number_of_reviews                                  -0.009992   \n",
       "reviews_per_month                                  -0.029449   \n",
       "calculated_host_listings_count                     -0.093096   \n",
       "availability_365                                   -0.006744   \n",
       "neighbourhood_group_Bronx                          -0.052001   \n",
       "neighbourhood_group_Brooklyn                       -0.073746   \n",
       "neighbourhood_group_Manhattan                       0.159941   \n",
       "neighbourhood_group_Queens                         -0.108575   \n",
       "neighbourhood_group_Staten Island                  -0.008405   \n",
       "room_type_Entire home/apt                           1.000000   \n",
       "room_type_Private room                             -0.953538   \n",
       "room_type_Shared room                              -0.162044   \n",
       "dist2mh                                            -0.115099   \n",
       "\n",
       "                                   room_type_Private room  \\\n",
       "neighbourhood                                    0.051013   \n",
       "price                                           -0.240234   \n",
       "minimum_nights                                  -0.073772   \n",
       "number_of_reviews                                0.017120   \n",
       "reviews_per_month                                0.030012   \n",
       "calculated_host_listings_count                   0.059224   \n",
       "availability_365                                -0.010974   \n",
       "neighbourhood_group_Bronx                        0.042651   \n",
       "neighbourhood_group_Brooklyn                     0.079395   \n",
       "neighbourhood_group_Manhattan                   -0.157686   \n",
       "neighbourhood_group_Queens                       0.100719   \n",
       "neighbourhood_group_Staten Island                0.008353   \n",
       "room_type_Entire home/apt                       -0.953538   \n",
       "room_type_Private room                           1.000000   \n",
       "room_type_Shared room                           -0.142777   \n",
       "dist2mh                                          0.109811   \n",
       "\n",
       "                                   room_type_Shared room   dist2mh  \n",
       "neighbourhood                                   0.047535  0.532660  \n",
       "price                                          -0.053512 -0.121798  \n",
       "minimum_nights                                 -0.004522 -0.063544  \n",
       "number_of_reviews                              -0.023249  0.050590  \n",
       "reviews_per_month                              -0.001553  0.108802  \n",
       "calculated_host_listings_count                  0.111863 -0.008117  \n",
       "availability_365                                0.058098  0.091611  \n",
       "neighbourhood_group_Bronx                       0.031139  0.092674  \n",
       "neighbourhood_group_Brooklyn                   -0.017777  0.438690  \n",
       "neighbourhood_group_Manhattan                  -0.008963 -0.671934  \n",
       "neighbourhood_group_Queens                      0.026801  0.250462  \n",
       "neighbourhood_group_Staten Island               0.000254  0.276681  \n",
       "room_type_Entire home/apt                      -0.162044 -0.115099  \n",
       "room_type_Private room                         -0.142777  0.109811  \n",
       "room_type_Shared room                           1.000000  0.018455  \n",
       "dist2mh                                         0.018455  1.000000  "
      ]
     },
     "execution_count": 97,
     "metadata": {},
     "output_type": "execute_result"
    }
   ],
   "source": [
    "## Расчитаем корреляцию\n",
    "corr = df3.corr()\n",
    "corr"
   ]
  },
  {
   "cell_type": "code",
   "execution_count": 98,
   "metadata": {},
   "outputs": [],
   "source": [
    "## Создадим heatmap"
   ]
  },
  {
   "cell_type": "code",
   "execution_count": 99,
   "metadata": {},
   "outputs": [],
   "source": [
    "mask = np.triu(np.ones_like(corr, dtype=bool))\n"
   ]
  },
  {
   "cell_type": "code",
   "execution_count": 100,
   "metadata": {},
   "outputs": [
    {
     "data": {
      "image/png": "[encoded data removed]",
      "text/plain": [
       "<Figure size 1080x576 with 2 Axes>"
      ]
     },
     "metadata": {
      "needs_background": "light"
     },
     "output_type": "display_data"
    }
   ],
   "source": [
    "plt.figure(figsize=(15,8));\n",
    "sns.heatmap(corr, annot=True, fmt='.2f', mask=mask);"
   ]
  },
  {
   "cell_type": "markdown",
   "metadata": {},
   "source": [
    "## ML"
   ]
  },
  {
   "cell_type": "code",
   "execution_count": 101,
   "metadata": {},
   "outputs": [
    {
     "data": {
      "text/html": [
       "<div>\n",
       "<style scoped>\n",
       "    .dataframe tbody tr th:only-of-type {\n",
       "        vertical-align: middle;\n",
       "    }\n",
       "\n",
       "    .dataframe tbody tr th {\n",
       "        vertical-align: top;\n",
       "    }\n",
       "\n",
       "    .dataframe thead th {\n",
       "        text-align: right;\n",
       "    }\n",
       "</style>\n",
       "<table border=\"1\" class=\"dataframe\">\n",
       "  <thead>\n",
       "    <tr style=\"text-align: right;\">\n",
       "      <th></th>\n",
       "    </tr>\n",
       "    <tr>\n",
       "      <th>error_type</th>\n",
       "    </tr>\n",
       "  </thead>\n",
       "  <tbody>\n",
       "    <tr>\n",
       "      <th>MAE</th>\n",
       "    </tr>\n",
       "    <tr>\n",
       "      <th>RMSE</th>\n",
       "    </tr>\n",
       "    <tr>\n",
       "      <th>R2</th>\n",
       "    </tr>\n",
       "    <tr>\n",
       "      <th>MAPE</th>\n",
       "    </tr>\n",
       "  </tbody>\n",
       "</table>\n",
       "</div>"
      ],
      "text/plain": [
       "Empty DataFrame\n",
       "Columns: []\n",
       "Index: [MAE, RMSE, R2, MAPE]"
      ]
     },
     "execution_count": 101,
     "metadata": {},
     "output_type": "execute_result"
    }
   ],
   "source": [
    "from sklearn.linear_model import LinearRegression, LassoCV, RidgeCV, ElasticNetCV\n",
    "from sklearn.ensemble import RandomForestRegressor\n",
    "from sklearn.preprocessing import StandardScaler, RobustScaler, MinMaxScaler\n",
    "from sklearn.model_selection import train_test_split\n",
    "from sklearn import metrics  # подгружаем метрики\n",
    "\n",
    "def mean_absolute_percentage_error(y_true, y_pred): \n",
    "    y_true, y_pred = np.array(y_true), np.array(y_pred)\n",
    "    return np.mean(np.abs((y_true - y_pred) / y_true)) * 100\n",
    "\n",
    "def dataframe_metrics(y_test,y_pred):\n",
    "    stats = [\n",
    "       metrics.mean_absolute_error(y_test, y_pred),\n",
    "       np.sqrt(metrics.mean_squared_error(y_test, y_pred)),\n",
    "       metrics.r2_score(y_test, y_pred),\n",
    "       mean_absolute_percentage_error(y_test, y_pred)\n",
    "    ]\n",
    "    return stats\n",
    "\n",
    "measured_metrics = pd.DataFrame({\"error_type\":[\"MAE\", \"RMSE\", \"R2\", \"MAPE\"]})\n",
    "measured_metrics.set_index(\"error_type\")    "
   ]
  },
  {
   "cell_type": "code",
   "execution_count": 102,
   "metadata": {},
   "outputs": [],
   "source": [
    "X_train, X_test, y_train, y_test = train_test_split(\n",
    "    df3.drop(['price'], axis=1), \n",
    "    df3['price'], \n",
    "    test_size=0.3\n",
    ")"
   ]
  },
  {
   "cell_type": "markdown",
   "metadata": {},
   "source": [
    "## baseline"
   ]
  },
  {
   "cell_type": "code",
   "execution_count": 103,
   "metadata": {},
   "outputs": [],
   "source": [
    "# Сделаем самый простой baseline прогноз"
   ]
  },
  {
   "cell_type": "code",
   "execution_count": 104,
   "metadata": {},
   "outputs": [
    {
     "data": {
      "text/plain": [
       "array([106., 106., 106., 106., 106.])"
      ]
     },
     "execution_count": 104,
     "metadata": {},
     "output_type": "execute_result"
    }
   ],
   "source": [
    "y_median = np.median(y_train)                   \n",
    "y_pred_naive = np.ones(len(y_test)) * y_median  \n",
    "y_pred_naive[:5]"
   ]
  },
  {
   "cell_type": "code",
   "execution_count": 105,
   "metadata": {},
   "outputs": [],
   "source": [
    "measured_metrics['naive_baseline'] = dataframe_metrics(y_test, y_pred_naive)"
   ]
  },
  {
   "cell_type": "code",
   "execution_count": 106,
   "metadata": {},
   "outputs": [
    {
     "data": {
      "text/html": [
       "<div>\n",
       "<style scoped>\n",
       "    .dataframe tbody tr th:only-of-type {\n",
       "        vertical-align: middle;\n",
       "    }\n",
       "\n",
       "    .dataframe tbody tr th {\n",
       "        vertical-align: top;\n",
       "    }\n",
       "\n",
       "    .dataframe thead th {\n",
       "        text-align: right;\n",
       "    }\n",
       "</style>\n",
       "<table border=\"1\" class=\"dataframe\">\n",
       "  <thead>\n",
       "    <tr style=\"text-align: right;\">\n",
       "      <th></th>\n",
       "      <th>error_type</th>\n",
       "      <th>naive_baseline</th>\n",
       "    </tr>\n",
       "  </thead>\n",
       "  <tbody>\n",
       "    <tr>\n",
       "      <th>0</th>\n",
       "      <td>MAE</td>\n",
       "      <td>85.579095</td>\n",
       "    </tr>\n",
       "    <tr>\n",
       "      <th>1</th>\n",
       "      <td>RMSE</td>\n",
       "      <td>249.858292</td>\n",
       "    </tr>\n",
       "    <tr>\n",
       "      <th>2</th>\n",
       "      <td>R2</td>\n",
       "      <td>-0.038413</td>\n",
       "    </tr>\n",
       "    <tr>\n",
       "      <th>3</th>\n",
       "      <td>MAPE</td>\n",
       "      <td>57.575081</td>\n",
       "    </tr>\n",
       "  </tbody>\n",
       "</table>\n",
       "</div>"
      ],
      "text/plain": [
       "  error_type  naive_baseline\n",
       "0        MAE       85.579095\n",
       "1       RMSE      249.858292\n",
       "2         R2       -0.038413\n",
       "3       MAPE       57.575081"
      ]
     },
     "execution_count": 106,
     "metadata": {},
     "output_type": "execute_result"
    }
   ],
   "source": [
    "measured_metrics"
   ]
  },
  {
   "cell_type": "code",
   "execution_count": 107,
   "metadata": {},
   "outputs": [],
   "source": [
    "# Что-то совсем плохо. Будем строить модели"
   ]
  },
  {
   "cell_type": "markdown",
   "metadata": {},
   "source": [
    "## Linear model"
   ]
  },
  {
   "cell_type": "code",
   "execution_count": 108,
   "metadata": {},
   "outputs": [],
   "source": [
    "## Отшкалируем переменные StandardScaler'ом"
   ]
  },
  {
   "cell_type": "code",
   "execution_count": 109,
   "metadata": {},
   "outputs": [],
   "source": [
    "scaler = StandardScaler()\n",
    "\n",
    "X_train_scaled = X_train.copy()\n",
    "X_test_scaled = X_test.copy()\n",
    "\n",
    "X_train_scaled[X_train.columns] = scaler.fit_transform(X_train)\n",
    "X_test_scaled[X_train.columns] = scaler.transform(X_test)"
   ]
  },
  {
   "cell_type": "code",
   "execution_count": 110,
   "metadata": {},
   "outputs": [
    {
     "data": {
      "text/html": [
       "<div>\n",
       "<style scoped>\n",
       "    .dataframe tbody tr th:only-of-type {\n",
       "        vertical-align: middle;\n",
       "    }\n",
       "\n",
       "    .dataframe tbody tr th {\n",
       "        vertical-align: top;\n",
       "    }\n",
       "\n",
       "    .dataframe thead th {\n",
       "        text-align: right;\n",
       "    }\n",
       "</style>\n",
       "<table border=\"1\" class=\"dataframe\">\n",
       "  <thead>\n",
       "    <tr style=\"text-align: right;\">\n",
       "      <th></th>\n",
       "      <th>neighbourhood</th>\n",
       "      <th>minimum_nights</th>\n",
       "      <th>number_of_reviews</th>\n",
       "      <th>reviews_per_month</th>\n",
       "      <th>calculated_host_listings_count</th>\n",
       "      <th>availability_365</th>\n",
       "      <th>neighbourhood_group_Bronx</th>\n",
       "      <th>neighbourhood_group_Brooklyn</th>\n",
       "      <th>neighbourhood_group_Manhattan</th>\n",
       "      <th>neighbourhood_group_Queens</th>\n",
       "      <th>neighbourhood_group_Staten Island</th>\n",
       "      <th>room_type_Entire home/apt</th>\n",
       "      <th>room_type_Private room</th>\n",
       "      <th>room_type_Shared room</th>\n",
       "      <th>dist2mh</th>\n",
       "    </tr>\n",
       "  </thead>\n",
       "  <tbody>\n",
       "    <tr>\n",
       "      <th>39892</th>\n",
       "      <td>-0.834760</td>\n",
       "      <td>-0.283758</td>\n",
       "      <td>-0.500229</td>\n",
       "      <td>-0.060695</td>\n",
       "      <td>2.194704</td>\n",
       "      <td>1.921268</td>\n",
       "      <td>-0.150411</td>\n",
       "      <td>-0.835663</td>\n",
       "      <td>1.123343</td>\n",
       "      <td>-0.364138</td>\n",
       "      <td>-0.086991</td>\n",
       "      <td>0.962872</td>\n",
       "      <td>-0.918662</td>\n",
       "      <td>-0.154822</td>\n",
       "      <td>-1.183380</td>\n",
       "    </tr>\n",
       "    <tr>\n",
       "      <th>30104</th>\n",
       "      <td>-0.776882</td>\n",
       "      <td>-0.095948</td>\n",
       "      <td>-0.500229</td>\n",
       "      <td>-0.060695</td>\n",
       "      <td>-0.542716</td>\n",
       "      <td>-0.856448</td>\n",
       "      <td>-0.150411</td>\n",
       "      <td>1.196655</td>\n",
       "      <td>-0.890200</td>\n",
       "      <td>-0.364138</td>\n",
       "      <td>-0.086991</td>\n",
       "      <td>0.962872</td>\n",
       "      <td>-0.918662</td>\n",
       "      <td>-0.154822</td>\n",
       "      <td>0.400372</td>\n",
       "    </tr>\n",
       "  </tbody>\n",
       "</table>\n",
       "</div>"
      ],
      "text/plain": [
       "       neighbourhood  minimum_nights  number_of_reviews  reviews_per_month  \\\n",
       "39892      -0.834760       -0.283758          -0.500229          -0.060695   \n",
       "30104      -0.776882       -0.095948          -0.500229          -0.060695   \n",
       "\n",
       "       calculated_host_listings_count  availability_365  \\\n",
       "39892                        2.194704          1.921268   \n",
       "30104                       -0.542716         -0.856448   \n",
       "\n",
       "       neighbourhood_group_Bronx  neighbourhood_group_Brooklyn  \\\n",
       "39892                  -0.150411                     -0.835663   \n",
       "30104                  -0.150411                      1.196655   \n",
       "\n",
       "       neighbourhood_group_Manhattan  neighbourhood_group_Queens  \\\n",
       "39892                       1.123343                   -0.364138   \n",
       "30104                      -0.890200                   -0.364138   \n",
       "\n",
       "       neighbourhood_group_Staten Island  room_type_Entire home/apt  \\\n",
       "39892                          -0.086991                   0.962872   \n",
       "30104                          -0.086991                   0.962872   \n",
       "\n",
       "       room_type_Private room  room_type_Shared room   dist2mh  \n",
       "39892               -0.918662              -0.154822 -1.183380  \n",
       "30104               -0.918662              -0.154822  0.400372  "
      ]
     },
     "execution_count": 110,
     "metadata": {},
     "output_type": "execute_result"
    }
   ],
   "source": [
    "X_train_scaled.head(2)"
   ]
  },
  {
   "cell_type": "code",
   "execution_count": 111,
   "metadata": {},
   "outputs": [
    {
     "data": {
      "text/html": [
       "<div>\n",
       "<style scoped>\n",
       "    .dataframe tbody tr th:only-of-type {\n",
       "        vertical-align: middle;\n",
       "    }\n",
       "\n",
       "    .dataframe tbody tr th {\n",
       "        vertical-align: top;\n",
       "    }\n",
       "\n",
       "    .dataframe thead th {\n",
       "        text-align: right;\n",
       "    }\n",
       "</style>\n",
       "<table border=\"1\" class=\"dataframe\">\n",
       "  <thead>\n",
       "    <tr style=\"text-align: right;\">\n",
       "      <th></th>\n",
       "      <th>neighbourhood</th>\n",
       "      <th>minimum_nights</th>\n",
       "      <th>number_of_reviews</th>\n",
       "      <th>reviews_per_month</th>\n",
       "      <th>calculated_host_listings_count</th>\n",
       "      <th>availability_365</th>\n",
       "      <th>neighbourhood_group_Bronx</th>\n",
       "      <th>neighbourhood_group_Brooklyn</th>\n",
       "      <th>neighbourhood_group_Manhattan</th>\n",
       "      <th>neighbourhood_group_Queens</th>\n",
       "      <th>neighbourhood_group_Staten Island</th>\n",
       "      <th>room_type_Entire home/apt</th>\n",
       "      <th>room_type_Private room</th>\n",
       "      <th>room_type_Shared room</th>\n",
       "      <th>dist2mh</th>\n",
       "    </tr>\n",
       "  </thead>\n",
       "  <tbody>\n",
       "    <tr>\n",
       "      <th>35298</th>\n",
       "      <td>-0.255977</td>\n",
       "      <td>-0.189853</td>\n",
       "      <td>-0.500229</td>\n",
       "      <td>-0.618520</td>\n",
       "      <td>-0.542716</td>\n",
       "      <td>-0.658584</td>\n",
       "      <td>-0.150411</td>\n",
       "      <td>1.196655</td>\n",
       "      <td>-0.890200</td>\n",
       "      <td>-0.364138</td>\n",
       "      <td>-0.086991</td>\n",
       "      <td>-1.038559</td>\n",
       "      <td>1.088539</td>\n",
       "      <td>-0.154822</td>\n",
       "      <td>0.696333</td>\n",
       "    </tr>\n",
       "    <tr>\n",
       "      <th>19574</th>\n",
       "      <td>-0.834760</td>\n",
       "      <td>1.077864</td>\n",
       "      <td>-0.522530</td>\n",
       "      <td>-0.680501</td>\n",
       "      <td>2.742188</td>\n",
       "      <td>1.403776</td>\n",
       "      <td>-0.150411</td>\n",
       "      <td>-0.835663</td>\n",
       "      <td>1.123343</td>\n",
       "      <td>-0.364138</td>\n",
       "      <td>-0.086991</td>\n",
       "      <td>0.962872</td>\n",
       "      <td>-0.918662</td>\n",
       "      <td>-0.154822</td>\n",
       "      <td>-0.993381</td>\n",
       "    </tr>\n",
       "  </tbody>\n",
       "</table>\n",
       "</div>"
      ],
      "text/plain": [
       "       neighbourhood  minimum_nights  number_of_reviews  reviews_per_month  \\\n",
       "35298      -0.255977       -0.189853          -0.500229          -0.618520   \n",
       "19574      -0.834760        1.077864          -0.522530          -0.680501   \n",
       "\n",
       "       calculated_host_listings_count  availability_365  \\\n",
       "35298                       -0.542716         -0.658584   \n",
       "19574                        2.742188          1.403776   \n",
       "\n",
       "       neighbourhood_group_Bronx  neighbourhood_group_Brooklyn  \\\n",
       "35298                  -0.150411                      1.196655   \n",
       "19574                  -0.150411                     -0.835663   \n",
       "\n",
       "       neighbourhood_group_Manhattan  neighbourhood_group_Queens  \\\n",
       "35298                      -0.890200                   -0.364138   \n",
       "19574                       1.123343                   -0.364138   \n",
       "\n",
       "       neighbourhood_group_Staten Island  room_type_Entire home/apt  \\\n",
       "35298                          -0.086991                  -1.038559   \n",
       "19574                          -0.086991                   0.962872   \n",
       "\n",
       "       room_type_Private room  room_type_Shared room   dist2mh  \n",
       "35298                1.088539              -0.154822  0.696333  \n",
       "19574               -0.918662              -0.154822 -0.993381  "
      ]
     },
     "execution_count": 111,
     "metadata": {},
     "output_type": "execute_result"
    }
   ],
   "source": [
    "X_test_scaled.head(2)"
   ]
  },
  {
   "cell_type": "code",
   "execution_count": 112,
   "metadata": {},
   "outputs": [],
   "source": [
    "# Сделаем это с RobustScaler"
   ]
  },
  {
   "cell_type": "code",
   "execution_count": 113,
   "metadata": {},
   "outputs": [],
   "source": [
    "rscaler = RobustScaler()\n",
    "\n",
    "X_train_rscaled = X_train.copy()\n",
    "X_test_rscaled = X_test.copy()\n",
    "\n",
    "X_train_rscaled[X_train.columns] = rscaler.fit_transform(X_train)\n",
    "X_test_rscaled[X_train.columns] = rscaler.transform(X_test)"
   ]
  },
  {
   "cell_type": "code",
   "execution_count": 114,
   "metadata": {},
   "outputs": [
    {
     "data": {
      "text/html": [
       "<div>\n",
       "<style scoped>\n",
       "    .dataframe tbody tr th:only-of-type {\n",
       "        vertical-align: middle;\n",
       "    }\n",
       "\n",
       "    .dataframe tbody tr th {\n",
       "        vertical-align: top;\n",
       "    }\n",
       "\n",
       "    .dataframe thead th {\n",
       "        text-align: right;\n",
       "    }\n",
       "</style>\n",
       "<table border=\"1\" class=\"dataframe\">\n",
       "  <thead>\n",
       "    <tr style=\"text-align: right;\">\n",
       "      <th></th>\n",
       "      <th>neighbourhood</th>\n",
       "      <th>minimum_nights</th>\n",
       "      <th>number_of_reviews</th>\n",
       "      <th>reviews_per_month</th>\n",
       "      <th>calculated_host_listings_count</th>\n",
       "      <th>availability_365</th>\n",
       "      <th>neighbourhood_group_Bronx</th>\n",
       "      <th>neighbourhood_group_Brooklyn</th>\n",
       "      <th>neighbourhood_group_Manhattan</th>\n",
       "      <th>neighbourhood_group_Queens</th>\n",
       "      <th>neighbourhood_group_Staten Island</th>\n",
       "      <th>room_type_Entire home/apt</th>\n",
       "      <th>room_type_Private room</th>\n",
       "      <th>room_type_Shared room</th>\n",
       "      <th>dist2mh</th>\n",
       "    </tr>\n",
       "  </thead>\n",
       "  <tbody>\n",
       "    <tr>\n",
       "      <th>39892</th>\n",
       "      <td>-0.620690</td>\n",
       "      <td>-0.25</td>\n",
       "      <td>-0.173913</td>\n",
       "      <td>0.403846</td>\n",
       "      <td>5.0</td>\n",
       "      <td>1.420354</td>\n",
       "      <td>0.0</td>\n",
       "      <td>0.0</td>\n",
       "      <td>1.0</td>\n",
       "      <td>0.0</td>\n",
       "      <td>0.0</td>\n",
       "      <td>0.0</td>\n",
       "      <td>0.0</td>\n",
       "      <td>0.0</td>\n",
       "      <td>-0.790957</td>\n",
       "    </tr>\n",
       "    <tr>\n",
       "      <th>30104</th>\n",
       "      <td>-0.551724</td>\n",
       "      <td>0.75</td>\n",
       "      <td>-0.173913</td>\n",
       "      <td>0.403846</td>\n",
       "      <td>0.0</td>\n",
       "      <td>-0.194690</td>\n",
       "      <td>0.0</td>\n",
       "      <td>1.0</td>\n",
       "      <td>0.0</td>\n",
       "      <td>0.0</td>\n",
       "      <td>0.0</td>\n",
       "      <td>0.0</td>\n",
       "      <td>0.0</td>\n",
       "      <td>0.0</td>\n",
       "      <td>0.425429</td>\n",
       "    </tr>\n",
       "  </tbody>\n",
       "</table>\n",
       "</div>"
      ],
      "text/plain": [
       "       neighbourhood  minimum_nights  number_of_reviews  reviews_per_month  \\\n",
       "39892      -0.620690           -0.25          -0.173913           0.403846   \n",
       "30104      -0.551724            0.75          -0.173913           0.403846   \n",
       "\n",
       "       calculated_host_listings_count  availability_365  \\\n",
       "39892                             5.0          1.420354   \n",
       "30104                             0.0         -0.194690   \n",
       "\n",
       "       neighbourhood_group_Bronx  neighbourhood_group_Brooklyn  \\\n",
       "39892                        0.0                           0.0   \n",
       "30104                        0.0                           1.0   \n",
       "\n",
       "       neighbourhood_group_Manhattan  neighbourhood_group_Queens  \\\n",
       "39892                            1.0                         0.0   \n",
       "30104                            0.0                         0.0   \n",
       "\n",
       "       neighbourhood_group_Staten Island  room_type_Entire home/apt  \\\n",
       "39892                                0.0                        0.0   \n",
       "30104                                0.0                        0.0   \n",
       "\n",
       "       room_type_Private room  room_type_Shared room   dist2mh  \n",
       "39892                     0.0                    0.0 -0.790957  \n",
       "30104                     0.0                    0.0  0.425429  "
      ]
     },
     "execution_count": 114,
     "metadata": {},
     "output_type": "execute_result"
    }
   ],
   "source": [
    "X_train_rscaled.head(2)"
   ]
  },
  {
   "cell_type": "code",
   "execution_count": 115,
   "metadata": {},
   "outputs": [],
   "source": [
    "# Сделаем это с MinMaxScaler"
   ]
  },
  {
   "cell_type": "code",
   "execution_count": 116,
   "metadata": {},
   "outputs": [],
   "source": [
    "mscaler = MinMaxScaler()\n",
    "\n",
    "X_train_mscaled = X_train.copy()\n",
    "X_test_mscaled = X_test.copy()\n",
    "\n",
    "X_train_mscaled[X_train.columns] = mscaler.fit_transform(X_train)\n",
    "X_test_mscaled[X_train.columns] = mscaler.transform(X_test)\n"
   ]
  },
  {
   "cell_type": "code",
   "execution_count": 117,
   "metadata": {},
   "outputs": [
    {
     "data": {
      "text/html": [
       "<div>\n",
       "<style scoped>\n",
       "    .dataframe tbody tr th:only-of-type {\n",
       "        vertical-align: middle;\n",
       "    }\n",
       "\n",
       "    .dataframe tbody tr th {\n",
       "        vertical-align: top;\n",
       "    }\n",
       "\n",
       "    .dataframe thead th {\n",
       "        text-align: right;\n",
       "    }\n",
       "</style>\n",
       "<table border=\"1\" class=\"dataframe\">\n",
       "  <thead>\n",
       "    <tr style=\"text-align: right;\">\n",
       "      <th></th>\n",
       "      <th>neighbourhood</th>\n",
       "      <th>minimum_nights</th>\n",
       "      <th>number_of_reviews</th>\n",
       "      <th>reviews_per_month</th>\n",
       "      <th>calculated_host_listings_count</th>\n",
       "      <th>availability_365</th>\n",
       "      <th>neighbourhood_group_Bronx</th>\n",
       "      <th>neighbourhood_group_Brooklyn</th>\n",
       "      <th>neighbourhood_group_Manhattan</th>\n",
       "      <th>neighbourhood_group_Queens</th>\n",
       "      <th>neighbourhood_group_Staten Island</th>\n",
       "      <th>room_type_Entire home/apt</th>\n",
       "      <th>room_type_Private room</th>\n",
       "      <th>room_type_Shared room</th>\n",
       "      <th>dist2mh</th>\n",
       "    </tr>\n",
       "  </thead>\n",
       "  <tbody>\n",
       "    <tr>\n",
       "      <th>39892</th>\n",
       "      <td>0.004545</td>\n",
       "      <td>0.000000</td>\n",
       "      <td>0.00159</td>\n",
       "      <td>0.017094</td>\n",
       "      <td>0.833333</td>\n",
       "      <td>1.0</td>\n",
       "      <td>0.0</td>\n",
       "      <td>0.0</td>\n",
       "      <td>1.0</td>\n",
       "      <td>0.0</td>\n",
       "      <td>0.0</td>\n",
       "      <td>1.0</td>\n",
       "      <td>0.0</td>\n",
       "      <td>0.0</td>\n",
       "      <td>0.050520</td>\n",
       "    </tr>\n",
       "    <tr>\n",
       "      <th>30104</th>\n",
       "      <td>0.013636</td>\n",
       "      <td>0.003203</td>\n",
       "      <td>0.00159</td>\n",
       "      <td>0.017094</td>\n",
       "      <td>0.000000</td>\n",
       "      <td>0.0</td>\n",
       "      <td>0.0</td>\n",
       "      <td>1.0</td>\n",
       "      <td>0.0</td>\n",
       "      <td>0.0</td>\n",
       "      <td>0.0</td>\n",
       "      <td>1.0</td>\n",
       "      <td>0.0</td>\n",
       "      <td>0.0</td>\n",
       "      <td>0.237481</td>\n",
       "    </tr>\n",
       "  </tbody>\n",
       "</table>\n",
       "</div>"
      ],
      "text/plain": [
       "       neighbourhood  minimum_nights  number_of_reviews  reviews_per_month  \\\n",
       "39892       0.004545        0.000000            0.00159           0.017094   \n",
       "30104       0.013636        0.003203            0.00159           0.017094   \n",
       "\n",
       "       calculated_host_listings_count  availability_365  \\\n",
       "39892                        0.833333               1.0   \n",
       "30104                        0.000000               0.0   \n",
       "\n",
       "       neighbourhood_group_Bronx  neighbourhood_group_Brooklyn  \\\n",
       "39892                        0.0                           0.0   \n",
       "30104                        0.0                           1.0   \n",
       "\n",
       "       neighbourhood_group_Manhattan  neighbourhood_group_Queens  \\\n",
       "39892                            1.0                         0.0   \n",
       "30104                            0.0                         0.0   \n",
       "\n",
       "       neighbourhood_group_Staten Island  room_type_Entire home/apt  \\\n",
       "39892                                0.0                        1.0   \n",
       "30104                                0.0                        1.0   \n",
       "\n",
       "       room_type_Private room  room_type_Shared room   dist2mh  \n",
       "39892                     0.0                    0.0  0.050520  \n",
       "30104                     0.0                    0.0  0.237481  "
      ]
     },
     "execution_count": 117,
     "metadata": {},
     "output_type": "execute_result"
    }
   ],
   "source": [
    "X_train_mscaled.head(2)"
   ]
  },
  {
   "cell_type": "markdown",
   "metadata": {},
   "source": [
    "## LinearRegression "
   ]
  },
  {
   "cell_type": "code",
   "execution_count": 118,
   "metadata": {},
   "outputs": [],
   "source": [
    "# StandardScaler"
   ]
  },
  {
   "cell_type": "code",
   "execution_count": 119,
   "metadata": {},
   "outputs": [
    {
     "data": {
      "text/plain": [
       "LinearRegression()"
      ]
     },
     "execution_count": 119,
     "metadata": {},
     "output_type": "execute_result"
    }
   ],
   "source": [
    "Lr = LinearRegression()\n",
    "Lr.fit(X_train_scaled, y_train)"
   ]
  },
  {
   "cell_type": "code",
   "execution_count": 120,
   "metadata": {},
   "outputs": [],
   "source": [
    "measured_metrics['Lr'] = dataframe_metrics(y_test, Lr.predict(X_test_scaled))"
   ]
  },
  {
   "cell_type": "code",
   "execution_count": 121,
   "metadata": {},
   "outputs": [
    {
     "data": {
      "text/html": [
       "<div>\n",
       "<style scoped>\n",
       "    .dataframe tbody tr th:only-of-type {\n",
       "        vertical-align: middle;\n",
       "    }\n",
       "\n",
       "    .dataframe tbody tr th {\n",
       "        vertical-align: top;\n",
       "    }\n",
       "\n",
       "    .dataframe thead th {\n",
       "        text-align: right;\n",
       "    }\n",
       "</style>\n",
       "<table border=\"1\" class=\"dataframe\">\n",
       "  <thead>\n",
       "    <tr style=\"text-align: right;\">\n",
       "      <th></th>\n",
       "      <th>error_type</th>\n",
       "      <th>naive_baseline</th>\n",
       "      <th>Lr</th>\n",
       "    </tr>\n",
       "  </thead>\n",
       "  <tbody>\n",
       "    <tr>\n",
       "      <th>0</th>\n",
       "      <td>MAE</td>\n",
       "      <td>85.579095</td>\n",
       "      <td>75.212025</td>\n",
       "    </tr>\n",
       "    <tr>\n",
       "      <th>1</th>\n",
       "      <td>RMSE</td>\n",
       "      <td>249.858292</td>\n",
       "      <td>233.798603</td>\n",
       "    </tr>\n",
       "    <tr>\n",
       "      <th>2</th>\n",
       "      <td>R2</td>\n",
       "      <td>-0.038413</td>\n",
       "      <td>0.090785</td>\n",
       "    </tr>\n",
       "    <tr>\n",
       "      <th>3</th>\n",
       "      <td>MAPE</td>\n",
       "      <td>57.575081</td>\n",
       "      <td>55.588639</td>\n",
       "    </tr>\n",
       "  </tbody>\n",
       "</table>\n",
       "</div>"
      ],
      "text/plain": [
       "  error_type  naive_baseline          Lr\n",
       "0        MAE       85.579095   75.212025\n",
       "1       RMSE      249.858292  233.798603\n",
       "2         R2       -0.038413    0.090785\n",
       "3       MAPE       57.575081   55.588639"
      ]
     },
     "execution_count": 121,
     "metadata": {},
     "output_type": "execute_result"
    }
   ],
   "source": [
    "measured_metrics"
   ]
  },
  {
   "cell_type": "code",
   "execution_count": 122,
   "metadata": {},
   "outputs": [],
   "source": [
    "# Отобразим важность признаков"
   ]
  },
  {
   "cell_type": "code",
   "execution_count": 123,
   "metadata": {},
   "outputs": [
    {
     "data": {
      "image/png": "[encoded data removed]",
      "text/plain": [
       "<Figure size 720x432 with 1 Axes>"
      ]
     },
     "metadata": {
      "needs_background": "light"
     },
     "output_type": "display_data"
    }
   ],
   "source": [
    "featureImportance = pd.DataFrame({\"feature\": X_train.columns[Lr.coef_!=0], \n",
    "                                  \"importance\": Lr.coef_[Lr.coef_!=0]})\n",
    "\n",
    "featureImportance.set_index('feature', inplace=True)\n",
    "featureImportance.sort_values([\"importance\"], ascending=False, inplace=True)\n",
    "featureImportance[\"importance\"].plot(kind='bar', figsize=(10, 6));"
   ]
  },
  {
   "cell_type": "code",
   "execution_count": 124,
   "metadata": {},
   "outputs": [],
   "source": [
    "## Похоже,линейная регрессия не справилась,судя по графику"
   ]
  },
  {
   "cell_type": "code",
   "execution_count": 125,
   "metadata": {},
   "outputs": [],
   "source": [
    "# RobustScaler"
   ]
  },
  {
   "cell_type": "code",
   "execution_count": 126,
   "metadata": {},
   "outputs": [
    {
     "data": {
      "text/plain": [
       "LinearRegression()"
      ]
     },
     "execution_count": 126,
     "metadata": {},
     "output_type": "execute_result"
    }
   ],
   "source": [
    "Lr = LinearRegression()\n",
    "Lr.fit(X_train_rscaled, y_train)"
   ]
  },
  {
   "cell_type": "code",
   "execution_count": 127,
   "metadata": {},
   "outputs": [],
   "source": [
    "measured_metrics['Lr'] = dataframe_metrics(y_test, Lr.predict(X_test_rscaled))"
   ]
  },
  {
   "cell_type": "code",
   "execution_count": 128,
   "metadata": {},
   "outputs": [
    {
     "data": {
      "text/html": [
       "<div>\n",
       "<style scoped>\n",
       "    .dataframe tbody tr th:only-of-type {\n",
       "        vertical-align: middle;\n",
       "    }\n",
       "\n",
       "    .dataframe tbody tr th {\n",
       "        vertical-align: top;\n",
       "    }\n",
       "\n",
       "    .dataframe thead th {\n",
       "        text-align: right;\n",
       "    }\n",
       "</style>\n",
       "<table border=\"1\" class=\"dataframe\">\n",
       "  <thead>\n",
       "    <tr style=\"text-align: right;\">\n",
       "      <th></th>\n",
       "      <th>error_type</th>\n",
       "      <th>naive_baseline</th>\n",
       "      <th>Lr</th>\n",
       "    </tr>\n",
       "  </thead>\n",
       "  <tbody>\n",
       "    <tr>\n",
       "      <th>0</th>\n",
       "      <td>MAE</td>\n",
       "      <td>85.579095</td>\n",
       "      <td>75.237109</td>\n",
       "    </tr>\n",
       "    <tr>\n",
       "      <th>1</th>\n",
       "      <td>RMSE</td>\n",
       "      <td>249.858292</td>\n",
       "      <td>233.791420</td>\n",
       "    </tr>\n",
       "    <tr>\n",
       "      <th>2</th>\n",
       "      <td>R2</td>\n",
       "      <td>-0.038413</td>\n",
       "      <td>0.090841</td>\n",
       "    </tr>\n",
       "    <tr>\n",
       "      <th>3</th>\n",
       "      <td>MAPE</td>\n",
       "      <td>57.575081</td>\n",
       "      <td>55.483700</td>\n",
       "    </tr>\n",
       "  </tbody>\n",
       "</table>\n",
       "</div>"
      ],
      "text/plain": [
       "  error_type  naive_baseline          Lr\n",
       "0        MAE       85.579095   75.237109\n",
       "1       RMSE      249.858292  233.791420\n",
       "2         R2       -0.038413    0.090841\n",
       "3       MAPE       57.575081   55.483700"
      ]
     },
     "execution_count": 128,
     "metadata": {},
     "output_type": "execute_result"
    }
   ],
   "source": [
    "measured_metrics"
   ]
  },
  {
   "cell_type": "code",
   "execution_count": 129,
   "metadata": {},
   "outputs": [],
   "source": [
    "# MinMaxScaler"
   ]
  },
  {
   "cell_type": "code",
   "execution_count": 130,
   "metadata": {},
   "outputs": [
    {
     "data": {
      "text/plain": [
       "LinearRegression()"
      ]
     },
     "execution_count": 130,
     "metadata": {},
     "output_type": "execute_result"
    }
   ],
   "source": [
    "Lr = LinearRegression()\n",
    "Lr.fit(X_train_mscaled, y_train)"
   ]
  },
  {
   "cell_type": "code",
   "execution_count": 131,
   "metadata": {},
   "outputs": [],
   "source": [
    "measured_metrics['Lr'] = dataframe_metrics(y_test, Lr.predict(X_test_mscaled))"
   ]
  },
  {
   "cell_type": "code",
   "execution_count": 132,
   "metadata": {},
   "outputs": [
    {
     "data": {
      "text/html": [
       "<div>\n",
       "<style scoped>\n",
       "    .dataframe tbody tr th:only-of-type {\n",
       "        vertical-align: middle;\n",
       "    }\n",
       "\n",
       "    .dataframe tbody tr th {\n",
       "        vertical-align: top;\n",
       "    }\n",
       "\n",
       "    .dataframe thead th {\n",
       "        text-align: right;\n",
       "    }\n",
       "</style>\n",
       "<table border=\"1\" class=\"dataframe\">\n",
       "  <thead>\n",
       "    <tr style=\"text-align: right;\">\n",
       "      <th></th>\n",
       "      <th>error_type</th>\n",
       "      <th>naive_baseline</th>\n",
       "      <th>Lr</th>\n",
       "    </tr>\n",
       "  </thead>\n",
       "  <tbody>\n",
       "    <tr>\n",
       "      <th>0</th>\n",
       "      <td>MAE</td>\n",
       "      <td>85.579095</td>\n",
       "      <td>75.207998</td>\n",
       "    </tr>\n",
       "    <tr>\n",
       "      <th>1</th>\n",
       "      <td>RMSE</td>\n",
       "      <td>249.858292</td>\n",
       "      <td>233.752188</td>\n",
       "    </tr>\n",
       "    <tr>\n",
       "      <th>2</th>\n",
       "      <td>R2</td>\n",
       "      <td>-0.038413</td>\n",
       "      <td>0.091146</td>\n",
       "    </tr>\n",
       "    <tr>\n",
       "      <th>3</th>\n",
       "      <td>MAPE</td>\n",
       "      <td>57.575081</td>\n",
       "      <td>55.603514</td>\n",
       "    </tr>\n",
       "  </tbody>\n",
       "</table>\n",
       "</div>"
      ],
      "text/plain": [
       "  error_type  naive_baseline          Lr\n",
       "0        MAE       85.579095   75.207998\n",
       "1       RMSE      249.858292  233.752188\n",
       "2         R2       -0.038413    0.091146\n",
       "3       MAPE       57.575081   55.603514"
      ]
     },
     "execution_count": 132,
     "metadata": {},
     "output_type": "execute_result"
    }
   ],
   "source": [
    "measured_metrics"
   ]
  },
  {
   "cell_type": "code",
   "execution_count": 133,
   "metadata": {},
   "outputs": [],
   "source": [
    "# Получше,но тоже не очень,видно,что все 3 метода шкалирования с нашим датафреймом работают почти одинаково\n",
    "# остановимся на StandardScaler"
   ]
  },
  {
   "cell_type": "markdown",
   "metadata": {},
   "source": [
    "## LassoCV"
   ]
  },
  {
   "cell_type": "code",
   "execution_count": 134,
   "metadata": {},
   "outputs": [
    {
     "data": {
      "text/html": [
       "<div>\n",
       "<style scoped>\n",
       "    .dataframe tbody tr th:only-of-type {\n",
       "        vertical-align: middle;\n",
       "    }\n",
       "\n",
       "    .dataframe tbody tr th {\n",
       "        vertical-align: top;\n",
       "    }\n",
       "\n",
       "    .dataframe thead th {\n",
       "        text-align: right;\n",
       "    }\n",
       "</style>\n",
       "<table border=\"1\" class=\"dataframe\">\n",
       "  <thead>\n",
       "    <tr style=\"text-align: right;\">\n",
       "      <th></th>\n",
       "      <th>error_type</th>\n",
       "      <th>naive_baseline</th>\n",
       "      <th>Lr</th>\n",
       "      <th>Ls</th>\n",
       "    </tr>\n",
       "  </thead>\n",
       "  <tbody>\n",
       "    <tr>\n",
       "      <th>0</th>\n",
       "      <td>MAE</td>\n",
       "      <td>85.579095</td>\n",
       "      <td>75.207998</td>\n",
       "      <td>75.168203</td>\n",
       "    </tr>\n",
       "    <tr>\n",
       "      <th>1</th>\n",
       "      <td>RMSE</td>\n",
       "      <td>249.858292</td>\n",
       "      <td>233.752188</td>\n",
       "      <td>233.798333</td>\n",
       "    </tr>\n",
       "    <tr>\n",
       "      <th>2</th>\n",
       "      <td>R2</td>\n",
       "      <td>-0.038413</td>\n",
       "      <td>0.091146</td>\n",
       "      <td>0.090787</td>\n",
       "    </tr>\n",
       "    <tr>\n",
       "      <th>3</th>\n",
       "      <td>MAPE</td>\n",
       "      <td>57.575081</td>\n",
       "      <td>55.603514</td>\n",
       "      <td>55.401948</td>\n",
       "    </tr>\n",
       "  </tbody>\n",
       "</table>\n",
       "</div>"
      ],
      "text/plain": [
       "  error_type  naive_baseline          Lr          Ls\n",
       "0        MAE       85.579095   75.207998   75.168203\n",
       "1       RMSE      249.858292  233.752188  233.798333\n",
       "2         R2       -0.038413    0.091146    0.090787\n",
       "3       MAPE       57.575081   55.603514   55.401948"
      ]
     },
     "execution_count": 134,
     "metadata": {},
     "output_type": "execute_result"
    }
   ],
   "source": [
    "Ls = LassoCV()\n",
    "Ls.fit(X_train_scaled, y_train)\n",
    "measured_metrics['Ls'] = dataframe_metrics(y_test, Ls.predict(X_test_scaled))\n",
    "measured_metrics"
   ]
  },
  {
   "cell_type": "code",
   "execution_count": 135,
   "metadata": {},
   "outputs": [
    {
     "data": {
      "image/png": "[encoded data removed]",
      "text/plain": [
       "<Figure size 720x432 with 1 Axes>"
      ]
     },
     "metadata": {
      "needs_background": "light"
     },
     "output_type": "display_data"
    }
   ],
   "source": [
    "featureImportance = pd.DataFrame({\"feature\": X_train.columns[Ls.coef_!=0], \n",
    "                                  \"importance\": Ls.coef_[Ls.coef_!=0]})\n",
    "\n",
    "featureImportance.set_index('feature', inplace=True)\n",
    "featureImportance.sort_values([\"importance\"], ascending=False, inplace=True)\n",
    "featureImportance[\"importance\"].plot(kind='bar', figsize=(10, 6));"
   ]
  },
  {
   "cell_type": "code",
   "execution_count": 136,
   "metadata": {},
   "outputs": [],
   "source": [
    "# На Лассо тоже не очень хорошие показатели,но график больше походит на правильный"
   ]
  },
  {
   "cell_type": "markdown",
   "metadata": {},
   "source": [
    "## RidgeCV"
   ]
  },
  {
   "cell_type": "code",
   "execution_count": 137,
   "metadata": {},
   "outputs": [
    {
     "data": {
      "text/html": [
       "<div>\n",
       "<style scoped>\n",
       "    .dataframe tbody tr th:only-of-type {\n",
       "        vertical-align: middle;\n",
       "    }\n",
       "\n",
       "    .dataframe tbody tr th {\n",
       "        vertical-align: top;\n",
       "    }\n",
       "\n",
       "    .dataframe thead th {\n",
       "        text-align: right;\n",
       "    }\n",
       "</style>\n",
       "<table border=\"1\" class=\"dataframe\">\n",
       "  <thead>\n",
       "    <tr style=\"text-align: right;\">\n",
       "      <th></th>\n",
       "      <th>error_type</th>\n",
       "      <th>naive_baseline</th>\n",
       "      <th>Lr</th>\n",
       "      <th>Ls</th>\n",
       "      <th>ridge</th>\n",
       "    </tr>\n",
       "  </thead>\n",
       "  <tbody>\n",
       "    <tr>\n",
       "      <th>0</th>\n",
       "      <td>MAE</td>\n",
       "      <td>85.579095</td>\n",
       "      <td>75.207998</td>\n",
       "      <td>75.168203</td>\n",
       "      <td>75.234547</td>\n",
       "    </tr>\n",
       "    <tr>\n",
       "      <th>1</th>\n",
       "      <td>RMSE</td>\n",
       "      <td>249.858292</td>\n",
       "      <td>233.752188</td>\n",
       "      <td>233.798333</td>\n",
       "      <td>233.791567</td>\n",
       "    </tr>\n",
       "    <tr>\n",
       "      <th>2</th>\n",
       "      <td>R2</td>\n",
       "      <td>-0.038413</td>\n",
       "      <td>0.091146</td>\n",
       "      <td>0.090787</td>\n",
       "      <td>0.090840</td>\n",
       "    </tr>\n",
       "    <tr>\n",
       "      <th>3</th>\n",
       "      <td>MAPE</td>\n",
       "      <td>57.575081</td>\n",
       "      <td>55.603514</td>\n",
       "      <td>55.401948</td>\n",
       "      <td>55.481648</td>\n",
       "    </tr>\n",
       "  </tbody>\n",
       "</table>\n",
       "</div>"
      ],
      "text/plain": [
       "  error_type  naive_baseline          Lr          Ls       ridge\n",
       "0        MAE       85.579095   75.207998   75.168203   75.234547\n",
       "1       RMSE      249.858292  233.752188  233.798333  233.791567\n",
       "2         R2       -0.038413    0.091146    0.090787    0.090840\n",
       "3       MAPE       57.575081   55.603514   55.401948   55.481648"
      ]
     },
     "execution_count": 137,
     "metadata": {},
     "output_type": "execute_result"
    }
   ],
   "source": [
    "ridge = RidgeCV()\n",
    "ridge.fit(X_train_scaled, y_train)\n",
    "measured_metrics['ridge'] = dataframe_metrics(y_test, ridge.predict(X_test_scaled))\n",
    "measured_metrics"
   ]
  },
  {
   "cell_type": "code",
   "execution_count": 138,
   "metadata": {},
   "outputs": [
    {
     "data": {
      "image/png": "[encoded data removed]",
      "text/plain": [
       "<Figure size 720x432 with 1 Axes>"
      ]
     },
     "metadata": {
      "needs_background": "light"
     },
     "output_type": "display_data"
    }
   ],
   "source": [
    "featureImportance = pd.DataFrame({\"feature\": X_train.columns[ridge.coef_!=0], \n",
    "                                  \"importance\": ridge.coef_[ridge.coef_!=0]})\n",
    "\n",
    "featureImportance.set_index('feature', inplace=True)\n",
    "featureImportance.sort_values([\"importance\"], ascending=False, inplace=True)\n",
    "featureImportance[\"importance\"].plot(kind='bar', figsize=(10, 6));"
   ]
  },
  {
   "cell_type": "code",
   "execution_count": 139,
   "metadata": {},
   "outputs": [],
   "source": [
    "# Практически те же результаты"
   ]
  },
  {
   "cell_type": "markdown",
   "metadata": {},
   "source": [
    "## ElasticNetCV"
   ]
  },
  {
   "cell_type": "code",
   "execution_count": 140,
   "metadata": {},
   "outputs": [
    {
     "data": {
      "text/html": [
       "<div>\n",
       "<style scoped>\n",
       "    .dataframe tbody tr th:only-of-type {\n",
       "        vertical-align: middle;\n",
       "    }\n",
       "\n",
       "    .dataframe tbody tr th {\n",
       "        vertical-align: top;\n",
       "    }\n",
       "\n",
       "    .dataframe thead th {\n",
       "        text-align: right;\n",
       "    }\n",
       "</style>\n",
       "<table border=\"1\" class=\"dataframe\">\n",
       "  <thead>\n",
       "    <tr style=\"text-align: right;\">\n",
       "      <th></th>\n",
       "      <th>error_type</th>\n",
       "      <th>naive_baseline</th>\n",
       "      <th>Lr</th>\n",
       "      <th>Ls</th>\n",
       "      <th>ridge</th>\n",
       "      <th>elastic</th>\n",
       "    </tr>\n",
       "  </thead>\n",
       "  <tbody>\n",
       "    <tr>\n",
       "      <th>0</th>\n",
       "      <td>MAE</td>\n",
       "      <td>85.579095</td>\n",
       "      <td>75.207998</td>\n",
       "      <td>75.168203</td>\n",
       "      <td>75.234547</td>\n",
       "      <td>74.767767</td>\n",
       "    </tr>\n",
       "    <tr>\n",
       "      <th>1</th>\n",
       "      <td>RMSE</td>\n",
       "      <td>249.858292</td>\n",
       "      <td>233.752188</td>\n",
       "      <td>233.798333</td>\n",
       "      <td>233.791567</td>\n",
       "      <td>233.841553</td>\n",
       "    </tr>\n",
       "    <tr>\n",
       "      <th>2</th>\n",
       "      <td>R2</td>\n",
       "      <td>-0.038413</td>\n",
       "      <td>0.091146</td>\n",
       "      <td>0.090787</td>\n",
       "      <td>0.090840</td>\n",
       "      <td>0.090451</td>\n",
       "    </tr>\n",
       "    <tr>\n",
       "      <th>3</th>\n",
       "      <td>MAPE</td>\n",
       "      <td>57.575081</td>\n",
       "      <td>55.603514</td>\n",
       "      <td>55.401948</td>\n",
       "      <td>55.481648</td>\n",
       "      <td>55.186342</td>\n",
       "    </tr>\n",
       "  </tbody>\n",
       "</table>\n",
       "</div>"
      ],
      "text/plain": [
       "  error_type  naive_baseline          Lr          Ls       ridge     elastic\n",
       "0        MAE       85.579095   75.207998   75.168203   75.234547   74.767767\n",
       "1       RMSE      249.858292  233.752188  233.798333  233.791567  233.841553\n",
       "2         R2       -0.038413    0.091146    0.090787    0.090840    0.090451\n",
       "3       MAPE       57.575081   55.603514   55.401948   55.481648   55.186342"
      ]
     },
     "execution_count": 140,
     "metadata": {},
     "output_type": "execute_result"
    }
   ],
   "source": [
    "elastic = ElasticNetCV()\n",
    "elastic.fit(X_train_scaled, y_train)\n",
    "measured_metrics['elastic'] = dataframe_metrics(y_test, elastic.predict(X_test_scaled))\n",
    "measured_metrics"
   ]
  },
  {
   "cell_type": "code",
   "execution_count": 141,
   "metadata": {},
   "outputs": [
    {
     "data": {
      "image/png": "[encoded data removed]",
      "text/plain": [
       "<Figure size 720x432 with 1 Axes>"
      ]
     },
     "metadata": {
      "needs_background": "light"
     },
     "output_type": "display_data"
    }
   ],
   "source": [
    "featureImportance = pd.DataFrame({\"feature\": X_train.columns[elastic.coef_!=0], \n",
    "                                  \"importance\": elastic.coef_[elastic.coef_!=0]})\n",
    "\n",
    "featureImportance.set_index('feature', inplace=True)\n",
    "featureImportance.sort_values([\"importance\"], ascending=False, inplace=True)\n",
    "featureImportance[\"importance\"].plot(kind='bar', figsize=(10, 6));"
   ]
  },
  {
   "cell_type": "code",
   "execution_count": null,
   "metadata": {},
   "outputs": [],
   "source": [
    "Из всего вышепоказанного можно сделать след. выводы:\n",
    "    1.Все модели дали не очень хорошие результаты, видимо следует использовать методы мне пока неизвестные,\n",
    "      но чуть лучше показала себя Lasso регрессия.\n",
    "    2. Три признака наиболее влияют на цену: отдельное жильё, срок аренды и близость к Манхэттену"
   ]
  }
 ],
 "metadata": {
  "kernelspec": {
   "display_name": "Python 3",
   "language": "python",
   "name": "python3"
  },
  "language_info": {
   "codemirror_mode": {
    "name": "ipython",
    "version": 3
   },
   "file_extension": ".py",
   "mimetype": "text/x-python",
   "name": "python",
   "nbconvert_exporter": "python",
   "pygments_lexer": "ipython3",
   "version": "3.8.3"
  }
 },
 "nbformat": 4,
 "nbformat_minor": 4
}
