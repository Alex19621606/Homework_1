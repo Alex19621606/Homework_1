{
 "cells": [
  {
   "cell_type": "code",
   "execution_count": 125,
   "metadata": {},
   "outputs": [],
   "source": [
    "import pandas as pd\n",
    "import numpy as np\n",
    "import seaborn as sns\n",
    "import matplotlib.pyplot as plt\n",
    "from sklearn.model_selection import train_test_split\n",
    "from sklearn.preprocessing import StandardScaler\n",
    "import category_encoders as ce\n",
    "import warnings\n",
    "warnings.filterwarnings(\"ignore\")\n",
    "from sklearn.metrics import accuracy_score, precision_score, recall_score, f1_score\n",
    "\n",
    "\n",
    "%matplotlib inline"
   ]
  },
  {
   "cell_type": "code",
   "execution_count": 126,
   "metadata": {},
   "outputs": [],
   "source": [
    "def quality_report(prediction, actual):\n",
    "    print(\"Accuracy: {:.3f}\\nPrecision: {:.3f}\\nRecall: {:.3f}\\nf1_score: {:.3f}\".format(\n",
    "        accuracy_score(prediction, actual),\n",
    "        precision_score(prediction, actual),\n",
    "        recall_score(prediction, actual),\n",
    "        f1_score(prediction, actual)\n",
    "    ))"
   ]
  },
  {
   "cell_type": "markdown",
   "metadata": {},
   "source": [
    "## Задача - спрогнозировать отток пользователей в будущем  компании Telco"
   ]
  },
  {
   "cell_type": "code",
   "execution_count": 127,
   "metadata": {},
   "outputs": [
    {
     "data": {
      "text/html": [
       "<div>\n",
       "<style scoped>\n",
       "    .dataframe tbody tr th:only-of-type {\n",
       "        vertical-align: middle;\n",
       "    }\n",
       "\n",
       "    .dataframe tbody tr th {\n",
       "        vertical-align: top;\n",
       "    }\n",
       "\n",
       "    .dataframe thead th {\n",
       "        text-align: right;\n",
       "    }\n",
       "</style>\n",
       "<table border=\"1\" class=\"dataframe\">\n",
       "  <thead>\n",
       "    <tr style=\"text-align: right;\">\n",
       "      <th></th>\n",
       "      <th>customerID</th>\n",
       "      <th>gender</th>\n",
       "      <th>SeniorCitizen</th>\n",
       "      <th>Partner</th>\n",
       "      <th>Dependents</th>\n",
       "      <th>tenure</th>\n",
       "      <th>PhoneService</th>\n",
       "      <th>MultipleLines</th>\n",
       "      <th>InternetService</th>\n",
       "      <th>OnlineSecurity</th>\n",
       "      <th>...</th>\n",
       "      <th>DeviceProtection</th>\n",
       "      <th>TechSupport</th>\n",
       "      <th>StreamingTV</th>\n",
       "      <th>StreamingMovies</th>\n",
       "      <th>Contract</th>\n",
       "      <th>PaperlessBilling</th>\n",
       "      <th>PaymentMethod</th>\n",
       "      <th>MonthlyCharges</th>\n",
       "      <th>TotalCharges</th>\n",
       "      <th>Churn</th>\n",
       "    </tr>\n",
       "  </thead>\n",
       "  <tbody>\n",
       "    <tr>\n",
       "      <th>0</th>\n",
       "      <td>7590-VHVEG</td>\n",
       "      <td>Female</td>\n",
       "      <td>0</td>\n",
       "      <td>Yes</td>\n",
       "      <td>No</td>\n",
       "      <td>1</td>\n",
       "      <td>No</td>\n",
       "      <td>No phone service</td>\n",
       "      <td>DSL</td>\n",
       "      <td>No</td>\n",
       "      <td>...</td>\n",
       "      <td>No</td>\n",
       "      <td>No</td>\n",
       "      <td>No</td>\n",
       "      <td>No</td>\n",
       "      <td>Month-to-month</td>\n",
       "      <td>Yes</td>\n",
       "      <td>Electronic check</td>\n",
       "      <td>29.85</td>\n",
       "      <td>29.85</td>\n",
       "      <td>No</td>\n",
       "    </tr>\n",
       "    <tr>\n",
       "      <th>1</th>\n",
       "      <td>5575-GNVDE</td>\n",
       "      <td>Male</td>\n",
       "      <td>0</td>\n",
       "      <td>No</td>\n",
       "      <td>No</td>\n",
       "      <td>34</td>\n",
       "      <td>Yes</td>\n",
       "      <td>No</td>\n",
       "      <td>DSL</td>\n",
       "      <td>Yes</td>\n",
       "      <td>...</td>\n",
       "      <td>Yes</td>\n",
       "      <td>No</td>\n",
       "      <td>No</td>\n",
       "      <td>No</td>\n",
       "      <td>One year</td>\n",
       "      <td>No</td>\n",
       "      <td>Mailed check</td>\n",
       "      <td>56.95</td>\n",
       "      <td>1889.5</td>\n",
       "      <td>No</td>\n",
       "    </tr>\n",
       "    <tr>\n",
       "      <th>2</th>\n",
       "      <td>3668-QPYBK</td>\n",
       "      <td>Male</td>\n",
       "      <td>0</td>\n",
       "      <td>No</td>\n",
       "      <td>No</td>\n",
       "      <td>2</td>\n",
       "      <td>Yes</td>\n",
       "      <td>No</td>\n",
       "      <td>DSL</td>\n",
       "      <td>Yes</td>\n",
       "      <td>...</td>\n",
       "      <td>No</td>\n",
       "      <td>No</td>\n",
       "      <td>No</td>\n",
       "      <td>No</td>\n",
       "      <td>Month-to-month</td>\n",
       "      <td>Yes</td>\n",
       "      <td>Mailed check</td>\n",
       "      <td>53.85</td>\n",
       "      <td>108.15</td>\n",
       "      <td>Yes</td>\n",
       "    </tr>\n",
       "    <tr>\n",
       "      <th>3</th>\n",
       "      <td>7795-CFOCW</td>\n",
       "      <td>Male</td>\n",
       "      <td>0</td>\n",
       "      <td>No</td>\n",
       "      <td>No</td>\n",
       "      <td>45</td>\n",
       "      <td>No</td>\n",
       "      <td>No phone service</td>\n",
       "      <td>DSL</td>\n",
       "      <td>Yes</td>\n",
       "      <td>...</td>\n",
       "      <td>Yes</td>\n",
       "      <td>Yes</td>\n",
       "      <td>No</td>\n",
       "      <td>No</td>\n",
       "      <td>One year</td>\n",
       "      <td>No</td>\n",
       "      <td>Bank transfer (automatic)</td>\n",
       "      <td>42.30</td>\n",
       "      <td>1840.75</td>\n",
       "      <td>No</td>\n",
       "    </tr>\n",
       "    <tr>\n",
       "      <th>4</th>\n",
       "      <td>9237-HQITU</td>\n",
       "      <td>Female</td>\n",
       "      <td>0</td>\n",
       "      <td>No</td>\n",
       "      <td>No</td>\n",
       "      <td>2</td>\n",
       "      <td>Yes</td>\n",
       "      <td>No</td>\n",
       "      <td>Fiber optic</td>\n",
       "      <td>No</td>\n",
       "      <td>...</td>\n",
       "      <td>No</td>\n",
       "      <td>No</td>\n",
       "      <td>No</td>\n",
       "      <td>No</td>\n",
       "      <td>Month-to-month</td>\n",
       "      <td>Yes</td>\n",
       "      <td>Electronic check</td>\n",
       "      <td>70.70</td>\n",
       "      <td>151.65</td>\n",
       "      <td>Yes</td>\n",
       "    </tr>\n",
       "  </tbody>\n",
       "</table>\n",
       "<p>5 rows × 21 columns</p>\n",
       "</div>"
      ],
      "text/plain": [
       "   customerID  gender  SeniorCitizen Partner Dependents  tenure PhoneService  \\\n",
       "0  7590-VHVEG  Female              0     Yes         No       1           No   \n",
       "1  5575-GNVDE    Male              0      No         No      34          Yes   \n",
       "2  3668-QPYBK    Male              0      No         No       2          Yes   \n",
       "3  7795-CFOCW    Male              0      No         No      45           No   \n",
       "4  9237-HQITU  Female              0      No         No       2          Yes   \n",
       "\n",
       "      MultipleLines InternetService OnlineSecurity  ... DeviceProtection  \\\n",
       "0  No phone service             DSL             No  ...               No   \n",
       "1                No             DSL            Yes  ...              Yes   \n",
       "2                No             DSL            Yes  ...               No   \n",
       "3  No phone service             DSL            Yes  ...              Yes   \n",
       "4                No     Fiber optic             No  ...               No   \n",
       "\n",
       "  TechSupport StreamingTV StreamingMovies        Contract PaperlessBilling  \\\n",
       "0          No          No              No  Month-to-month              Yes   \n",
       "1          No          No              No        One year               No   \n",
       "2          No          No              No  Month-to-month              Yes   \n",
       "3         Yes          No              No        One year               No   \n",
       "4          No          No              No  Month-to-month              Yes   \n",
       "\n",
       "               PaymentMethod MonthlyCharges  TotalCharges Churn  \n",
       "0           Electronic check          29.85         29.85    No  \n",
       "1               Mailed check          56.95        1889.5    No  \n",
       "2               Mailed check          53.85        108.15   Yes  \n",
       "3  Bank transfer (automatic)          42.30       1840.75    No  \n",
       "4           Electronic check          70.70        151.65   Yes  \n",
       "\n",
       "[5 rows x 21 columns]"
      ]
     },
     "execution_count": 127,
     "metadata": {},
     "output_type": "execute_result"
    }
   ],
   "source": [
    "df = pd.read_csv('E:/Data/Telco-Customer-Churn.csv')\n",
    "df.head()"
   ]
  },
  {
   "cell_type": "code",
   "execution_count": 128,
   "metadata": {},
   "outputs": [
    {
     "data": {
      "text/plain": [
       "Index(['customerID', 'gender', 'SeniorCitizen', 'Partner', 'Dependents',\n",
       "       'tenure', 'PhoneService', 'MultipleLines', 'InternetService',\n",
       "       'OnlineSecurity', 'OnlineBackup', 'DeviceProtection', 'TechSupport',\n",
       "       'StreamingTV', 'StreamingMovies', 'Contract', 'PaperlessBilling',\n",
       "       'PaymentMethod', 'MonthlyCharges', 'TotalCharges', 'Churn'],\n",
       "      dtype='object')"
      ]
     },
     "execution_count": 128,
     "metadata": {},
     "output_type": "execute_result"
    }
   ],
   "source": [
    "df.columns"
   ]
  },
  {
   "cell_type": "code",
   "execution_count": 129,
   "metadata": {},
   "outputs": [
    {
     "data": {
      "text/plain": [
       "(7043, 21)"
      ]
     },
     "execution_count": 129,
     "metadata": {},
     "output_type": "execute_result"
    }
   ],
   "source": [
    "df.shape"
   ]
  },
  {
   "cell_type": "code",
   "execution_count": 130,
   "metadata": {},
   "outputs": [],
   "source": [
    "# Имеем 7043 строки и 21 столбец"
   ]
  },
  {
   "cell_type": "code",
   "execution_count": 131,
   "metadata": {},
   "outputs": [],
   "source": [
    "# Удалим параметр 'customerID'"
   ]
  },
  {
   "cell_type": "code",
   "execution_count": 132,
   "metadata": {},
   "outputs": [],
   "source": [
    "df.drop(['customerID'], axis=1, inplace=True)"
   ]
  },
  {
   "cell_type": "code",
   "execution_count": 133,
   "metadata": {},
   "outputs": [
    {
     "name": "stdout",
     "output_type": "stream",
     "text": [
      "<class 'pandas.core.frame.DataFrame'>\n",
      "RangeIndex: 7043 entries, 0 to 7042\n",
      "Data columns (total 20 columns):\n",
      " #   Column            Non-Null Count  Dtype  \n",
      "---  ------            --------------  -----  \n",
      " 0   gender            7043 non-null   object \n",
      " 1   SeniorCitizen     7043 non-null   int64  \n",
      " 2   Partner           7043 non-null   object \n",
      " 3   Dependents        7043 non-null   object \n",
      " 4   tenure            7043 non-null   int64  \n",
      " 5   PhoneService      7043 non-null   object \n",
      " 6   MultipleLines     7043 non-null   object \n",
      " 7   InternetService   7043 non-null   object \n",
      " 8   OnlineSecurity    7043 non-null   object \n",
      " 9   OnlineBackup      7043 non-null   object \n",
      " 10  DeviceProtection  7043 non-null   object \n",
      " 11  TechSupport       7043 non-null   object \n",
      " 12  StreamingTV       7043 non-null   object \n",
      " 13  StreamingMovies   7043 non-null   object \n",
      " 14  Contract          7043 non-null   object \n",
      " 15  PaperlessBilling  7043 non-null   object \n",
      " 16  PaymentMethod     7043 non-null   object \n",
      " 17  MonthlyCharges    7043 non-null   float64\n",
      " 18  TotalCharges      7043 non-null   object \n",
      " 19  Churn             7043 non-null   object \n",
      "dtypes: float64(1), int64(2), object(17)\n",
      "memory usage: 1.1+ MB\n"
     ]
    }
   ],
   "source": [
    "df.info()"
   ]
  },
  {
   "cell_type": "code",
   "execution_count": 134,
   "metadata": {},
   "outputs": [],
   "source": [
    "## Проверим,есть ли дубликаты"
   ]
  },
  {
   "cell_type": "code",
   "execution_count": 135,
   "metadata": {},
   "outputs": [
    {
     "data": {
      "text/plain": [
       "False    7021\n",
       "True       22\n",
       "dtype: int64"
      ]
     },
     "execution_count": 135,
     "metadata": {},
     "output_type": "execute_result"
    }
   ],
   "source": [
    "df.duplicated().value_counts()"
   ]
  },
  {
   "cell_type": "code",
   "execution_count": 136,
   "metadata": {},
   "outputs": [],
   "source": [
    "## Дубликатов нет"
   ]
  },
  {
   "cell_type": "code",
   "execution_count": 137,
   "metadata": {},
   "outputs": [],
   "source": [
    "## Проверим наличие пропусков в датафрейме"
   ]
  },
  {
   "cell_type": "code",
   "execution_count": 138,
   "metadata": {},
   "outputs": [
    {
     "data": {
      "text/plain": [
       "gender              0\n",
       "SeniorCitizen       0\n",
       "Partner             0\n",
       "Dependents          0\n",
       "tenure              0\n",
       "PhoneService        0\n",
       "MultipleLines       0\n",
       "InternetService     0\n",
       "OnlineSecurity      0\n",
       "OnlineBackup        0\n",
       "DeviceProtection    0\n",
       "TechSupport         0\n",
       "StreamingTV         0\n",
       "StreamingMovies     0\n",
       "Contract            0\n",
       "PaperlessBilling    0\n",
       "PaymentMethod       0\n",
       "MonthlyCharges      0\n",
       "TotalCharges        0\n",
       "Churn               0\n",
       "dtype: int64"
      ]
     },
     "execution_count": 138,
     "metadata": {},
     "output_type": "execute_result"
    }
   ],
   "source": [
    "df.isnull().sum() "
   ]
  },
  {
   "cell_type": "markdown",
   "metadata": {},
   "source": [
    "## Целевая переменная"
   ]
  },
  {
   "cell_type": "markdown",
   "metadata": {},
   "source": [
    "## Churn"
   ]
  },
  {
   "cell_type": "code",
   "execution_count": 139,
   "metadata": {},
   "outputs": [
    {
     "data": {
      "image/png": "[encoded data removed]",
      "text/plain": [
       "<Figure size 432x288 with 1 Axes>"
      ]
     },
     "metadata": {
      "needs_background": "light"
     },
     "output_type": "display_data"
    }
   ],
   "source": [
    "df['Churn'].value_counts().plot.bar(figsize=(6, 4))\n",
    "plt.grid(axis='y')"
   ]
  },
  {
   "cell_type": "code",
   "execution_count": 140,
   "metadata": {},
   "outputs": [
    {
     "data": {
      "text/plain": [
       "No     0.73463\n",
       "Yes    0.26537\n",
       "Name: Churn, dtype: float64"
      ]
     },
     "execution_count": 140,
     "metadata": {},
     "output_type": "execute_result"
    }
   ],
   "source": [
    "df['Churn'].value_counts(normalize=True)"
   ]
  },
  {
   "cell_type": "code",
   "execution_count": 141,
   "metadata": {},
   "outputs": [],
   "source": [
    "# Видим, что отток пользователей 26.5%"
   ]
  },
  {
   "cell_type": "markdown",
   "metadata": {},
   "source": [
    "## gender"
   ]
  },
  {
   "cell_type": "code",
   "execution_count": 142,
   "metadata": {},
   "outputs": [
    {
     "data": {
      "image/png": "[encoded data removed]",
      "text/plain": [
       "<Figure size 432x288 with 1 Axes>"
      ]
     },
     "metadata": {
      "needs_background": "light"
     },
     "output_type": "display_data"
    }
   ],
   "source": [
    "df['gender'].value_counts().plot.bar(figsize=(6, 4))\n",
    "plt.grid(axis='y')"
   ]
  },
  {
   "cell_type": "code",
   "execution_count": 143,
   "metadata": {},
   "outputs": [
    {
     "data": {
      "text/plain": [
       "Male      3555\n",
       "Female    3488\n",
       "Name: gender, dtype: int64"
      ]
     },
     "execution_count": 143,
     "metadata": {},
     "output_type": "execute_result"
    }
   ],
   "source": [
    "df['gender'].value_counts()"
   ]
  },
  {
   "cell_type": "code",
   "execution_count": 144,
   "metadata": {},
   "outputs": [
    {
     "data": {
      "text/plain": [
       "Male      0.504756\n",
       "Female    0.495244\n",
       "Name: gender, dtype: float64"
      ]
     },
     "execution_count": 144,
     "metadata": {},
     "output_type": "execute_result"
    }
   ],
   "source": [
    "df['gender'].value_counts(normalize=True)"
   ]
  },
  {
   "cell_type": "markdown",
   "metadata": {},
   "source": [
    "## SeniorCitizen"
   ]
  },
  {
   "cell_type": "code",
   "execution_count": 145,
   "metadata": {},
   "outputs": [],
   "source": [
    "# Является ли арендатор пенсионером или нет"
   ]
  },
  {
   "cell_type": "code",
   "execution_count": 146,
   "metadata": {},
   "outputs": [
    {
     "data": {
      "text/plain": [
       "0    5901\n",
       "1    1142\n",
       "Name: SeniorCitizen, dtype: int64"
      ]
     },
     "execution_count": 146,
     "metadata": {},
     "output_type": "execute_result"
    }
   ],
   "source": [
    "df['SeniorCitizen'].value_counts()"
   ]
  },
  {
   "cell_type": "markdown",
   "metadata": {},
   "source": [
    "## Partner"
   ]
  },
  {
   "cell_type": "code",
   "execution_count": 147,
   "metadata": {},
   "outputs": [
    {
     "data": {
      "text/plain": [
       "No     3641\n",
       "Yes    3402\n",
       "Name: Partner, dtype: int64"
      ]
     },
     "execution_count": 147,
     "metadata": {},
     "output_type": "execute_result"
    }
   ],
   "source": [
    "df['Partner'].value_counts()"
   ]
  },
  {
   "cell_type": "markdown",
   "metadata": {},
   "source": [
    "## Dependents"
   ]
  },
  {
   "cell_type": "code",
   "execution_count": 148,
   "metadata": {},
   "outputs": [
    {
     "data": {
      "text/plain": [
       "No     4933\n",
       "Yes    2110\n",
       "Name: Dependents, dtype: int64"
      ]
     },
     "execution_count": 148,
     "metadata": {},
     "output_type": "execute_result"
    }
   ],
   "source": [
    "df['Dependents'].value_counts()"
   ]
  },
  {
   "cell_type": "markdown",
   "metadata": {},
   "source": [
    "## PhoneService"
   ]
  },
  {
   "cell_type": "code",
   "execution_count": 149,
   "metadata": {},
   "outputs": [
    {
     "data": {
      "text/plain": [
       "Yes    6361\n",
       "No      682\n",
       "Name: PhoneService, dtype: int64"
      ]
     },
     "execution_count": 149,
     "metadata": {},
     "output_type": "execute_result"
    }
   ],
   "source": [
    "df['PhoneService'].value_counts()"
   ]
  },
  {
   "cell_type": "markdown",
   "metadata": {},
   "source": [
    "## MultipleLines "
   ]
  },
  {
   "cell_type": "code",
   "execution_count": 150,
   "metadata": {},
   "outputs": [
    {
     "data": {
      "text/plain": [
       "No                  3390\n",
       "Yes                 2971\n",
       "No phone service     682\n",
       "Name: MultipleLines, dtype: int64"
      ]
     },
     "execution_count": 150,
     "metadata": {},
     "output_type": "execute_result"
    }
   ],
   "source": [
    "df['MultipleLines'].value_counts()"
   ]
  },
  {
   "cell_type": "markdown",
   "metadata": {},
   "source": [
    "## OnlineSecurity"
   ]
  },
  {
   "cell_type": "code",
   "execution_count": 151,
   "metadata": {},
   "outputs": [
    {
     "data": {
      "text/plain": [
       "No                     3498\n",
       "Yes                    2019\n",
       "No internet service    1526\n",
       "Name: OnlineSecurity, dtype: int64"
      ]
     },
     "execution_count": 151,
     "metadata": {},
     "output_type": "execute_result"
    }
   ],
   "source": [
    "df['OnlineSecurity'].value_counts()"
   ]
  },
  {
   "cell_type": "markdown",
   "metadata": {},
   "source": [
    "## OnlineBackup"
   ]
  },
  {
   "cell_type": "code",
   "execution_count": 152,
   "metadata": {},
   "outputs": [
    {
     "data": {
      "text/plain": [
       "No                     3088\n",
       "Yes                    2429\n",
       "No internet service    1526\n",
       "Name: OnlineBackup, dtype: int64"
      ]
     },
     "execution_count": 152,
     "metadata": {},
     "output_type": "execute_result"
    }
   ],
   "source": [
    "df['OnlineBackup'].value_counts()"
   ]
  },
  {
   "cell_type": "markdown",
   "metadata": {},
   "source": [
    "## DeviceProtection"
   ]
  },
  {
   "cell_type": "code",
   "execution_count": 153,
   "metadata": {},
   "outputs": [
    {
     "data": {
      "text/plain": [
       "No                     3095\n",
       "Yes                    2422\n",
       "No internet service    1526\n",
       "Name: DeviceProtection, dtype: int64"
      ]
     },
     "execution_count": 153,
     "metadata": {},
     "output_type": "execute_result"
    }
   ],
   "source": [
    "df['DeviceProtection'].value_counts()"
   ]
  },
  {
   "cell_type": "markdown",
   "metadata": {},
   "source": [
    "## TechSupport"
   ]
  },
  {
   "cell_type": "code",
   "execution_count": 154,
   "metadata": {},
   "outputs": [
    {
     "data": {
      "text/plain": [
       "No                     3473\n",
       "Yes                    2044\n",
       "No internet service    1526\n",
       "Name: TechSupport, dtype: int64"
      ]
     },
     "execution_count": 154,
     "metadata": {},
     "output_type": "execute_result"
    }
   ],
   "source": [
    "df['TechSupport'].value_counts()"
   ]
  },
  {
   "cell_type": "markdown",
   "metadata": {},
   "source": [
    "## InternetService"
   ]
  },
  {
   "cell_type": "code",
   "execution_count": 155,
   "metadata": {},
   "outputs": [
    {
     "data": {
      "text/plain": [
       "Fiber optic    3096\n",
       "DSL            2421\n",
       "No             1526\n",
       "Name: InternetService, dtype: int64"
      ]
     },
     "execution_count": 155,
     "metadata": {},
     "output_type": "execute_result"
    }
   ],
   "source": [
    "df['InternetService'].value_counts()"
   ]
  },
  {
   "cell_type": "markdown",
   "metadata": {},
   "source": [
    "## StreamingTV"
   ]
  },
  {
   "cell_type": "code",
   "execution_count": 156,
   "metadata": {},
   "outputs": [
    {
     "data": {
      "text/plain": [
       "No                     2810\n",
       "Yes                    2707\n",
       "No internet service    1526\n",
       "Name: StreamingTV, dtype: int64"
      ]
     },
     "execution_count": 156,
     "metadata": {},
     "output_type": "execute_result"
    }
   ],
   "source": [
    "df['StreamingTV'].value_counts()"
   ]
  },
  {
   "cell_type": "markdown",
   "metadata": {},
   "source": [
    "## StreamingMovies"
   ]
  },
  {
   "cell_type": "code",
   "execution_count": 157,
   "metadata": {},
   "outputs": [
    {
     "data": {
      "text/plain": [
       "No                     2785\n",
       "Yes                    2732\n",
       "No internet service    1526\n",
       "Name: StreamingMovies, dtype: int64"
      ]
     },
     "execution_count": 157,
     "metadata": {},
     "output_type": "execute_result"
    }
   ],
   "source": [
    "df['StreamingMovies'].value_counts()"
   ]
  },
  {
   "cell_type": "markdown",
   "metadata": {},
   "source": [
    "## Contract"
   ]
  },
  {
   "cell_type": "code",
   "execution_count": 158,
   "metadata": {},
   "outputs": [
    {
     "data": {
      "text/plain": [
       "Month-to-month    3875\n",
       "Two year          1695\n",
       "One year          1473\n",
       "Name: Contract, dtype: int64"
      ]
     },
     "execution_count": 158,
     "metadata": {},
     "output_type": "execute_result"
    }
   ],
   "source": [
    "df['Contract'].value_counts()"
   ]
  },
  {
   "cell_type": "markdown",
   "metadata": {},
   "source": [
    "## PaperlessBilling"
   ]
  },
  {
   "cell_type": "code",
   "execution_count": 159,
   "metadata": {},
   "outputs": [
    {
     "data": {
      "text/plain": [
       "Yes    4171\n",
       "No     2872\n",
       "Name: PaperlessBilling, dtype: int64"
      ]
     },
     "execution_count": 159,
     "metadata": {},
     "output_type": "execute_result"
    }
   ],
   "source": [
    "df['PaperlessBilling'].value_counts()"
   ]
  },
  {
   "cell_type": "markdown",
   "metadata": {},
   "source": [
    "## PaymentMethod"
   ]
  },
  {
   "cell_type": "code",
   "execution_count": 160,
   "metadata": {},
   "outputs": [
    {
     "data": {
      "text/plain": [
       "Electronic check             2365\n",
       "Mailed check                 1612\n",
       "Bank transfer (automatic)    1544\n",
       "Credit card (automatic)      1522\n",
       "Name: PaymentMethod, dtype: int64"
      ]
     },
     "execution_count": 160,
     "metadata": {},
     "output_type": "execute_result"
    }
   ],
   "source": [
    "df['PaymentMethod'].value_counts()"
   ]
  },
  {
   "cell_type": "code",
   "execution_count": 161,
   "metadata": {},
   "outputs": [],
   "source": [
    "# У нас всего 3 колонки с числовыми данными,рассмотрим их "
   ]
  },
  {
   "cell_type": "markdown",
   "metadata": {},
   "source": [
    "## tenure"
   ]
  },
  {
   "cell_type": "code",
   "execution_count": 162,
   "metadata": {},
   "outputs": [],
   "source": [
    "# Количество месяцев пребывания клиента в компании"
   ]
  },
  {
   "cell_type": "code",
   "execution_count": 163,
   "metadata": {},
   "outputs": [
    {
     "data": {
      "text/plain": [
       "1     613\n",
       "72    362\n",
       "2     238\n",
       "3     200\n",
       "4     176\n",
       "     ... \n",
       "28     57\n",
       "39     56\n",
       "44     51\n",
       "36     50\n",
       "0      11\n",
       "Name: tenure, Length: 73, dtype: int64"
      ]
     },
     "execution_count": 163,
     "metadata": {},
     "output_type": "execute_result"
    }
   ],
   "source": [
    "df['tenure'].value_counts()"
   ]
  },
  {
   "cell_type": "code",
   "execution_count": 164,
   "metadata": {},
   "outputs": [
    {
     "data": {
      "text/plain": [
       "<matplotlib.axes._subplots.AxesSubplot at 0xdc45527940>"
      ]
     },
     "execution_count": 164,
     "metadata": {},
     "output_type": "execute_result"
    },
    {
     "data": {
      "image/png": "[encoded data removed]",
      "text/plain": [
       "<Figure size 432x288 with 1 Axes>"
      ]
     },
     "metadata": {
      "needs_background": "light"
     },
     "output_type": "display_data"
    }
   ],
   "source": [
    "df['tenure'].plot.box()"
   ]
  },
  {
   "cell_type": "code",
   "execution_count": 165,
   "metadata": {},
   "outputs": [],
   "source": [
    "# Выбросов нет"
   ]
  },
  {
   "cell_type": "markdown",
   "metadata": {},
   "source": [
    "## MonthlyCharges"
   ]
  },
  {
   "cell_type": "code",
   "execution_count": 166,
   "metadata": {},
   "outputs": [
    {
     "data": {
      "text/plain": [
       "20.05     61\n",
       "19.85     45\n",
       "19.95     44\n",
       "19.90     44\n",
       "20.00     43\n",
       "          ..\n",
       "114.75     1\n",
       "103.60     1\n",
       "113.40     1\n",
       "57.65      1\n",
       "113.30     1\n",
       "Name: MonthlyCharges, Length: 1585, dtype: int64"
      ]
     },
     "execution_count": 166,
     "metadata": {},
     "output_type": "execute_result"
    }
   ],
   "source": [
    "df['MonthlyCharges'].value_counts()"
   ]
  },
  {
   "cell_type": "code",
   "execution_count": 167,
   "metadata": {},
   "outputs": [
    {
     "data": {
      "image/png": "[encoded data removed]",
      "text/plain": [
       "<Figure size 432x288 with 1 Axes>"
      ]
     },
     "metadata": {
      "needs_background": "light"
     },
     "output_type": "display_data"
    }
   ],
   "source": [
    "df['MonthlyCharges'].hist()\n",
    "sns.despine()\n",
    "plt.show()"
   ]
  },
  {
   "cell_type": "code",
   "execution_count": 168,
   "metadata": {},
   "outputs": [
    {
     "data": {
      "text/plain": [
       "<matplotlib.axes._subplots.AxesSubplot at 0xdc45583ca0>"
      ]
     },
     "execution_count": 168,
     "metadata": {},
     "output_type": "execute_result"
    },
    {
     "data": {
      "image/png": "[encoded data removed]",
      "text/plain": [
       "<Figure size 432x288 with 1 Axes>"
      ]
     },
     "metadata": {
      "needs_background": "light"
     },
     "output_type": "display_data"
    }
   ],
   "source": [
    "df['MonthlyCharges'].plot.box()"
   ]
  },
  {
   "cell_type": "code",
   "execution_count": 169,
   "metadata": {},
   "outputs": [
    {
     "data": {
      "image/png": "[encoded data removed]",
      "text/plain": [
       "<Figure size 360x360 with 1 Axes>"
      ]
     },
     "metadata": {
      "needs_background": "light"
     },
     "output_type": "display_data"
    }
   ],
   "source": [
    "g = sns.factorplot(x=\"Churn\", y = \"MonthlyCharges\",data = df, kind=\"box\")"
   ]
  },
  {
   "cell_type": "code",
   "execution_count": 170,
   "metadata": {},
   "outputs": [],
   "source": [
    "# Выбросов также нет"
   ]
  },
  {
   "cell_type": "markdown",
   "metadata": {},
   "source": [
    "## TotalCharges"
   ]
  },
  {
   "cell_type": "code",
   "execution_count": 171,
   "metadata": {},
   "outputs": [
    {
     "data": {
      "text/plain": [
       "20.2       11\n",
       "           11\n",
       "19.75       9\n",
       "19.9        8\n",
       "19.65       8\n",
       "           ..\n",
       "5886.85     1\n",
       "1767.35     1\n",
       "3145.15     1\n",
       "4451.85     1\n",
       "315.3       1\n",
       "Name: TotalCharges, Length: 6531, dtype: int64"
      ]
     },
     "execution_count": 171,
     "metadata": {},
     "output_type": "execute_result"
    }
   ],
   "source": [
    "df['TotalCharges'].value_counts()"
   ]
  },
  {
   "cell_type": "code",
   "execution_count": 172,
   "metadata": {},
   "outputs": [],
   "source": [
    "# Видим пропущенные значения, их всего 1.5% . Удалим их"
   ]
  },
  {
   "cell_type": "code",
   "execution_count": 173,
   "metadata": {},
   "outputs": [],
   "source": [
    "df = df[df['TotalCharges'] != ' ']\n"
   ]
  },
  {
   "cell_type": "code",
   "execution_count": 174,
   "metadata": {},
   "outputs": [],
   "source": [
    "# Перевожу значения 'TotalCharges' в числовые т.к. в них содержались ' '"
   ]
  },
  {
   "cell_type": "code",
   "execution_count": 175,
   "metadata": {},
   "outputs": [],
   "source": [
    "df['TotalCharges'] = pd.to_numeric(df['TotalCharges'])"
   ]
  },
  {
   "cell_type": "code",
   "execution_count": 176,
   "metadata": {},
   "outputs": [
    {
     "data": {
      "text/plain": [
       "20.20      11\n",
       "19.75       9\n",
       "19.65       8\n",
       "20.05       8\n",
       "19.90       8\n",
       "           ..\n",
       "1066.15     1\n",
       "249.95      1\n",
       "8333.95     1\n",
       "7171.70     1\n",
       "1024.00     1\n",
       "Name: TotalCharges, Length: 6530, dtype: int64"
      ]
     },
     "execution_count": 176,
     "metadata": {},
     "output_type": "execute_result"
    }
   ],
   "source": [
    "df['TotalCharges'].value_counts()"
   ]
  },
  {
   "cell_type": "code",
   "execution_count": 177,
   "metadata": {},
   "outputs": [
    {
     "data": {
      "text/plain": [
       "<matplotlib.axes._subplots.AxesSubplot at 0xdc456bc7f0>"
      ]
     },
     "execution_count": 177,
     "metadata": {},
     "output_type": "execute_result"
    },
    {
     "data": {
      "image/png": "[encoded data removed]",
      "text/plain": [
       "<Figure size 432x288 with 1 Axes>"
      ]
     },
     "metadata": {
      "needs_background": "light"
     },
     "output_type": "display_data"
    }
   ],
   "source": [
    "df['TotalCharges'].plot.box()"
   ]
  },
  {
   "cell_type": "code",
   "execution_count": 178,
   "metadata": {},
   "outputs": [
    {
     "data": {
      "image/png": "[encoded data removed]",
      "text/plain": [
       "<Figure size 360x360 with 1 Axes>"
      ]
     },
     "metadata": {
      "needs_background": "light"
     },
     "output_type": "display_data"
    }
   ],
   "source": [
    "g = sns.factorplot(x=\"Churn\", y = \"TotalCharges\",data = df, kind=\"box\")"
   ]
  },
  {
   "cell_type": "code",
   "execution_count": 179,
   "metadata": {},
   "outputs": [],
   "source": [
    "# Проверим на выбросы"
   ]
  },
  {
   "cell_type": "code",
   "execution_count": 180,
   "metadata": {},
   "outputs": [],
   "source": [
    "def outlier_detect_IQR(data, col, threshold=3):   \n",
    "    \n",
    "    IQR = df[col].quantile(0.75) - data[col].quantile(0.25)\n",
    "    Lower_fence = data[col].quantile(0.25) - (IQR * threshold)\n",
    "    Upper_fence = data[col].quantile(0.75) + (IQR * threshold)\n",
    "    params = (Upper_fence, Lower_fence)\n",
    "    tmp = pd.concat([data[col] > Upper_fence, data[col] < Lower_fence], axis=1)\n",
    "    outlier_index = tmp.any(axis=1)\n",
    "    ovc = outlier_index.value_counts()\n",
    "    if len(ovc) == 1:\n",
    "        print('Выбросов нет')\n",
    "    else:\n",
    "        outlier_count = outlier_index.value_counts()[1]\n",
    "        print('Количество выбросов в данных:', outlier_count)\n",
    "        print('Доля выбросов:', f'{(100 * outlier_count / len(outlier_index)):.2f}%')\n",
    "        print('Верхняя граница:', Upper_fence, '\\nНижняя граница:', Lower_fence)\n",
    "    return outlier_index, params"
   ]
  },
  {
   "cell_type": "code",
   "execution_count": 181,
   "metadata": {},
   "outputs": [
    {
     "name": "stdout",
     "output_type": "stream",
     "text": [
      "Выбросов нет\n",
      "Верхняя граница: 13974.600000000002 \n",
      "Нижняя граница: -9778.4125\n"
     ]
    }
   ],
   "source": [
    "index, params = outlier_detect_IQR(data=df, col='TotalCharges', threshold=3)\n",
    "print('Верхняя граница:', params[0], '\\nНижняя граница:', params[1])"
   ]
  },
  {
   "cell_type": "code",
   "execution_count": 182,
   "metadata": {},
   "outputs": [
    {
     "data": {
      "image/png": "[encoded data removed]",
      "text/plain": [
       "<Figure size 576x432 with 4 Axes>"
      ]
     },
     "metadata": {
      "needs_background": "light"
     },
     "output_type": "display_data"
    }
   ],
   "source": [
    "df[['TotalCharges', 'MonthlyCharges', 'tenure']].hist(figsize=(8, 6));"
   ]
  },
  {
   "cell_type": "code",
   "execution_count": 183,
   "metadata": {},
   "outputs": [
    {
     "data": {
      "image/png": "[encoded data removed]",
      "text/plain": [
       "<Figure size 592x540 with 12 Axes>"
      ]
     },
     "metadata": {
      "needs_background": "light"
     },
     "output_type": "display_data"
    }
   ],
   "source": [
    "sns.pairplot(df[['TotalCharges', 'MonthlyCharges', 'tenure', 'Churn']], hue='Churn');"
   ]
  },
  {
   "cell_type": "markdown",
   "metadata": {},
   "source": [
    "## Корреляция"
   ]
  },
  {
   "cell_type": "code",
   "execution_count": 184,
   "metadata": {},
   "outputs": [],
   "source": [
    "corr = df[['TotalCharges', 'MonthlyCharges', 'tenure']].corr()"
   ]
  },
  {
   "cell_type": "code",
   "execution_count": 185,
   "metadata": {},
   "outputs": [],
   "source": [
    "mask = np.triu(np.ones_like(corr, dtype=bool))"
   ]
  },
  {
   "cell_type": "code",
   "execution_count": 186,
   "metadata": {},
   "outputs": [
    {
     "data": {
      "image/png": "[encoded data removed]",
      "text/plain": [
       "<Figure size 576x432 with 2 Axes>"
      ]
     },
     "metadata": {
      "needs_background": "light"
     },
     "output_type": "display_data"
    }
   ],
   "source": [
    "plt.figure(figsize=(8,6))\n",
    "sns.heatmap(corr, mask=mask, annot=True, fmt='.2f');"
   ]
  },
  {
   "cell_type": "code",
   "execution_count": 187,
   "metadata": {},
   "outputs": [],
   "source": [
    "# Есть сильная корреляция и нет выбросов,уже неплохо. "
   ]
  },
  {
   "cell_type": "code",
   "execution_count": 188,
   "metadata": {},
   "outputs": [],
   "source": [
    "df2 = df"
   ]
  },
  {
   "cell_type": "code",
   "execution_count": 189,
   "metadata": {},
   "outputs": [
    {
     "data": {
      "text/html": [
       "<div>\n",
       "<style scoped>\n",
       "    .dataframe tbody tr th:only-of-type {\n",
       "        vertical-align: middle;\n",
       "    }\n",
       "\n",
       "    .dataframe tbody tr th {\n",
       "        vertical-align: top;\n",
       "    }\n",
       "\n",
       "    .dataframe thead th {\n",
       "        text-align: right;\n",
       "    }\n",
       "</style>\n",
       "<table border=\"1\" class=\"dataframe\">\n",
       "  <thead>\n",
       "    <tr style=\"text-align: right;\">\n",
       "      <th></th>\n",
       "      <th>gender</th>\n",
       "      <th>SeniorCitizen</th>\n",
       "      <th>Partner</th>\n",
       "      <th>Dependents</th>\n",
       "      <th>tenure</th>\n",
       "      <th>PhoneService</th>\n",
       "      <th>MultipleLines</th>\n",
       "      <th>InternetService</th>\n",
       "      <th>OnlineSecurity</th>\n",
       "      <th>OnlineBackup</th>\n",
       "      <th>DeviceProtection</th>\n",
       "      <th>TechSupport</th>\n",
       "      <th>StreamingTV</th>\n",
       "      <th>StreamingMovies</th>\n",
       "      <th>Contract</th>\n",
       "      <th>PaperlessBilling</th>\n",
       "      <th>PaymentMethod</th>\n",
       "      <th>MonthlyCharges</th>\n",
       "      <th>TotalCharges</th>\n",
       "      <th>Churn</th>\n",
       "    </tr>\n",
       "  </thead>\n",
       "  <tbody>\n",
       "    <tr>\n",
       "      <th>0</th>\n",
       "      <td>Female</td>\n",
       "      <td>0</td>\n",
       "      <td>Yes</td>\n",
       "      <td>No</td>\n",
       "      <td>1</td>\n",
       "      <td>No</td>\n",
       "      <td>No phone service</td>\n",
       "      <td>DSL</td>\n",
       "      <td>No</td>\n",
       "      <td>Yes</td>\n",
       "      <td>No</td>\n",
       "      <td>No</td>\n",
       "      <td>No</td>\n",
       "      <td>No</td>\n",
       "      <td>Month-to-month</td>\n",
       "      <td>Yes</td>\n",
       "      <td>Electronic check</td>\n",
       "      <td>29.85</td>\n",
       "      <td>29.85</td>\n",
       "      <td>No</td>\n",
       "    </tr>\n",
       "    <tr>\n",
       "      <th>1</th>\n",
       "      <td>Male</td>\n",
       "      <td>0</td>\n",
       "      <td>No</td>\n",
       "      <td>No</td>\n",
       "      <td>34</td>\n",
       "      <td>Yes</td>\n",
       "      <td>No</td>\n",
       "      <td>DSL</td>\n",
       "      <td>Yes</td>\n",
       "      <td>No</td>\n",
       "      <td>Yes</td>\n",
       "      <td>No</td>\n",
       "      <td>No</td>\n",
       "      <td>No</td>\n",
       "      <td>One year</td>\n",
       "      <td>No</td>\n",
       "      <td>Mailed check</td>\n",
       "      <td>56.95</td>\n",
       "      <td>1889.50</td>\n",
       "      <td>No</td>\n",
       "    </tr>\n",
       "  </tbody>\n",
       "</table>\n",
       "</div>"
      ],
      "text/plain": [
       "   gender  SeniorCitizen Partner Dependents  tenure PhoneService  \\\n",
       "0  Female              0     Yes         No       1           No   \n",
       "1    Male              0      No         No      34          Yes   \n",
       "\n",
       "      MultipleLines InternetService OnlineSecurity OnlineBackup  \\\n",
       "0  No phone service             DSL             No          Yes   \n",
       "1                No             DSL            Yes           No   \n",
       "\n",
       "  DeviceProtection TechSupport StreamingTV StreamingMovies        Contract  \\\n",
       "0               No          No          No              No  Month-to-month   \n",
       "1              Yes          No          No              No        One year   \n",
       "\n",
       "  PaperlessBilling     PaymentMethod  MonthlyCharges  TotalCharges Churn  \n",
       "0              Yes  Electronic check           29.85         29.85    No  \n",
       "1               No      Mailed check           56.95       1889.50    No  "
      ]
     },
     "execution_count": 189,
     "metadata": {},
     "output_type": "execute_result"
    }
   ],
   "source": [
    "df2.head(2)"
   ]
  },
  {
   "cell_type": "markdown",
   "metadata": {},
   "source": [
    "## Кодирую категориальные данные"
   ]
  },
  {
   "cell_type": "code",
   "execution_count": 190,
   "metadata": {},
   "outputs": [],
   "source": [
    "df2 = pd.get_dummies(data=df2, columns=['gender'])"
   ]
  },
  {
   "cell_type": "code",
   "execution_count": 191,
   "metadata": {},
   "outputs": [],
   "source": [
    "from sklearn.preprocessing import LabelEncoder"
   ]
  },
  {
   "cell_type": "code",
   "execution_count": 192,
   "metadata": {},
   "outputs": [],
   "source": [
    "le = LabelEncoder()"
   ]
  },
  {
   "cell_type": "code",
   "execution_count": 193,
   "metadata": {},
   "outputs": [],
   "source": [
    "df2['Churn'] = le.fit_transform(df2['Churn'])"
   ]
  },
  {
   "cell_type": "code",
   "execution_count": 194,
   "metadata": {},
   "outputs": [],
   "source": [
    "df2['Partner'] = le.fit_transform(df2['Partner'])\n",
    "                                "
   ]
  },
  {
   "cell_type": "code",
   "execution_count": 195,
   "metadata": {},
   "outputs": [],
   "source": [
    "df2['Dependents'] = le.fit_transform(df2['Dependents'])\n",
    "                                "
   ]
  },
  {
   "cell_type": "code",
   "execution_count": 196,
   "metadata": {},
   "outputs": [],
   "source": [
    "df2['PaperlessBilling'] = le.fit_transform(df2['PaperlessBilling'])\n",
    "                                "
   ]
  },
  {
   "cell_type": "code",
   "execution_count": 197,
   "metadata": {},
   "outputs": [],
   "source": [
    "df2['PhoneService'] = le.fit_transform(df2['PhoneService'])\n",
    "                                "
   ]
  },
  {
   "cell_type": "code",
   "execution_count": 198,
   "metadata": {},
   "outputs": [
    {
     "data": {
      "text/plain": [
       "No                  3385\n",
       "Yes                 2967\n",
       "No phone service     680\n",
       "Name: MultipleLines, dtype: int64"
      ]
     },
     "execution_count": 198,
     "metadata": {},
     "output_type": "execute_result"
    }
   ],
   "source": [
    "df['MultipleLines'].value_counts()"
   ]
  },
  {
   "cell_type": "code",
   "execution_count": 199,
   "metadata": {},
   "outputs": [],
   "source": [
    "# Здесь 3 значения,но уже есть значение No phone service в колонке PhoneService\n",
    "# поэтому эти значения переведём в No"
   ]
  },
  {
   "cell_type": "code",
   "execution_count": 200,
   "metadata": {},
   "outputs": [
    {
     "data": {
      "text/plain": [
       "0    4065\n",
       "1    2967\n",
       "Name: MultipleLines, dtype: int64"
      ]
     },
     "execution_count": 200,
     "metadata": {},
     "output_type": "execute_result"
    }
   ],
   "source": [
    "df2['MultipleLines'].replace('No phone service','No', inplace=True)\n",
    "df2['MultipleLines'] = le.fit_transform(df2['MultipleLines'])\n",
    "df2['MultipleLines'].value_counts()"
   ]
  },
  {
   "cell_type": "code",
   "execution_count": 201,
   "metadata": {},
   "outputs": [
    {
     "data": {
      "text/plain": [
       "Fiber optic    3096\n",
       "DSL            2416\n",
       "No             1520\n",
       "Name: InternetService, dtype: int64"
      ]
     },
     "execution_count": 201,
     "metadata": {},
     "output_type": "execute_result"
    }
   ],
   "source": [
    "df['InternetService'].value_counts()"
   ]
  },
  {
   "cell_type": "code",
   "execution_count": 202,
   "metadata": {},
   "outputs": [],
   "source": [
    "# Создам отдельную колонку- есть интернет или нет"
   ]
  },
  {
   "cell_type": "code",
   "execution_count": 203,
   "metadata": {},
   "outputs": [],
   "source": [
    "df2['Has_InternetService'] = df2['InternetService'].map(lambda s :0  if s =='No' else 1)\n",
    "df2['Fiber_optic'] = df2['InternetService'].map(lambda s :1  if s =='Fiber optic' else 0)\n",
    "df2['DSL'] = df2['InternetService'].map(lambda s :1  if s =='DSL' else 0)\n",
    "df2.drop(['InternetService'], axis=1, inplace=True)"
   ]
  },
  {
   "cell_type": "code",
   "execution_count": 204,
   "metadata": {},
   "outputs": [
    {
     "data": {
      "text/plain": [
       "1    5512\n",
       "0    1520\n",
       "Name: Has_InternetService, dtype: int64"
      ]
     },
     "execution_count": 204,
     "metadata": {},
     "output_type": "execute_result"
    }
   ],
   "source": [
    "df2['Has_InternetService'].value_counts()"
   ]
  },
  {
   "cell_type": "code",
   "execution_count": 205,
   "metadata": {},
   "outputs": [
    {
     "data": {
      "text/plain": [
       "0    3936\n",
       "1    3096\n",
       "Name: Fiber_optic, dtype: int64"
      ]
     },
     "execution_count": 205,
     "metadata": {},
     "output_type": "execute_result"
    }
   ],
   "source": [
    "df2['Fiber_optic'].value_counts()"
   ]
  },
  {
   "cell_type": "code",
   "execution_count": 206,
   "metadata": {},
   "outputs": [
    {
     "data": {
      "text/plain": [
       "0    4616\n",
       "1    2416\n",
       "Name: DSL, dtype: int64"
      ]
     },
     "execution_count": 206,
     "metadata": {},
     "output_type": "execute_result"
    }
   ],
   "source": [
    "df2['DSL'].value_counts()"
   ]
  },
  {
   "cell_type": "code",
   "execution_count": 207,
   "metadata": {},
   "outputs": [],
   "source": [
    "# Со следующими колонками проделаем то же,т.к.они имеют такой же формат"
   ]
  },
  {
   "cell_type": "code",
   "execution_count": 208,
   "metadata": {},
   "outputs": [],
   "source": [
    "df2['OnlineSecurity'] = df2['OnlineSecurity'].map(lambda s :1  if s =='Yes' else 0)"
   ]
  },
  {
   "cell_type": "code",
   "execution_count": 209,
   "metadata": {},
   "outputs": [],
   "source": [
    "df2['OnlineBackup'] = df2['OnlineBackup'].map(lambda s :1  if s =='Yes' else 0)"
   ]
  },
  {
   "cell_type": "code",
   "execution_count": 210,
   "metadata": {},
   "outputs": [],
   "source": [
    "df2['DeviceProtection'] = df2['DeviceProtection'].map(lambda s :1  if s =='Yes' else 0)"
   ]
  },
  {
   "cell_type": "code",
   "execution_count": 211,
   "metadata": {},
   "outputs": [],
   "source": [
    "df2['TechSupport'] = df2['TechSupport'].map(lambda s :1  if s =='Yes' else 0)"
   ]
  },
  {
   "cell_type": "code",
   "execution_count": 212,
   "metadata": {},
   "outputs": [],
   "source": [
    "df2['StreamingTV'] = df2['StreamingTV'].map(lambda s :1  if s =='Yes' else 0)"
   ]
  },
  {
   "cell_type": "code",
   "execution_count": 213,
   "metadata": {},
   "outputs": [],
   "source": [
    "df2['StreamingMovies'] = df2['StreamingMovies'].map(lambda s :1  if s =='Yes' else 0)"
   ]
  },
  {
   "cell_type": "code",
   "execution_count": 214,
   "metadata": {},
   "outputs": [],
   "source": [
    "# К остальным колонкам применим get_dummies"
   ]
  },
  {
   "cell_type": "code",
   "execution_count": 215,
   "metadata": {},
   "outputs": [],
   "source": [
    "df2 = pd.get_dummies(data=df2, columns=['PaymentMethod'])"
   ]
  },
  {
   "cell_type": "code",
   "execution_count": 216,
   "metadata": {},
   "outputs": [],
   "source": [
    "df2 = pd.get_dummies(data=df2, columns=['Contract'])"
   ]
  },
  {
   "cell_type": "code",
   "execution_count": 217,
   "metadata": {},
   "outputs": [
    {
     "data": {
      "text/html": [
       "<div>\n",
       "<style scoped>\n",
       "    .dataframe tbody tr th:only-of-type {\n",
       "        vertical-align: middle;\n",
       "    }\n",
       "\n",
       "    .dataframe tbody tr th {\n",
       "        vertical-align: top;\n",
       "    }\n",
       "\n",
       "    .dataframe thead th {\n",
       "        text-align: right;\n",
       "    }\n",
       "</style>\n",
       "<table border=\"1\" class=\"dataframe\">\n",
       "  <thead>\n",
       "    <tr style=\"text-align: right;\">\n",
       "      <th></th>\n",
       "      <th>SeniorCitizen</th>\n",
       "      <th>Partner</th>\n",
       "      <th>Dependents</th>\n",
       "      <th>tenure</th>\n",
       "      <th>PhoneService</th>\n",
       "      <th>MultipleLines</th>\n",
       "      <th>OnlineSecurity</th>\n",
       "      <th>OnlineBackup</th>\n",
       "      <th>DeviceProtection</th>\n",
       "      <th>TechSupport</th>\n",
       "      <th>...</th>\n",
       "      <th>Has_InternetService</th>\n",
       "      <th>Fiber_optic</th>\n",
       "      <th>DSL</th>\n",
       "      <th>PaymentMethod_Bank transfer (automatic)</th>\n",
       "      <th>PaymentMethod_Credit card (automatic)</th>\n",
       "      <th>PaymentMethod_Electronic check</th>\n",
       "      <th>PaymentMethod_Mailed check</th>\n",
       "      <th>Contract_Month-to-month</th>\n",
       "      <th>Contract_One year</th>\n",
       "      <th>Contract_Two year</th>\n",
       "    </tr>\n",
       "  </thead>\n",
       "  <tbody>\n",
       "    <tr>\n",
       "      <th>0</th>\n",
       "      <td>0</td>\n",
       "      <td>1</td>\n",
       "      <td>0</td>\n",
       "      <td>1</td>\n",
       "      <td>0</td>\n",
       "      <td>0</td>\n",
       "      <td>0</td>\n",
       "      <td>1</td>\n",
       "      <td>0</td>\n",
       "      <td>0</td>\n",
       "      <td>...</td>\n",
       "      <td>1</td>\n",
       "      <td>0</td>\n",
       "      <td>1</td>\n",
       "      <td>0</td>\n",
       "      <td>0</td>\n",
       "      <td>1</td>\n",
       "      <td>0</td>\n",
       "      <td>1</td>\n",
       "      <td>0</td>\n",
       "      <td>0</td>\n",
       "    </tr>\n",
       "    <tr>\n",
       "      <th>1</th>\n",
       "      <td>0</td>\n",
       "      <td>0</td>\n",
       "      <td>0</td>\n",
       "      <td>34</td>\n",
       "      <td>1</td>\n",
       "      <td>0</td>\n",
       "      <td>1</td>\n",
       "      <td>0</td>\n",
       "      <td>1</td>\n",
       "      <td>0</td>\n",
       "      <td>...</td>\n",
       "      <td>1</td>\n",
       "      <td>0</td>\n",
       "      <td>1</td>\n",
       "      <td>0</td>\n",
       "      <td>0</td>\n",
       "      <td>0</td>\n",
       "      <td>1</td>\n",
       "      <td>0</td>\n",
       "      <td>1</td>\n",
       "      <td>0</td>\n",
       "    </tr>\n",
       "    <tr>\n",
       "      <th>2</th>\n",
       "      <td>0</td>\n",
       "      <td>0</td>\n",
       "      <td>0</td>\n",
       "      <td>2</td>\n",
       "      <td>1</td>\n",
       "      <td>0</td>\n",
       "      <td>1</td>\n",
       "      <td>1</td>\n",
       "      <td>0</td>\n",
       "      <td>0</td>\n",
       "      <td>...</td>\n",
       "      <td>1</td>\n",
       "      <td>0</td>\n",
       "      <td>1</td>\n",
       "      <td>0</td>\n",
       "      <td>0</td>\n",
       "      <td>0</td>\n",
       "      <td>1</td>\n",
       "      <td>1</td>\n",
       "      <td>0</td>\n",
       "      <td>0</td>\n",
       "    </tr>\n",
       "    <tr>\n",
       "      <th>3</th>\n",
       "      <td>0</td>\n",
       "      <td>0</td>\n",
       "      <td>0</td>\n",
       "      <td>45</td>\n",
       "      <td>0</td>\n",
       "      <td>0</td>\n",
       "      <td>1</td>\n",
       "      <td>0</td>\n",
       "      <td>1</td>\n",
       "      <td>1</td>\n",
       "      <td>...</td>\n",
       "      <td>1</td>\n",
       "      <td>0</td>\n",
       "      <td>1</td>\n",
       "      <td>1</td>\n",
       "      <td>0</td>\n",
       "      <td>0</td>\n",
       "      <td>0</td>\n",
       "      <td>0</td>\n",
       "      <td>1</td>\n",
       "      <td>0</td>\n",
       "    </tr>\n",
       "    <tr>\n",
       "      <th>4</th>\n",
       "      <td>0</td>\n",
       "      <td>0</td>\n",
       "      <td>0</td>\n",
       "      <td>2</td>\n",
       "      <td>1</td>\n",
       "      <td>0</td>\n",
       "      <td>0</td>\n",
       "      <td>0</td>\n",
       "      <td>0</td>\n",
       "      <td>0</td>\n",
       "      <td>...</td>\n",
       "      <td>1</td>\n",
       "      <td>1</td>\n",
       "      <td>0</td>\n",
       "      <td>0</td>\n",
       "      <td>0</td>\n",
       "      <td>1</td>\n",
       "      <td>0</td>\n",
       "      <td>1</td>\n",
       "      <td>0</td>\n",
       "      <td>0</td>\n",
       "    </tr>\n",
       "  </tbody>\n",
       "</table>\n",
       "<p>5 rows × 28 columns</p>\n",
       "</div>"
      ],
      "text/plain": [
       "   SeniorCitizen  Partner  Dependents  tenure  PhoneService  MultipleLines  \\\n",
       "0              0        1           0       1             0              0   \n",
       "1              0        0           0      34             1              0   \n",
       "2              0        0           0       2             1              0   \n",
       "3              0        0           0      45             0              0   \n",
       "4              0        0           0       2             1              0   \n",
       "\n",
       "   OnlineSecurity  OnlineBackup  DeviceProtection  TechSupport  ...  \\\n",
       "0               0             1                 0            0  ...   \n",
       "1               1             0                 1            0  ...   \n",
       "2               1             1                 0            0  ...   \n",
       "3               1             0                 1            1  ...   \n",
       "4               0             0                 0            0  ...   \n",
       "\n",
       "   Has_InternetService  Fiber_optic  DSL  \\\n",
       "0                    1            0    1   \n",
       "1                    1            0    1   \n",
       "2                    1            0    1   \n",
       "3                    1            0    1   \n",
       "4                    1            1    0   \n",
       "\n",
       "   PaymentMethod_Bank transfer (automatic)  \\\n",
       "0                                        0   \n",
       "1                                        0   \n",
       "2                                        0   \n",
       "3                                        1   \n",
       "4                                        0   \n",
       "\n",
       "   PaymentMethod_Credit card (automatic)  PaymentMethod_Electronic check  \\\n",
       "0                                      0                               1   \n",
       "1                                      0                               0   \n",
       "2                                      0                               0   \n",
       "3                                      0                               0   \n",
       "4                                      0                               1   \n",
       "\n",
       "   PaymentMethod_Mailed check  Contract_Month-to-month  Contract_One year  \\\n",
       "0                           0                        1                  0   \n",
       "1                           1                        0                  1   \n",
       "2                           1                        1                  0   \n",
       "3                           0                        0                  1   \n",
       "4                           0                        1                  0   \n",
       "\n",
       "   Contract_Two year  \n",
       "0                  0  \n",
       "1                  0  \n",
       "2                  0  \n",
       "3                  0  \n",
       "4                  0  \n",
       "\n",
       "[5 rows x 28 columns]"
      ]
     },
     "execution_count": 217,
     "metadata": {},
     "output_type": "execute_result"
    }
   ],
   "source": [
    "df2.head()"
   ]
  },
  {
   "cell_type": "markdown",
   "metadata": {},
   "source": [
    "## ML-задача классификации"
   ]
  },
  {
   "cell_type": "code",
   "execution_count": 218,
   "metadata": {},
   "outputs": [],
   "source": [
    "# Разбиваем dataframe на train-test"
   ]
  },
  {
   "cell_type": "code",
   "execution_count": 219,
   "metadata": {},
   "outputs": [],
   "source": [
    "X = df2.drop(['Churn'], axis=1)\n",
    "y = df2['Churn']"
   ]
  },
  {
   "cell_type": "code",
   "execution_count": 220,
   "metadata": {},
   "outputs": [],
   "source": [
    "X_train, X_test, y_train, y_test = train_test_split(\n",
    "    X, y, test_size=0.30, random_state=42, stratify=y)"
   ]
  },
  {
   "cell_type": "code",
   "execution_count": 221,
   "metadata": {},
   "outputs": [
    {
     "data": {
      "text/plain": [
       "((4922, 27), (2110, 27), (4922,), (2110,))"
      ]
     },
     "execution_count": 221,
     "metadata": {},
     "output_type": "execute_result"
    }
   ],
   "source": [
    "X_train.shape,X_test.shape,y_train.shape,y_test.shape\n"
   ]
  },
  {
   "cell_type": "code",
   "execution_count": 222,
   "metadata": {},
   "outputs": [],
   "source": [
    "# Проведём несколько вариантов бустинга "
   ]
  },
  {
   "cell_type": "markdown",
   "metadata": {},
   "source": [
    "### sklearn"
   ]
  },
  {
   "cell_type": "code",
   "execution_count": 223,
   "metadata": {},
   "outputs": [],
   "source": [
    "from sklearn.ensemble import GradientBoostingClassifier\n",
    "\n",
    "from sklearn.metrics import accuracy_score\n",
    "\n",
    "\n",
    "est = GradientBoostingClassifier(n_estimators=100, max_depth=3,)\n",
    "est.fit(X_train, y_train)\n",
    "  \n",
    "y_pred = est.predict(X_test)\n",
    "  "
   ]
  },
  {
   "cell_type": "code",
   "execution_count": 224,
   "metadata": {},
   "outputs": [
    {
     "name": "stdout",
     "output_type": "stream",
     "text": [
      "Test quality:\n",
      "Accuracy: 0.793\n",
      "Precision: 0.501\n",
      "Recall: 0.642\n",
      "f1_score: 0.563\n"
     ]
    }
   ],
   "source": [
    "print(\"Test quality:\")\n",
    "quality_report(est.predict(X_test), y_test)"
   ]
  },
  {
   "cell_type": "markdown",
   "metadata": {},
   "source": [
    "### Получил Accuracy: 79.29%. Проверю на XGBoost"
   ]
  },
  {
   "cell_type": "markdown",
   "metadata": {},
   "source": [
    "## XGBoost"
   ]
  },
  {
   "cell_type": "code",
   "execution_count": 225,
   "metadata": {},
   "outputs": [],
   "source": [
    "import xgboost "
   ]
  },
  {
   "cell_type": "code",
   "execution_count": 226,
   "metadata": {},
   "outputs": [
    {
     "data": {
      "text/plain": [
       "XGBClassifier(base_score=0.5, booster='gbtree', colsample_bylevel=1,\n",
       "              colsample_bynode=1, colsample_bytree=1, gamma=0, gpu_id=-1,\n",
       "              importance_type='gain', interaction_constraints='',\n",
       "              learning_rate=0.300000012, max_delta_step=0, max_depth=6,\n",
       "              min_child_weight=1, missing=nan, monotone_constraints='()',\n",
       "              n_estimators=100, n_jobs=0, num_parallel_tree=1, random_state=0,\n",
       "              reg_alpha=0, reg_lambda=1, scale_pos_weight=1, subsample=1,\n",
       "              tree_method='exact', validate_parameters=1, verbosity=None)"
      ]
     },
     "execution_count": 226,
     "metadata": {},
     "output_type": "execute_result"
    }
   ],
   "source": [
    "xgb = xgboost.XGBClassifier()\n",
    "xgb.fit(X_train, y_train)\n",
    "\n"
   ]
  },
  {
   "cell_type": "code",
   "execution_count": 227,
   "metadata": {},
   "outputs": [],
   "source": [
    "y_pred = xgb.predict(X_test)\n",
    " "
   ]
  },
  {
   "cell_type": "code",
   "execution_count": 228,
   "metadata": {},
   "outputs": [
    {
     "name": "stdout",
     "output_type": "stream",
     "text": [
      "Test quality:\n",
      "Accuracy: 0.779\n",
      "Precision: 0.501\n",
      "Recall: 0.602\n",
      "f1_score: 0.547\n"
     ]
    }
   ],
   "source": [
    "print(\"Test quality:\")\n",
    "quality_report(xgb.predict(X_test), y_test)"
   ]
  },
  {
   "cell_type": "markdown",
   "metadata": {},
   "source": [
    "### Получил Accuracy = 77.9%, пока так себе результат.Посмотрим другие алгоритмы     "
   ]
  },
  {
   "cell_type": "markdown",
   "metadata": {},
   "source": [
    "## Catboost"
   ]
  },
  {
   "cell_type": "code",
   "execution_count": 229,
   "metadata": {},
   "outputs": [],
   "source": [
    "from catboost import CatBoostClassifier"
   ]
  },
  {
   "cell_type": "code",
   "execution_count": 230,
   "metadata": {},
   "outputs": [
    {
     "name": "stdout",
     "output_type": "stream",
     "text": [
      "Learning rate set to 0.020346\n",
      "0:\tlearn: 0.6787752\ttotal: 11.2ms\tremaining: 11.2s\n",
      "200:\tlearn: 0.3781619\ttotal: 1.9s\tremaining: 7.55s\n",
      "400:\tlearn: 0.3504429\ttotal: 3.99s\tremaining: 5.95s\n",
      "600:\tlearn: 0.3269471\ttotal: 5.93s\tremaining: 3.94s\n",
      "800:\tlearn: 0.3054440\ttotal: 7.92s\tremaining: 1.97s\n",
      "999:\tlearn: 0.2865514\ttotal: 10s\tremaining: 0us\n"
     ]
    }
   ],
   "source": [
    "params = {'verbose': 200, }\n",
    "\n",
    "cb = CatBoostClassifier(**params)\n",
    "cb.fit(X_train, y_train)\n",
    "y_pred = cb.predict(X_test)\n",
    "\n"
   ]
  },
  {
   "cell_type": "code",
   "execution_count": 231,
   "metadata": {},
   "outputs": [
    {
     "name": "stdout",
     "output_type": "stream",
     "text": [
      "Test quality:\n",
      "Accuracy: 0.790\n",
      "Precision: 0.501\n",
      "Recall: 0.633\n",
      "f1_score: 0.559\n"
     ]
    }
   ],
   "source": [
    "print(\"Test quality:\")\n",
    "quality_report(cb.predict(X_test), y_test)"
   ]
  },
  {
   "cell_type": "markdown",
   "metadata": {},
   "source": [
    "### Accuracy=79% . Проверю на LightGBM"
   ]
  },
  {
   "cell_type": "markdown",
   "metadata": {},
   "source": [
    "## LightGBM"
   ]
  },
  {
   "cell_type": "code",
   "execution_count": 232,
   "metadata": {},
   "outputs": [],
   "source": [
    "import lightgbm as lgb"
   ]
  },
  {
   "cell_type": "code",
   "execution_count": 233,
   "metadata": {},
   "outputs": [],
   "source": [
    "from lightgbm import LGBMClassifier"
   ]
  },
  {
   "cell_type": "code",
   "execution_count": 234,
   "metadata": {},
   "outputs": [],
   "source": [
    "lb = LGBMClassifier()"
   ]
  },
  {
   "cell_type": "code",
   "execution_count": 235,
   "metadata": {},
   "outputs": [],
   "source": [
    "lb.fit(X_train, y_train)\n",
    "y_pred = lb.predict(X_test)"
   ]
  },
  {
   "cell_type": "code",
   "execution_count": 236,
   "metadata": {},
   "outputs": [
    {
     "name": "stdout",
     "output_type": "stream",
     "text": [
      "Test quality:\n",
      "Accuracy: 0.788\n",
      "Precision: 0.508\n",
      "Recall: 0.625\n",
      "f1_score: 0.560\n"
     ]
    }
   ],
   "source": [
    "print(\"Test quality:\")\n",
    "quality_report(lb.predict(X_test), y_test)"
   ]
  },
  {
   "cell_type": "markdown",
   "metadata": {},
   "source": [
    "### Здесь Accuracy = 78.8%. "
   ]
  },
  {
   "cell_type": "markdown",
   "metadata": {},
   "source": [
    "## Настроим гиперпараметры на RandomizedSearchCV"
   ]
  },
  {
   "cell_type": "code",
   "execution_count": 237,
   "metadata": {},
   "outputs": [],
   "source": [
    "from sklearn.model_selection import RandomizedSearchCV"
   ]
  },
  {
   "cell_type": "markdown",
   "metadata": {},
   "source": [
    "### sklearn"
   ]
  },
  {
   "cell_type": "code",
   "execution_count": 238,
   "metadata": {},
   "outputs": [
    {
     "name": "stdout",
     "output_type": "stream",
     "text": [
      "Fitting 5 folds for each of 10 candidates, totalling 50 fits\n"
     ]
    },
    {
     "name": "stderr",
     "output_type": "stream",
     "text": [
      "[Parallel(n_jobs=1)]: Using backend SequentialBackend with 1 concurrent workers.\n",
      "[Parallel(n_jobs=1)]: Done  50 out of  50 | elapsed:  2.4min finished\n"
     ]
    },
    {
     "name": "stdout",
     "output_type": "stream",
     "text": [
      "Test quality:\n",
      "Accuracy: 0.776\n",
      "Precision: 0.494\n",
      "Recall: 0.596\n",
      "f1_score: 0.540\n"
     ]
    }
   ],
   "source": [
    "\n",
    "est = GradientBoostingClassifier()\n",
    "\n",
    "params = {\n",
    "    \"max_depth\":[3,5,8,10],\n",
    "    \"max_features\":[\"auto\",\"log2\",\"sqrt\"],    \n",
    "    \"subsample\":[0.2, 0.4, 0.6, 0.8, 1.0],\n",
    "    \"n_estimators\":[100,150,200]\n",
    "    }\n",
    "\n",
    "\n",
    "\n",
    "rs = RandomizedSearchCV(est,cv=5, verbose=1, param_distributions = params,)\n",
    "rs.fit(X_train, y_train)\n",
    "\n",
    "y_pred = rs.predict(X_test)\n",
    "\n",
    "\n",
    "print(\"Test quality:\")\n",
    "quality_report(rs.predict(X_test), y_test)\n",
    "\n",
    "\n",
    " "
   ]
  },
  {
   "cell_type": "code",
   "execution_count": null,
   "metadata": {},
   "outputs": [],
   "source": []
  },
  {
   "cell_type": "code",
   "execution_count": 268,
   "metadata": {},
   "outputs": [
    {
     "data": {
      "text/plain": [
       "{'subsample': 0.6, 'n_estimators': 150, 'max_features': 'log2', 'max_depth': 8}"
      ]
     },
     "execution_count": 268,
     "metadata": {},
     "output_type": "execute_result"
    }
   ],
   "source": [
    "rs.best_params_"
   ]
  },
  {
   "cell_type": "markdown",
   "metadata": {},
   "source": [
    "## Сделаем то же на GridSearchCV"
   ]
  },
  {
   "cell_type": "code",
   "execution_count": 240,
   "metadata": {},
   "outputs": [],
   "source": [
    "from sklearn.model_selection import GridSearchCV"
   ]
  },
  {
   "cell_type": "code",
   "execution_count": 267,
   "metadata": {},
   "outputs": [
    {
     "name": "stdout",
     "output_type": "stream",
     "text": [
      "Fitting 5 folds for each of 180 candidates, totalling 900 fits\n"
     ]
    },
    {
     "name": "stderr",
     "output_type": "stream",
     "text": [
      "[Parallel(n_jobs=1)]: Using backend SequentialBackend with 1 concurrent workers.\n",
      "[Parallel(n_jobs=1)]: Done 900 out of 900 | elapsed: 29.3min finished\n"
     ]
    },
    {
     "name": "stdout",
     "output_type": "stream",
     "text": [
      "Test quality:\n",
      "Accuracy: 0.803\n",
      "Precision: 0.519\n",
      "Recall: 0.667\n",
      "f1_score: 0.584\n"
     ]
    }
   ],
   "source": [
    "params = {\n",
    "    \"max_depth\":[3,5,8,10],\n",
    "    \"max_features\":[\"auto\",\"log2\",\"sqrt\"],    \n",
    "    \"subsample\":[0.2, 0.4, 0.6, 0.8, 1.0],\n",
    "    \"n_estimators\":[100,150,200]\n",
    "    }\n",
    "\n",
    "\n",
    "\n",
    "grid = GridSearchCV(est,cv=5, verbose=1, param_grid = params,)\n",
    "grid.fit(X_train, y_train)\n",
    "\n",
    "y_pred = grid.predict(X_test)\n",
    "\n",
    "print(\"Test quality:\")\n",
    "quality_report(grid.predict(X_test), y_test)\n"
   ]
  },
  {
   "cell_type": "code",
   "execution_count": 242,
   "metadata": {},
   "outputs": [],
   "source": [
    "grid.best_params_"
   ]
  },
  {
   "cell_type": "markdown",
   "metadata": {},
   "source": [
    "###  RandomizedSearchCV чуть лучше работает,на остальных алгоритмах буду использовать его"
   ]
  },
  {
   "cell_type": "markdown",
   "metadata": {},
   "source": [
    "## XGBoost"
   ]
  },
  {
   "cell_type": "code",
   "execution_count": 243,
   "metadata": {},
   "outputs": [],
   "source": [
    "# Методом тыка получилось следующее"
   ]
  },
  {
   "cell_type": "code",
   "execution_count": 244,
   "metadata": {},
   "outputs": [
    {
     "name": "stdout",
     "output_type": "stream",
     "text": [
      "Fitting 5 folds for each of 10 candidates, totalling 50 fits\n"
     ]
    },
    {
     "name": "stderr",
     "output_type": "stream",
     "text": [
      "[Parallel(n_jobs=1)]: Using backend SequentialBackend with 1 concurrent workers.\n"
     ]
    },
    {
     "name": "stdout",
     "output_type": "stream",
     "text": [
      "Test quality:\n",
      "Accuracy: 0.798\n",
      "Precision: 0.478\n",
      "Recall: 0.667\n",
      "f1_score: 0.557\n"
     ]
    },
    {
     "name": "stderr",
     "output_type": "stream",
     "text": [
      "[Parallel(n_jobs=1)]: Done  50 out of  50 | elapsed:    1.7s finished\n"
     ]
    }
   ],
   "source": [
    "params = {'nthread':[2,4], \n",
    "              'objective':['binary:logistic'],\n",
    "              'learning_rate': [0.1,0.2,0.3],\n",
    "              'max_depth': [4,6,8],\n",
    "              'min_child_weight': [9,10,11],\n",
    "              'subsample': [0.6,0.8,1.0],\n",
    "              'colsample_bytree': [0.5,0.7,0.9],\n",
    "              'n_estimators': [3,5,7]}\n",
    "\n",
    "grid2 = RandomizedSearchCV(xgb,param_distributions=params, cv=5, verbose=1,)\n",
    "grid2.fit(X_train, y_train)\n",
    "\n",
    "y_pred = grid2.predict(X_test)\n",
    "\n",
    "print(\"Test quality:\")\n",
    "quality_report(grid2.predict(X_test), y_test)\n"
   ]
  },
  {
   "cell_type": "code",
   "execution_count": 245,
   "metadata": {},
   "outputs": [
    {
     "data": {
      "text/plain": [
       "{'subsample': 0.8,\n",
       " 'objective': 'binary:logistic',\n",
       " 'nthread': 4,\n",
       " 'n_estimators': 7,\n",
       " 'min_child_weight': 9,\n",
       " 'max_depth': 6,\n",
       " 'learning_rate': 0.2,\n",
       " 'colsample_bytree': 0.5}"
      ]
     },
     "execution_count": 245,
     "metadata": {},
     "output_type": "execute_result"
    }
   ],
   "source": [
    "grid2.best_params_"
   ]
  },
  {
   "cell_type": "code",
   "execution_count": null,
   "metadata": {},
   "outputs": [],
   "source": [
    "# Из \"коробки\"\n",
    "# Test quality:\n",
    "# Accuracy: 0.779\n",
    "# Precision: 0.501\n",
    "# Recall: 0.602\n",
    "# f1_score: 0.547"
   ]
  },
  {
   "cell_type": "code",
   "execution_count": 246,
   "metadata": {},
   "outputs": [],
   "source": [
    "# Лучше,чем из \"коробки\",но не намного"
   ]
  },
  {
   "cell_type": "markdown",
   "metadata": {},
   "source": [
    "## Catboost"
   ]
  },
  {
   "cell_type": "code",
   "execution_count": 260,
   "metadata": {},
   "outputs": [
    {
     "name": "stdout",
     "output_type": "stream",
     "text": [
      "0:\tlearn: 0.6861210\ttotal: 12.9ms\tremaining: 12.9s\n",
      "200:\tlearn: 0.3989391\ttotal: 1.81s\tremaining: 7.19s\n",
      "400:\tlearn: 0.3746325\ttotal: 3.26s\tremaining: 4.88s\n",
      "600:\tlearn: 0.3596342\ttotal: 4.7s\tremaining: 3.12s\n",
      "800:\tlearn: 0.3470335\ttotal: 6.14s\tremaining: 1.53s\n",
      "999:\tlearn: 0.3348074\ttotal: 7.6s\tremaining: 0us\n",
      "0:\tlearn: 0.6861081\ttotal: 7.78ms\tremaining: 7.78s\n",
      "200:\tlearn: 0.4040583\ttotal: 1.44s\tremaining: 5.71s\n",
      "400:\tlearn: 0.3794692\ttotal: 2.88s\tremaining: 4.31s\n",
      "600:\tlearn: 0.3644501\ttotal: 4.57s\tremaining: 3.04s\n",
      "800:\tlearn: 0.3513463\ttotal: 6.04s\tremaining: 1.5s\n",
      "999:\tlearn: 0.3403988\ttotal: 7.49s\tremaining: 0us\n",
      "0:\tlearn: 0.6863442\ttotal: 23.6ms\tremaining: 23.6s\n",
      "200:\tlearn: 0.4083760\ttotal: 1.49s\tremaining: 5.93s\n",
      "400:\tlearn: 0.3833503\ttotal: 2.88s\tremaining: 4.3s\n",
      "600:\tlearn: 0.3673157\ttotal: 4.33s\tremaining: 2.88s\n",
      "800:\tlearn: 0.3532920\ttotal: 5.8s\tremaining: 1.44s\n",
      "999:\tlearn: 0.3417030\ttotal: 7.43s\tremaining: 0us\n",
      "0:\tlearn: 0.6862892\ttotal: 18.5ms\tremaining: 18.4s\n",
      "200:\tlearn: 0.4011135\ttotal: 1.68s\tremaining: 6.67s\n",
      "400:\tlearn: 0.3763174\ttotal: 3.27s\tremaining: 4.88s\n",
      "600:\tlearn: 0.3613985\ttotal: 4.91s\tremaining: 3.26s\n",
      "800:\tlearn: 0.3486499\ttotal: 6.45s\tremaining: 1.6s\n",
      "999:\tlearn: 0.3374167\ttotal: 8.13s\tremaining: 0us\n",
      "0:\tlearn: 0.6860076\ttotal: 16.9ms\tremaining: 16.8s\n",
      "200:\tlearn: 0.3984775\ttotal: 2.1s\tremaining: 8.37s\n",
      "400:\tlearn: 0.3744767\ttotal: 3.98s\tremaining: 5.95s\n",
      "600:\tlearn: 0.3588812\ttotal: 6.08s\tremaining: 4.04s\n",
      "800:\tlearn: 0.3450208\ttotal: 7.83s\tremaining: 1.95s\n",
      "999:\tlearn: 0.3334341\ttotal: 9.53s\tremaining: 0us\n",
      "0:\tlearn: 0.6592124\ttotal: 14.2ms\tremaining: 14.2s\n",
      "200:\tlearn: 0.3330219\ttotal: 1.66s\tremaining: 6.62s\n",
      "400:\tlearn: 0.2862149\ttotal: 3.37s\tremaining: 5.03s\n",
      "600:\tlearn: 0.2524997\ttotal: 4.95s\tremaining: 3.29s\n",
      "800:\tlearn: 0.2273429\ttotal: 6.44s\tremaining: 1.6s\n",
      "999:\tlearn: 0.2055321\ttotal: 7.91s\tremaining: 0us\n",
      "0:\tlearn: 0.6591552\ttotal: 12ms\tremaining: 12s\n",
      "200:\tlearn: 0.3399879\ttotal: 1.49s\tremaining: 5.91s\n",
      "400:\tlearn: 0.2975388\ttotal: 2.96s\tremaining: 4.42s\n",
      "600:\tlearn: 0.2625505\ttotal: 4.37s\tremaining: 2.9s\n",
      "800:\tlearn: 0.2349577\ttotal: 5.86s\tremaining: 1.46s\n",
      "999:\tlearn: 0.2126955\ttotal: 7.57s\tremaining: 0us\n",
      "0:\tlearn: 0.6602761\ttotal: 20.3ms\tremaining: 20.3s\n",
      "200:\tlearn: 0.3426092\ttotal: 1.82s\tremaining: 7.23s\n",
      "400:\tlearn: 0.3002506\ttotal: 3.61s\tremaining: 5.4s\n",
      "600:\tlearn: 0.2673440\ttotal: 5.37s\tremaining: 3.56s\n",
      "800:\tlearn: 0.2404584\ttotal: 6.84s\tremaining: 1.7s\n",
      "999:\tlearn: 0.2174030\ttotal: 8.27s\tremaining: 0us\n",
      "0:\tlearn: 0.6599949\ttotal: 21.2ms\tremaining: 21.2s\n",
      "200:\tlearn: 0.3367994\ttotal: 2.44s\tremaining: 9.69s\n",
      "400:\tlearn: 0.2952127\ttotal: 4.51s\tremaining: 6.74s\n",
      "600:\tlearn: 0.2633418\ttotal: 6.7s\tremaining: 4.45s\n",
      "800:\tlearn: 0.2358622\ttotal: 9.19s\tremaining: 2.28s\n",
      "999:\tlearn: 0.2134084\ttotal: 12.1s\tremaining: 0us\n",
      "0:\tlearn: 0.6586799\ttotal: 18.2ms\tremaining: 18.1s\n",
      "200:\tlearn: 0.3294874\ttotal: 1.78s\tremaining: 7.07s\n",
      "400:\tlearn: 0.2821828\ttotal: 3.48s\tremaining: 5.19s\n",
      "600:\tlearn: 0.2518213\ttotal: 5.01s\tremaining: 3.33s\n",
      "800:\tlearn: 0.2263420\ttotal: 6.48s\tremaining: 1.61s\n",
      "999:\tlearn: 0.2071167\ttotal: 7.91s\tremaining: 0us\n",
      "0:\tlearn: 0.6282483\ttotal: 13.3ms\tremaining: 13.3s\n",
      "200:\tlearn: 0.2894782\ttotal: 1.5s\tremaining: 5.97s\n",
      "400:\tlearn: 0.2264829\ttotal: 2.94s\tremaining: 4.4s\n",
      "600:\tlearn: 0.1853376\ttotal: 4.38s\tremaining: 2.91s\n",
      "800:\tlearn: 0.1577230\ttotal: 5.82s\tremaining: 1.45s\n",
      "999:\tlearn: 0.1345504\ttotal: 7.29s\tremaining: 0us\n",
      "0:\tlearn: 0.6281518\ttotal: 17.7ms\tremaining: 17.7s\n",
      "200:\tlearn: 0.2956531\ttotal: 1.49s\tremaining: 5.9s\n",
      "400:\tlearn: 0.2319142\ttotal: 2.92s\tremaining: 4.37s\n",
      "600:\tlearn: 0.1917392\ttotal: 4.32s\tremaining: 2.87s\n",
      "800:\tlearn: 0.1627664\ttotal: 5.76s\tremaining: 1.43s\n",
      "999:\tlearn: 0.1399709\ttotal: 7.27s\tremaining: 0us\n",
      "0:\tlearn: 0.6302463\ttotal: 28.1ms\tremaining: 28.1s\n",
      "200:\tlearn: 0.3014059\ttotal: 1.51s\tremaining: 6.02s\n",
      "400:\tlearn: 0.2410487\ttotal: 2.95s\tremaining: 4.4s\n",
      "600:\tlearn: 0.1962265\ttotal: 4.38s\tremaining: 2.9s\n",
      "800:\tlearn: 0.1679713\ttotal: 5.84s\tremaining: 1.45s\n",
      "999:\tlearn: 0.1449247\ttotal: 7.39s\tremaining: 0us\n",
      "0:\tlearn: 0.6296701\ttotal: 23.7ms\tremaining: 23.6s\n",
      "200:\tlearn: 0.2953683\ttotal: 1.65s\tremaining: 6.54s\n",
      "400:\tlearn: 0.2362316\ttotal: 3.25s\tremaining: 4.85s\n",
      "600:\tlearn: 0.1943599\ttotal: 5.01s\tremaining: 3.33s\n",
      "800:\tlearn: 0.1657855\ttotal: 6.62s\tremaining: 1.64s\n",
      "999:\tlearn: 0.1415513\ttotal: 8.73s\tremaining: 0us\n",
      "0:\tlearn: 0.6272677\ttotal: 21.3ms\tremaining: 21.2s\n",
      "200:\tlearn: 0.2844698\ttotal: 2.11s\tremaining: 8.37s\n",
      "400:\tlearn: 0.2255370\ttotal: 3.82s\tremaining: 5.71s\n",
      "600:\tlearn: 0.1878983\ttotal: 5.32s\tremaining: 3.53s\n",
      "800:\tlearn: 0.1597550\ttotal: 6.8s\tremaining: 1.69s\n",
      "999:\tlearn: 0.1364710\ttotal: 8.28s\tremaining: 0us\n",
      "0:\tlearn: 0.6861210\ttotal: 22.7ms\tremaining: 22.6s\n",
      "200:\tlearn: 0.3840384\ttotal: 2.82s\tremaining: 11.2s\n",
      "400:\tlearn: 0.3453076\ttotal: 6.22s\tremaining: 9.29s\n",
      "600:\tlearn: 0.3206401\ttotal: 9.17s\tremaining: 6.09s\n",
      "800:\tlearn: 0.3000436\ttotal: 12.8s\tremaining: 3.18s\n",
      "999:\tlearn: 0.2837353\ttotal: 15.6s\tremaining: 0us\n",
      "0:\tlearn: 0.6861081\ttotal: 17.2ms\tremaining: 17.1s\n",
      "200:\tlearn: 0.3872835\ttotal: 2.51s\tremaining: 9.98s\n",
      "400:\tlearn: 0.3483580\ttotal: 5.08s\tremaining: 7.6s\n",
      "600:\tlearn: 0.3238606\ttotal: 7.61s\tremaining: 5.05s\n",
      "800:\tlearn: 0.3032669\ttotal: 10.2s\tremaining: 2.53s\n",
      "999:\tlearn: 0.2884496\ttotal: 13.1s\tremaining: 0us\n",
      "0:\tlearn: 0.6863442\ttotal: 18.5ms\tremaining: 18.5s\n",
      "200:\tlearn: 0.3904760\ttotal: 2.64s\tremaining: 10.5s\n",
      "400:\tlearn: 0.3531118\ttotal: 5.28s\tremaining: 7.89s\n",
      "600:\tlearn: 0.3269442\ttotal: 8.61s\tremaining: 5.71s\n",
      "800:\tlearn: 0.3050964\ttotal: 12.1s\tremaining: 3s\n",
      "999:\tlearn: 0.2898327\ttotal: 15.6s\tremaining: 0us\n",
      "0:\tlearn: 0.6862892\ttotal: 28.2ms\tremaining: 28.2s\n",
      "200:\tlearn: 0.3844997\ttotal: 3.51s\tremaining: 14s\n",
      "400:\tlearn: 0.3469875\ttotal: 7.08s\tremaining: 10.6s\n",
      "600:\tlearn: 0.3226352\ttotal: 10.4s\tremaining: 6.88s\n",
      "800:\tlearn: 0.3022428\ttotal: 13.6s\tremaining: 3.37s\n",
      "999:\tlearn: 0.2867821\ttotal: 16.9s\tremaining: 0us\n",
      "0:\tlearn: 0.6860076\ttotal: 23.3ms\tremaining: 23.3s\n",
      "200:\tlearn: 0.3816953\ttotal: 3.55s\tremaining: 14.1s\n",
      "400:\tlearn: 0.3424625\ttotal: 6.52s\tremaining: 9.74s\n",
      "600:\tlearn: 0.3170941\ttotal: 9.38s\tremaining: 6.23s\n",
      "800:\tlearn: 0.2962384\ttotal: 12.2s\tremaining: 3.03s\n",
      "999:\tlearn: 0.2799538\ttotal: 15.3s\tremaining: 0us\n",
      "0:\tlearn: 0.6592124\ttotal: 8.2ms\tremaining: 8.2s\n",
      "200:\tlearn: 0.2836138\ttotal: 2.78s\tremaining: 11.1s\n",
      "400:\tlearn: 0.2265493\ttotal: 5.65s\tremaining: 8.44s\n",
      "600:\tlearn: 0.1885560\ttotal: 8.56s\tremaining: 5.68s\n",
      "800:\tlearn: 0.1602971\ttotal: 11.3s\tremaining: 2.82s\n",
      "999:\tlearn: 0.1382143\ttotal: 14s\tremaining: 0us\n",
      "0:\tlearn: 0.6591552\ttotal: 14.2ms\tremaining: 14.1s\n",
      "200:\tlearn: 0.2893738\ttotal: 2.67s\tremaining: 10.6s\n",
      "400:\tlearn: 0.2360122\ttotal: 5.43s\tremaining: 8.11s\n",
      "600:\tlearn: 0.1952525\ttotal: 8.1s\tremaining: 5.38s\n",
      "800:\tlearn: 0.1664949\ttotal: 10.8s\tremaining: 2.69s\n",
      "999:\tlearn: 0.1445482\ttotal: 13.6s\tremaining: 0us\n",
      "0:\tlearn: 0.6602761\ttotal: 24.5ms\tremaining: 24.5s\n",
      "200:\tlearn: 0.2898177\ttotal: 2.72s\tremaining: 10.8s\n",
      "400:\tlearn: 0.2388157\ttotal: 5.37s\tremaining: 8.02s\n",
      "600:\tlearn: 0.2024322\ttotal: 8.24s\tremaining: 5.47s\n",
      "800:\tlearn: 0.1723700\ttotal: 10.9s\tremaining: 2.71s\n",
      "999:\tlearn: 0.1490632\ttotal: 13.5s\tremaining: 0us\n",
      "0:\tlearn: 0.6599949\ttotal: 13.1ms\tremaining: 13.1s\n",
      "200:\tlearn: 0.2889858\ttotal: 2.66s\tremaining: 10.6s\n",
      "400:\tlearn: 0.2366665\ttotal: 5.32s\tremaining: 7.95s\n",
      "600:\tlearn: 0.1972189\ttotal: 8.03s\tremaining: 5.33s\n",
      "800:\tlearn: 0.1691161\ttotal: 10.7s\tremaining: 2.65s\n",
      "999:\tlearn: 0.1478734\ttotal: 13.3s\tremaining: 0us\n",
      "0:\tlearn: 0.6586799\ttotal: 14.6ms\tremaining: 14.6s\n",
      "200:\tlearn: 0.2797219\ttotal: 2.57s\tremaining: 10.2s\n",
      "400:\tlearn: 0.2228037\ttotal: 5.43s\tremaining: 8.11s\n",
      "600:\tlearn: 0.1838949\ttotal: 8.01s\tremaining: 5.32s\n",
      "800:\tlearn: 0.1582479\ttotal: 10.6s\tremaining: 2.63s\n",
      "999:\tlearn: 0.1387182\ttotal: 13.1s\tremaining: 0us\n",
      "0:\tlearn: 0.6282483\ttotal: 16.2ms\tremaining: 16.2s\n",
      "200:\tlearn: 0.2232529\ttotal: 2.6s\tremaining: 10.3s\n",
      "400:\tlearn: 0.1546061\ttotal: 5.16s\tremaining: 7.71s\n",
      "600:\tlearn: 0.1178322\ttotal: 7.71s\tremaining: 5.12s\n",
      "800:\tlearn: 0.0934062\ttotal: 10.3s\tremaining: 2.55s\n",
      "999:\tlearn: 0.0775064\ttotal: 12.8s\tremaining: 0us\n",
      "0:\tlearn: 0.6281518\ttotal: 14.4ms\tremaining: 14.4s\n",
      "200:\tlearn: 0.2337686\ttotal: 2.59s\tremaining: 10.3s\n",
      "400:\tlearn: 0.1608681\ttotal: 5.35s\tremaining: 7.99s\n",
      "600:\tlearn: 0.1207869\ttotal: 7.89s\tremaining: 5.24s\n",
      "800:\tlearn: 0.0959393\ttotal: 10.5s\tremaining: 2.61s\n",
      "999:\tlearn: 0.0806265\ttotal: 13.1s\tremaining: 0us\n",
      "0:\tlearn: 0.6302463\ttotal: 9.85ms\tremaining: 9.84s\n",
      "200:\tlearn: 0.2409245\ttotal: 2.55s\tremaining: 10.1s\n",
      "400:\tlearn: 0.1723537\ttotal: 5.09s\tremaining: 7.6s\n",
      "600:\tlearn: 0.1301458\ttotal: 7.66s\tremaining: 5.09s\n",
      "800:\tlearn: 0.1006186\ttotal: 10.2s\tremaining: 2.54s\n",
      "999:\tlearn: 0.0819221\ttotal: 12.8s\tremaining: 0us\n",
      "0:\tlearn: 0.6296701\ttotal: 22.5ms\tremaining: 22.5s\n",
      "200:\tlearn: 0.2348283\ttotal: 2.61s\tremaining: 10.4s\n",
      "400:\tlearn: 0.1628610\ttotal: 5.33s\tremaining: 7.96s\n",
      "600:\tlearn: 0.1238277\ttotal: 8.01s\tremaining: 5.32s\n",
      "800:\tlearn: 0.1003224\ttotal: 10.6s\tremaining: 2.63s\n",
      "999:\tlearn: 0.0831659\ttotal: 13.1s\tremaining: 0us\n",
      "0:\tlearn: 0.6272677\ttotal: 13ms\tremaining: 13s\n",
      "200:\tlearn: 0.2227640\ttotal: 2.6s\tremaining: 10.3s\n",
      "400:\tlearn: 0.1571848\ttotal: 5.17s\tremaining: 7.72s\n",
      "600:\tlearn: 0.1188844\ttotal: 7.74s\tremaining: 5.14s\n",
      "800:\tlearn: 0.0953591\ttotal: 10.3s\tremaining: 2.56s\n",
      "999:\tlearn: 0.0770142\ttotal: 12.9s\tremaining: 0us\n",
      "0:\tlearn: 0.6861210\ttotal: 10.5ms\tremaining: 10.5s\n",
      "200:\tlearn: 0.3668483\ttotal: 6.6s\tremaining: 26.2s\n",
      "400:\tlearn: 0.3132465\ttotal: 13.7s\tremaining: 20.4s\n",
      "600:\tlearn: 0.2784908\ttotal: 20.7s\tremaining: 13.7s\n",
      "800:\tlearn: 0.2515906\ttotal: 28s\tremaining: 6.95s\n",
      "999:\tlearn: 0.2328648\ttotal: 35.3s\tremaining: 0us\n",
      "0:\tlearn: 0.6861081\ttotal: 9.7ms\tremaining: 9.7s\n",
      "200:\tlearn: 0.3691341\ttotal: 6.4s\tremaining: 25.4s\n",
      "400:\tlearn: 0.3138754\ttotal: 13.5s\tremaining: 20.2s\n",
      "600:\tlearn: 0.2793657\ttotal: 20.7s\tremaining: 13.7s\n",
      "800:\tlearn: 0.2528107\ttotal: 27.8s\tremaining: 6.9s\n",
      "999:\tlearn: 0.2342157\ttotal: 35s\tremaining: 0us\n",
      "0:\tlearn: 0.6863442\ttotal: 9.66ms\tremaining: 9.65s\n",
      "200:\tlearn: 0.3714041\ttotal: 6.58s\tremaining: 26.1s\n",
      "400:\tlearn: 0.3149591\ttotal: 14s\tremaining: 20.9s\n",
      "600:\tlearn: 0.2802235\ttotal: 21.5s\tremaining: 14.2s\n",
      "800:\tlearn: 0.2533981\ttotal: 28.9s\tremaining: 7.19s\n",
      "999:\tlearn: 0.2351743\ttotal: 36.6s\tremaining: 0us\n",
      "0:\tlearn: 0.6862892\ttotal: 9.16ms\tremaining: 9.15s\n",
      "200:\tlearn: 0.3638892\ttotal: 6.65s\tremaining: 26.4s\n",
      "400:\tlearn: 0.3102958\ttotal: 14.7s\tremaining: 21.9s\n",
      "600:\tlearn: 0.2750220\ttotal: 23.2s\tremaining: 15.4s\n",
      "800:\tlearn: 0.2492670\ttotal: 30.3s\tremaining: 7.54s\n",
      "999:\tlearn: 0.2301918\ttotal: 39.6s\tremaining: 0us\n",
      "0:\tlearn: 0.6860076\ttotal: 9.97ms\tremaining: 9.96s\n",
      "200:\tlearn: 0.3641641\ttotal: 6.89s\tremaining: 27.4s\n",
      "400:\tlearn: 0.3068797\ttotal: 14.2s\tremaining: 21.3s\n",
      "600:\tlearn: 0.2712870\ttotal: 21.7s\tremaining: 14.4s\n",
      "800:\tlearn: 0.2435447\ttotal: 29.5s\tremaining: 7.32s\n",
      "999:\tlearn: 0.2233843\ttotal: 37.1s\tremaining: 0us\n",
      "0:\tlearn: 0.6592124\ttotal: 10.8ms\tremaining: 10.8s\n",
      "200:\tlearn: 0.2325182\ttotal: 7.34s\tremaining: 29.2s\n",
      "400:\tlearn: 0.1709953\ttotal: 15.2s\tremaining: 22.7s\n",
      "600:\tlearn: 0.1345854\ttotal: 23s\tremaining: 15.2s\n",
      "800:\tlearn: 0.1081865\ttotal: 30.7s\tremaining: 7.62s\n",
      "999:\tlearn: 0.0918864\ttotal: 38.5s\tremaining: 0us\n",
      "0:\tlearn: 0.6591552\ttotal: 13.2ms\tremaining: 13.1s\n",
      "200:\tlearn: 0.2355863\ttotal: 7.38s\tremaining: 29.4s\n",
      "400:\tlearn: 0.1818550\ttotal: 15s\tremaining: 22.5s\n",
      "600:\tlearn: 0.1424486\ttotal: 22.8s\tremaining: 15.1s\n",
      "800:\tlearn: 0.1168126\ttotal: 30.4s\tremaining: 7.55s\n",
      "999:\tlearn: 0.0977309\ttotal: 38s\tremaining: 0us\n",
      "0:\tlearn: 0.6602761\ttotal: 25ms\tremaining: 25s\n",
      "200:\tlearn: 0.2335222\ttotal: 7.45s\tremaining: 29.6s\n",
      "400:\tlearn: 0.1811135\ttotal: 14.9s\tremaining: 22.3s\n",
      "600:\tlearn: 0.1433352\ttotal: 22.5s\tremaining: 15s\n",
      "800:\tlearn: 0.1163283\ttotal: 30.3s\tremaining: 7.52s\n",
      "999:\tlearn: 0.0955466\ttotal: 38s\tremaining: 0us\n",
      "0:\tlearn: 0.6599949\ttotal: 7.04ms\tremaining: 7.03s\n",
      "200:\tlearn: 0.2333250\ttotal: 7.23s\tremaining: 28.7s\n",
      "400:\tlearn: 0.1743038\ttotal: 15s\tremaining: 22.4s\n",
      "600:\tlearn: 0.1362027\ttotal: 22.7s\tremaining: 15.1s\n",
      "800:\tlearn: 0.1104744\ttotal: 30.4s\tremaining: 7.55s\n",
      "999:\tlearn: 0.0950437\ttotal: 38.1s\tremaining: 0us\n",
      "0:\tlearn: 0.6586799\ttotal: 11.5ms\tremaining: 11.5s\n",
      "200:\tlearn: 0.2212949\ttotal: 7.46s\tremaining: 29.7s\n",
      "400:\tlearn: 0.1631180\ttotal: 15.1s\tremaining: 22.5s\n",
      "600:\tlearn: 0.1330135\ttotal: 22.7s\tremaining: 15.1s\n",
      "800:\tlearn: 0.1097515\ttotal: 30.5s\tremaining: 7.58s\n",
      "999:\tlearn: 0.0948741\ttotal: 38.2s\tremaining: 0us\n",
      "0:\tlearn: 0.6282483\ttotal: 12.6ms\tremaining: 12.6s\n",
      "200:\tlearn: 0.1748862\ttotal: 7.59s\tremaining: 30.2s\n",
      "400:\tlearn: 0.1113592\ttotal: 15.3s\tremaining: 22.9s\n",
      "600:\tlearn: 0.0797559\ttotal: 23s\tremaining: 15.3s\n",
      "800:\tlearn: 0.0621798\ttotal: 30.8s\tremaining: 7.64s\n",
      "999:\tlearn: 0.0487005\ttotal: 38.5s\tremaining: 0us\n",
      "0:\tlearn: 0.6281518\ttotal: 9.2ms\tremaining: 9.19s\n",
      "200:\tlearn: 0.1766825\ttotal: 7.75s\tremaining: 30.8s\n",
      "400:\tlearn: 0.1125468\ttotal: 15.4s\tremaining: 23s\n",
      "600:\tlearn: 0.0807335\ttotal: 23.3s\tremaining: 15.4s\n",
      "800:\tlearn: 0.0623103\ttotal: 31.8s\tremaining: 7.9s\n",
      "999:\tlearn: 0.0516356\ttotal: 39.4s\tremaining: 0us\n",
      "0:\tlearn: 0.6302463\ttotal: 21ms\tremaining: 21s\n",
      "200:\tlearn: 0.1779921\ttotal: 8.09s\tremaining: 32.1s\n",
      "400:\tlearn: 0.1124744\ttotal: 15.6s\tremaining: 23.4s\n",
      "600:\tlearn: 0.0800574\ttotal: 23.6s\tremaining: 15.7s\n",
      "800:\tlearn: 0.0606144\ttotal: 33.3s\tremaining: 8.27s\n",
      "999:\tlearn: 0.0496348\ttotal: 41.5s\tremaining: 0us\n",
      "0:\tlearn: 0.6296701\ttotal: 8.14ms\tremaining: 8.13s\n",
      "200:\tlearn: 0.1725870\ttotal: 7.4s\tremaining: 29.4s\n",
      "400:\tlearn: 0.1126524\ttotal: 15.1s\tremaining: 22.5s\n",
      "600:\tlearn: 0.0822664\ttotal: 22.6s\tremaining: 15s\n",
      "800:\tlearn: 0.0624770\ttotal: 30.1s\tremaining: 7.48s\n",
      "999:\tlearn: 0.0493941\ttotal: 37.7s\tremaining: 0us\n",
      "0:\tlearn: 0.6272677\ttotal: 32ms\tremaining: 31.9s\n",
      "200:\tlearn: 0.1631303\ttotal: 7.47s\tremaining: 29.7s\n",
      "400:\tlearn: 0.1039065\ttotal: 15s\tremaining: 22.3s\n",
      "600:\tlearn: 0.0755298\ttotal: 22.6s\tremaining: 15s\n",
      "800:\tlearn: 0.0573076\ttotal: 30.2s\tremaining: 7.51s\n",
      "999:\tlearn: 0.0465440\ttotal: 37.8s\tremaining: 0us\n",
      "0:\tlearn: 0.6861123\ttotal: 21.2ms\tremaining: 21.1s\n",
      "200:\tlearn: 0.4044885\ttotal: 1.82s\tremaining: 7.22s\n",
      "400:\tlearn: 0.3828297\ttotal: 3.37s\tremaining: 5.04s\n",
      "600:\tlearn: 0.3695025\ttotal: 5.06s\tremaining: 3.36s\n",
      "800:\tlearn: 0.3587610\ttotal: 6.7s\tremaining: 1.66s\n",
      "999:\tlearn: 0.3489421\ttotal: 8.29s\tremaining: 0us\n",
      "Test quality:\n",
      "Accuracy: 0.793\n",
      "Precision: 0.496\n",
      "Recall: 0.644\n",
      "f1_score: 0.560\n"
     ]
    }
   ],
   "source": [
    "\n",
    "params = {'depth': [6,8,10],\n",
    "          'l2_leaf_reg': [9],\n",
    "          'learning_rate' : [0.01, 0.05, 0.1],\n",
    "          'leaf_estimation_iterations': [10],\n",
    "         }\n",
    "\n",
    "\n",
    "cb2 = RandomizedSearchCV(cb, param_distributions=params,cv=5)\n",
    "cb2.fit(X_train, y_train)\n",
    "\n",
    "y_pred = cb2.predict(X_test)\n",
    "\n",
    "print(\"Test quality:\")\n",
    "quality_report(cb2.predict(X_test), y_test)\n",
    "\n"
   ]
  },
  {
   "cell_type": "code",
   "execution_count": 261,
   "metadata": {},
   "outputs": [
    {
     "data": {
      "text/plain": [
       "{'learning_rate': 0.01,\n",
       " 'leaf_estimation_iterations': 10,\n",
       " 'l2_leaf_reg': 9,\n",
       " 'depth': 6}"
      ]
     },
     "execution_count": 261,
     "metadata": {},
     "output_type": "execute_result"
    }
   ],
   "source": [
    " cb2.best_params_"
   ]
  },
  {
   "cell_type": "code",
   "execution_count": null,
   "metadata": {},
   "outputs": [],
   "source": [
    "# Результаты из \"коробки\"\n",
    "# Test quality:\n",
    "# Accuracy: 0.790\n",
    "# Precision: 0.501\n",
    "# Recall: 0.633\n",
    "# f1_score: 0.559"
   ]
  },
  {
   "cell_type": "markdown",
   "metadata": {},
   "source": [
    "## LightGBM"
   ]
  },
  {
   "cell_type": "code",
   "execution_count": 265,
   "metadata": {},
   "outputs": [
    {
     "name": "stdout",
     "output_type": "stream",
     "text": [
      "Fitting 5 folds for each of 10 candidates, totalling 50 fits\n"
     ]
    },
    {
     "name": "stderr",
     "output_type": "stream",
     "text": [
      "[Parallel(n_jobs=1)]: Using backend SequentialBackend with 1 concurrent workers.\n"
     ]
    },
    {
     "name": "stdout",
     "output_type": "stream",
     "text": [
      "Test quality:\n",
      "Accuracy: 0.795\n",
      "Precision: 0.513\n",
      "Recall: 0.644\n",
      "f1_score: 0.571\n"
     ]
    },
    {
     "name": "stderr",
     "output_type": "stream",
     "text": [
      "[Parallel(n_jobs=1)]: Done  50 out of  50 | elapsed:    9.3s finished\n"
     ]
    }
   ],
   "source": [
    "params = {\n",
    "    'learning_rate': [0.01, 0.05, 0.1],\n",
    "    'num_leaves': [90,200],\n",
    "    'max_depth' : [5,6,7,8],\n",
    "    'random_state' : [501], \n",
    "    'colsample_bytree' : [0.5,0.7],\n",
    "    'subsample' : [0.5,0.7],\n",
    "    'min_split_gain' : [0.01],\n",
    "    'min_data_in_leaf':[10],\n",
    "     }\n",
    "lb2 = RandomizedSearchCV(lb,params,verbose=1,cv=5,n_iter=10)\n",
    "\n",
    "lb2.fit(X_train, y_train)\n",
    "y_pred = lb2.predict(X_test)\n",
    "\n",
    "print(\"Test quality:\")\n",
    "quality_report(lb2.predict(X_test), y_test)\n",
    "\n",
    "\n"
   ]
  },
  {
   "cell_type": "code",
   "execution_count": 266,
   "metadata": {},
   "outputs": [
    {
     "data": {
      "text/plain": [
       "{'subsample': 0.7,\n",
       " 'random_state': 501,\n",
       " 'num_leaves': 200,\n",
       " 'min_split_gain': 0.01,\n",
       " 'min_data_in_leaf': 10,\n",
       " 'max_depth': 6,\n",
       " 'learning_rate': 0.05,\n",
       " 'colsample_bytree': 0.5}"
      ]
     },
     "execution_count": 266,
     "metadata": {},
     "output_type": "execute_result"
    }
   ],
   "source": [
    " lb2.best_params_"
   ]
  },
  {
   "cell_type": "code",
   "execution_count": null,
   "metadata": {},
   "outputs": [],
   "source": [
    "# Из \"коробки\"\n",
    "# Test quality:\n",
    "# Accuracy: 0.788\n",
    "# Precision: 0.508\n",
    "# Recall: 0.625\n",
    "# f1_score: 0.560"
   ]
  },
  {
   "cell_type": "markdown",
   "metadata": {},
   "source": [
    "## Выводы:"
   ]
  },
  {
   "cell_type": "markdown",
   "metadata": {},
   "source": [
    "### Настройки из \"коробки\" на всех алгоритмах работают очень хорошо,и не всегда имеет смысл тратить время на доп.настройки\n",
    "### Все алгоритмы отработали примерно на одинаковые результаты. Критических отличий нет.\n",
    "### Думаю,что на разных датафреймах они работают по-разному"
   ]
  },
  {
   "cell_type": "code",
   "execution_count": null,
   "metadata": {},
   "outputs": [],
   "source": []
  }
 ],
 "metadata": {
  "kernelspec": {
   "display_name": "Python 3",
   "language": "python",
   "name": "python3"
  },
  "language_info": {
   "codemirror_mode": {
    "name": "ipython",
    "version": 3
   },
   "file_extension": ".py",
   "mimetype": "text/x-python",
   "name": "python",
   "nbconvert_exporter": "python",
   "pygments_lexer": "ipython3",
   "version": "3.8.3"
  }
 },
 "nbformat": 4,
 "nbformat_minor": 4
}
